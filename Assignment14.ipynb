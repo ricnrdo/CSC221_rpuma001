{
  "nbformat": 4,
  "nbformat_minor": 0,
  "metadata": {
    "colab": {
      "provenance": [],
      "authorship_tag": "ABX9TyMtAfs/gKsyfiOBxr04JNxq",
      "include_colab_link": true
    },
    "kernelspec": {
      "name": "python3",
      "display_name": "Python 3"
    },
    "language_info": {
      "name": "python"
    }
  },
  "cells": [
    {
      "cell_type": "markdown",
      "metadata": {
        "id": "view-in-github",
        "colab_type": "text"
      },
      "source": [
        "<a href=\"https://colab.research.google.com/github/ricnrdo/CSC221_rpuma001/blob/main/Assignment14.ipynb\" target=\"_parent\"><img src=\"https://colab.research.google.com/assets/colab-badge.svg\" alt=\"Open In Colab\"/></a>"
      ]
    },
    {
      "cell_type": "code",
      "execution_count": null,
      "metadata": {
        "colab": {
          "base_uri": "https://localhost:8080/"
        },
        "id": "T5BJsD1DeKNK",
        "outputId": "1684449b-daa8-471c-f895-9b4da66ce196"
      },
      "outputs": [
        {
          "output_type": "stream",
          "name": "stdout",
          "text": [
            "You can enter a number and any of these operators: +, -, *, or /\n",
            "Starting value: 0\n",
            "What would you like to calculate?\n",
            "39\n",
            "Seems like you forgot to input something\n",
            "What would you like to calculate?\n",
            "20 - 4\n",
            "16.0\n",
            "What would you like to calculate?\n",
            "393 / 32\n",
            "12.28125\n",
            "What would you like to calculate?\n",
            "294 * 2\n",
            "588.0\n",
            "What would you like to calculate?\n",
            "2932 * .5\n",
            "1466.0\n",
            "What would you like to calculate?\n",
            "21903432 .0005\n",
            "Seems like you forgot to input something\n",
            "What would you like to calculate?\n",
            "2394 * .0005\n",
            "1.197\n",
            "What would you like to calculate?\n",
            "20 /4\n",
            "Seems like you forgot to input something\n",
            "What would you like to calculate?\n",
            "20 / 0\n",
            "= You cannot divide by zero\n",
            "What would you like to calculate?\n",
            "30/3\n",
            "Please leave a space before and after an operator. Example: 34 + 39\n",
            "Program was Interrupted. Restart the calculator.\n",
            "Program was Interrupted. Restart the calculator.\n",
            "What would you like to calculate?\n",
            "3\n",
            "Seems like you forgot to input something\n",
            "Program was Interrupted. Restart the calculator.\n",
            "Program was Interrupted. Restart the calculator.\n"
          ]
        }
      ],
      "source": [
        "# Calculator\n",
        "\n",
        "total = 0\n",
        "\n",
        "print(\"You can enter a number and any of these operators: +, -, *, or /\")\n",
        "print(\"Starting value: 0\")\n",
        "\n",
        "while True:\n",
        "  result = 0\n",
        "\n",
        "  try:\n",
        "    ask_number = input(\"What would you like to calculate?\\n\")\n",
        "\n",
        "    ask_number = ask_number.split(\" \")\n",
        "    first_number = float(ask_number[0])\n",
        "    operator = ask_number[1]\n",
        "    second_number = float(ask_number[2])\n",
        "\n",
        "    if operator == \"+\":\n",
        "      result = first_number + second_number\n",
        "      print(result)\n",
        "    elif operator == \"-\":\n",
        "      result = first_number - second_number\n",
        "      print(result)\n",
        "    elif operator == \"*\":\n",
        "      result = first_number * second_number\n",
        "      print(result)\n",
        "    elif operator == \"/\":\n",
        "      result = first_number / second_number\n",
        "      print(result)\n",
        "    else:\n",
        "      print(\"Something went wrong\")\n",
        "  except IndexError:\n",
        "    print(\"Seems like you forgot to input something\")\n",
        "  except ZeroDivisionError:\n",
        "    print(\"= You cannot divide by zero\")\n",
        "  except ValueError:\n",
        "    print(\"Please leave a space before and after an operator. Example: 34 + 39\")"
      ]
    },
    {
      "cell_type": "code",
      "source": [
        "# Assignment 13 Modification:\n",
        "\n",
        "received_files = [\"as_received1.txt\", \"as_received2.txt\", \"as_received3.txt\"]\n",
        "lines = set()\n",
        "first_line = \"Name, Email, Phone, Pastimes\\n\"\n",
        "\n",
        "try:\n",
        "  for filename in received_files:\n",
        "    with open(filename, \"r\") as file:\n",
        "      for line in file:\n",
        "        try:\n",
        "          line = line.replace(\"nnn\", \"nn\").replace('++', '+').replace('0O', '00').replace('_dot_com', '.com').replace('swiming', 'swimming').replace('platsburgh', 'plattsburgh').replace('plattsburgh', 'plattsburgh').replace('platsburg', 'plattsburgh').replace('plattsberg', 'plattsburgh').replace('_', ' ', 7).replace(\"plattsburg\", \"plattsburgh\").replace(\"plattsburghh\", \"plattsburgh\")\n",
        "          lines.add(line)\n",
        "        except Exception as e:\n",
        "          print(f\"Error in file {filename}: {e}\")\n",
        "\n",
        "  lines = sorted(lines)\n",
        "\n",
        "  if first_line in lines:\n",
        "    index = lines.index(first_line)\n",
        "    lines.pop(index)\n",
        "\n",
        "  lines.insert(0, first_line)\n",
        "\n",
        "  with open(\"correct.txt\", \"w\") as correct_file:\n",
        "    correct_file.write(\"\".join(lines))\n",
        "except FileNotFoundError as e:\n",
        "  print(f\"Error: {e}\")"
      ],
      "metadata": {
        "id": "hStKu76wrr9z"
      },
      "execution_count": 1,
      "outputs": []
    },
    {
      "cell_type": "code",
      "source": [
        "try:\n",
        "  correctFile = open(\"correct.txt\", \"r\")\n",
        "  sourceFile = open(\"source.txt\", \"r\")\n",
        "\n",
        "  correctFile = correctFile.read()\n",
        "  sourceFile = sourceFile.read()\n",
        "\n",
        "  if correctFile == sourceFile:\n",
        "    print(\"Both files contain same data\")\n",
        "  else:\n",
        "    print(\"These files have different data\")\n",
        "\n",
        "except FileNotFoundError as e:\n",
        "    print(f\"Error: {e}\")\n",
        "except Exception as e:\n",
        "    print(f\"An error occurred: {e}\")\n",
        "\n",
        "# Cannot compare every single line but comparing a few it seems like everything is correct in the correct.txt\n",
        "# but in the source.txt it is not sorted, like for some lines V goes first and then S. No idea why it happens\n",
        "# nor how to fix it."
      ],
      "metadata": {
        "id": "nB-zqouDrxP8"
      },
      "execution_count": null,
      "outputs": []
    }
  ]
}