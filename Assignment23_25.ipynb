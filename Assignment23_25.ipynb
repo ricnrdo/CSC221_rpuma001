{
  "nbformat": 4,
  "nbformat_minor": 0,
  "metadata": {
    "colab": {
      "provenance": [],
      "authorship_tag": "ABX9TyN1KVQMhKI6PnCTh0BuPcTn",
      "include_colab_link": true
    },
    "kernelspec": {
      "name": "python3",
      "display_name": "Python 3"
    },
    "language_info": {
      "name": "python"
    }
  },
  "cells": [
    {
      "cell_type": "markdown",
      "metadata": {
        "id": "view-in-github",
        "colab_type": "text"
      },
      "source": [
        "<a href=\"https://colab.research.google.com/github/ricnrdo/CSC221_rpuma001/blob/main/Assignment23_25.ipynb\" target=\"_parent\"><img src=\"https://colab.research.google.com/assets/colab-badge.svg\" alt=\"Open In Colab\"/></a>"
      ]
    },
    {
      "cell_type": "markdown",
      "source": [
        "CSC221A -\n",
        "Ricardo Puma"
      ],
      "metadata": {
        "id": "pgDEmk432GTw"
      }
    },
    {
      "cell_type": "code",
      "execution_count": 15,
      "metadata": {
        "colab": {
          "base_uri": "https://localhost:8080/"
        },
        "id": "MepR_8lL1-NF",
        "outputId": "69c4680b-6db4-40ae-9a67-f6f2a9ae0e0e"
      },
      "outputs": [
        {
          "output_type": "stream",
          "name": "stdout",
          "text": [
            "59\n"
          ]
        }
      ],
      "source": [
        "# Write and test a function that has only positional arguments: def func(a, b)\n",
        "def function1(a, b):\n",
        "  return a + b\n",
        "\n",
        "result = function1(39, 20)\n",
        "print(result)"
      ]
    },
    {
      "cell_type": "code",
      "source": [
        "# Write and test a function that has variadic arguments: def func(*s)\n",
        "def function2(*args):\n",
        "  return sum(args)\n",
        "\n",
        "result = function2(103, 32, 24, 58)\n",
        "print(result)"
      ],
      "metadata": {
        "colab": {
          "base_uri": "https://localhost:8080/"
        },
        "id": "SDq6pOoWjGmg",
        "outputId": "3cb928b5-bc70-45e1-8484-6ed99f9e5bb6"
      },
      "execution_count": 16,
      "outputs": [
        {
          "output_type": "stream",
          "name": "stdout",
          "text": [
            "217\n"
          ]
        }
      ]
    },
    {
      "cell_type": "code",
      "source": [
        "# Write and test a function that uses only keyword arguments: def func(**kwargs)\n",
        "def function3(**kwargs):\n",
        "  result = 0\n",
        "  for value in kwargs.values():\n",
        "    result += value\n",
        "  return result\n",
        "\n",
        "result = function3(a=1, b=3, c=4, d=6)\n",
        "print(result)"
      ],
      "metadata": {
        "colab": {
          "base_uri": "https://localhost:8080/"
        },
        "id": "p6OvwsxBjSAp",
        "outputId": "d2ac8677-0ca3-422b-e478-067239573cf3"
      },
      "execution_count": 17,
      "outputs": [
        {
          "output_type": "stream",
          "name": "stdout",
          "text": [
            "14\n"
          ]
        }
      ]
    },
    {
      "cell_type": "code",
      "source": [
        "# Write and test a function that accepts any inputs: def func(*args, **kwargs). The function should add or subtract all the *args based on a keyword operator='+' or operator='-'\n",
        "def function4(*args, **kwargs):\n",
        "  operator = kwargs.get(\"operator\")\n",
        "\n",
        "  add = 0\n",
        "  if operator == \"+\":\n",
        "    add = sum(args)\n",
        "  elif operator == \"-\":\n",
        "    add = args[0] if len(args) > 0 else 0\n",
        "    add -= sum(args[1:])\n",
        "\n",
        "  return add\n",
        "\n",
        "result = function4(31, 2, 4, operator=\"-\")\n",
        "print(result)"
      ],
      "metadata": {
        "colab": {
          "base_uri": "https://localhost:8080/"
        },
        "id": "L59mH0ghjWQu",
        "outputId": "68b4724c-4c0e-4a0f-c0d7-8edc6a5694f4"
      },
      "execution_count": 18,
      "outputs": [
        {
          "output_type": "stream",
          "name": "stdout",
          "text": [
            "25\n"
          ]
        }
      ]
    },
    {
      "cell_type": "code",
      "source": [
        "# Create a global variable and then create a function that uses and changes its value.\n",
        "global_var = 0\n",
        "\n",
        "def modify_global_var(value):\n",
        "  global global_var\n",
        "  global_var += value\n",
        "\n",
        "print(\"Initial value:\", global_var)\n",
        "modify_global_var(10)\n",
        "print(\"New value:\", global_var)"
      ],
      "metadata": {
        "colab": {
          "base_uri": "https://localhost:8080/"
        },
        "id": "-1e8BQsojbUJ",
        "outputId": "9988b723-699a-4621-eabd-ded197ffca73"
      },
      "execution_count": 14,
      "outputs": [
        {
          "output_type": "stream",
          "name": "stdout",
          "text": [
            "Initial value: 0\n",
            "New value: 10\n"
          ]
        }
      ]
    },
    {
      "cell_type": "code",
      "source": [
        "# Create a lambda function that allows the use of sorted(...) such that words are sorted by the number of vowels they contain.\n",
        "fruits = [\"Apple\", \"Pineapple\", \"Watermelon\", \"Mango\", \"Orange\", \"Banana\"]\n",
        "\n",
        "vowel_count = lambda fruit: sum(1 for char in fruit if char.lower() in \"aeiou\")\n",
        "sort_fruits = sorted(fruits, key=vowel_count)\n",
        "\n",
        "print(sort_fruits)"
      ],
      "metadata": {
        "colab": {
          "base_uri": "https://localhost:8080/"
        },
        "id": "di7fXRXtjfo2",
        "outputId": "883f1666-0ae6-4e18-c66e-90a71fb4edda"
      },
      "execution_count": 19,
      "outputs": [
        {
          "output_type": "stream",
          "name": "stdout",
          "text": [
            "['Apple', 'Mango', 'Orange', 'Banana', 'Pineapple', 'Watermelon']\n"
          ]
        }
      ]
    },
    {
      "cell_type": "code",
      "source": [
        "# Write a decorator called logger() that appends the name of the function, all of its arguments, and its return value to a file called log.txt. Use some of your functions above to demonstrate how @logger works.\n",
        "def logger(function):\n",
        "  def wrap(*args, **kwargs):\n",
        "    result = function(*args, **kwargs)\n",
        "    with open('log.txt', 'a') as log:\n",
        "      log.write(f\"Function: {function.__name__}, Arguments: {args}, Keyword Arguments: {kwargs}, Result: {result}\\n\")\n",
        "    return result\n",
        "  return wrap\n",
        "\n",
        "@logger\n",
        "def func1(a, b):\n",
        "  return a + b\n",
        "\n",
        "@logger\n",
        "def func2(*args, **kwargs):\n",
        "  operator = kwargs.get(\"operator\")\n",
        "\n",
        "  add = 0\n",
        "  if operator == \"+\":\n",
        "    add = sum(args)\n",
        "  elif operator == \"-\":\n",
        "    add = args[0] if len(args) > 0 else 0\n",
        "    add -= sum(args[1:])\n",
        "\n",
        "  return add\n",
        "\n",
        "result = func1(2, 3)\n",
        "print(\"func1(2, 3):\", result)\n",
        "\n",
        "result = func2(1, 40, 48, operator=\"+\")\n",
        "print(\"func2(1, 40, 48, operator='+'):\", result)"
      ],
      "metadata": {
        "colab": {
          "base_uri": "https://localhost:8080/"
        },
        "id": "YEDfNMbNjjVo",
        "outputId": "8e34cb31-3a90-40ad-91f7-14d95e23156d"
      },
      "execution_count": 25,
      "outputs": [
        {
          "output_type": "stream",
          "name": "stdout",
          "text": [
            "func1(2, 3): 5\n",
            "func2(1, 40, 48, operator='+'): 89\n"
          ]
        }
      ]
    },
    {
      "cell_type": "code",
      "source": [
        "# Show an example of how Python can be used to perform map, filter, and reduce operations.\n",
        "from functools import reduce\n",
        "numbers = [9, 7, 8, 2, 4]\n",
        "\n",
        "squared = map(lambda x: x**2, numbers)\n",
        "even_numbers = filter(lambda x: x % 2 == 0, numbers)\n",
        "product = reduce(lambda x, y: x * y, numbers)\n",
        "\n",
        "print(\"Initial:\", numbers)\n",
        "print(\"Map:\", list(squared))\n",
        "print(\"Filter:\", list(even_numbers))\n",
        "print(\"Reduce:\", product)"
      ],
      "metadata": {
        "colab": {
          "base_uri": "https://localhost:8080/"
        },
        "id": "1dxBzjEfjmdB",
        "outputId": "4faa28c8-81a8-4c5d-a664-6b0c06b6593f"
      },
      "execution_count": 26,
      "outputs": [
        {
          "output_type": "stream",
          "name": "stdout",
          "text": [
            "Initial: [9, 7, 8, 2, 4]\n",
            "Map: [81, 49, 64, 4, 16]\n",
            "Filter: [8, 2, 4]\n",
            "Reduce: 4032\n"
          ]
        }
      ]
    },
    {
      "cell_type": "code",
      "source": [
        "# Show how you can use exec(...) to make a simple calculator that runs in a loop and allows me to type in ant Python expression (like '5 + 3 - 8 / 12') and print the result by merely passing the expression to exec(...).\n",
        "while True:\n",
        "  get_expression = input(\"Enter an expression: \")\n",
        "\n",
        "  if get_expression.lower() == \"exit\":\n",
        "    break\n",
        "\n",
        "  try:\n",
        "    result = eval(get_expression)\n",
        "    print(result)\n",
        "  except Exception as e:\n",
        "    print(\"Error: \", e)"
      ],
      "metadata": {
        "colab": {
          "base_uri": "https://localhost:8080/",
          "height": 651
        },
        "id": "R_5XjvqJjoR0",
        "outputId": "7704f6ef-bf3b-4f76-da22-b41c756eb40f"
      },
      "execution_count": 27,
      "outputs": [
        {
          "output_type": "stream",
          "name": "stdout",
          "text": [
            "Enter an expression: 0/0\n",
            "Error:  division by zero\n",
            "Enter an expression: 2/0\n",
            "Error:  division by zero\n",
            "Enter an expression: 23-3\n",
            "20\n",
            "Enter an expression: 3_3+3\n",
            "36\n",
            "Enter an expression: 4-4+50*39\n",
            "1950\n",
            "Enter an expression: +0\n",
            "0\n",
            "Enter an expression: +10\n",
            "10\n"
          ]
        },
        {
          "output_type": "error",
          "ename": "KeyboardInterrupt",
          "evalue": "ignored",
          "traceback": [
            "\u001b[0;31m---------------------------------------------------------------------------\u001b[0m",
            "\u001b[0;31mKeyboardInterrupt\u001b[0m                         Traceback (most recent call last)",
            "\u001b[0;32m<ipython-input-27-24839914a004>\u001b[0m in \u001b[0;36m<cell line: 2>\u001b[0;34m()\u001b[0m\n\u001b[1;32m      1\u001b[0m \u001b[0;31m# Show how you can use exec(...) to make a simple calculator that runs in a loop and allows me to type in ant Python expression (like '5 + 3 - 8 / 12') and print the result by merely passing the expression to exec(...).\u001b[0m\u001b[0;34m\u001b[0m\u001b[0;34m\u001b[0m\u001b[0m\n\u001b[1;32m      2\u001b[0m \u001b[0;32mwhile\u001b[0m \u001b[0;32mTrue\u001b[0m\u001b[0;34m:\u001b[0m\u001b[0;34m\u001b[0m\u001b[0;34m\u001b[0m\u001b[0m\n\u001b[0;32m----> 3\u001b[0;31m   \u001b[0mget_expression\u001b[0m \u001b[0;34m=\u001b[0m \u001b[0minput\u001b[0m\u001b[0;34m(\u001b[0m\u001b[0;34m\"Enter an expression: \"\u001b[0m\u001b[0;34m)\u001b[0m\u001b[0;34m\u001b[0m\u001b[0;34m\u001b[0m\u001b[0m\n\u001b[0m\u001b[1;32m      4\u001b[0m \u001b[0;34m\u001b[0m\u001b[0m\n\u001b[1;32m      5\u001b[0m   \u001b[0;32mif\u001b[0m \u001b[0mget_expression\u001b[0m\u001b[0;34m.\u001b[0m\u001b[0mlower\u001b[0m\u001b[0;34m(\u001b[0m\u001b[0;34m)\u001b[0m \u001b[0;34m==\u001b[0m \u001b[0;34m\"exit\"\u001b[0m\u001b[0;34m:\u001b[0m\u001b[0;34m\u001b[0m\u001b[0;34m\u001b[0m\u001b[0m\n",
            "\u001b[0;32m/usr/local/lib/python3.10/dist-packages/ipykernel/kernelbase.py\u001b[0m in \u001b[0;36mraw_input\u001b[0;34m(self, prompt)\u001b[0m\n\u001b[1;32m    849\u001b[0m                 \u001b[0;34m\"raw_input was called, but this frontend does not support input requests.\"\u001b[0m\u001b[0;34m\u001b[0m\u001b[0;34m\u001b[0m\u001b[0m\n\u001b[1;32m    850\u001b[0m             )\n\u001b[0;32m--> 851\u001b[0;31m         return self._input_request(str(prompt),\n\u001b[0m\u001b[1;32m    852\u001b[0m             \u001b[0mself\u001b[0m\u001b[0;34m.\u001b[0m\u001b[0m_parent_ident\u001b[0m\u001b[0;34m,\u001b[0m\u001b[0;34m\u001b[0m\u001b[0;34m\u001b[0m\u001b[0m\n\u001b[1;32m    853\u001b[0m             \u001b[0mself\u001b[0m\u001b[0;34m.\u001b[0m\u001b[0m_parent_header\u001b[0m\u001b[0;34m,\u001b[0m\u001b[0;34m\u001b[0m\u001b[0;34m\u001b[0m\u001b[0m\n",
            "\u001b[0;32m/usr/local/lib/python3.10/dist-packages/ipykernel/kernelbase.py\u001b[0m in \u001b[0;36m_input_request\u001b[0;34m(self, prompt, ident, parent, password)\u001b[0m\n\u001b[1;32m    893\u001b[0m             \u001b[0;32mexcept\u001b[0m \u001b[0mKeyboardInterrupt\u001b[0m\u001b[0;34m:\u001b[0m\u001b[0;34m\u001b[0m\u001b[0;34m\u001b[0m\u001b[0m\n\u001b[1;32m    894\u001b[0m                 \u001b[0;31m# re-raise KeyboardInterrupt, to truncate traceback\u001b[0m\u001b[0;34m\u001b[0m\u001b[0;34m\u001b[0m\u001b[0m\n\u001b[0;32m--> 895\u001b[0;31m                 \u001b[0;32mraise\u001b[0m \u001b[0mKeyboardInterrupt\u001b[0m\u001b[0;34m(\u001b[0m\u001b[0;34m\"Interrupted by user\"\u001b[0m\u001b[0;34m)\u001b[0m \u001b[0;32mfrom\u001b[0m \u001b[0;32mNone\u001b[0m\u001b[0;34m\u001b[0m\u001b[0;34m\u001b[0m\u001b[0m\n\u001b[0m\u001b[1;32m    896\u001b[0m             \u001b[0;32mexcept\u001b[0m \u001b[0mException\u001b[0m \u001b[0;32mas\u001b[0m \u001b[0me\u001b[0m\u001b[0;34m:\u001b[0m\u001b[0;34m\u001b[0m\u001b[0;34m\u001b[0m\u001b[0m\n\u001b[1;32m    897\u001b[0m                 \u001b[0mself\u001b[0m\u001b[0;34m.\u001b[0m\u001b[0mlog\u001b[0m\u001b[0;34m.\u001b[0m\u001b[0mwarning\u001b[0m\u001b[0;34m(\u001b[0m\u001b[0;34m\"Invalid Message:\"\u001b[0m\u001b[0;34m,\u001b[0m \u001b[0mexc_info\u001b[0m\u001b[0;34m=\u001b[0m\u001b[0;32mTrue\u001b[0m\u001b[0;34m)\u001b[0m\u001b[0;34m\u001b[0m\u001b[0;34m\u001b[0m\u001b[0m\n",
            "\u001b[0;31mKeyboardInterrupt\u001b[0m: Interrupted by user"
          ]
        }
      ]
    }
  ]
}