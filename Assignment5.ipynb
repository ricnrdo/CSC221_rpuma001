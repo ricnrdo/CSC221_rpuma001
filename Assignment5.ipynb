{
  "nbformat": 4,
  "nbformat_minor": 0,
  "metadata": {
    "colab": {
      "provenance": [],
      "authorship_tag": "ABX9TyPTTypbr6W58IusSySvKdmT",
      "include_colab_link": true
    },
    "kernelspec": {
      "name": "python3",
      "display_name": "Python 3"
    },
    "language_info": {
      "name": "python"
    }
  },
  "cells": [
    {
      "cell_type": "markdown",
      "metadata": {
        "id": "view-in-github",
        "colab_type": "text"
      },
      "source": [
        "<a href=\"https://colab.research.google.com/github/ricnrdo/CSC221_rpuma001/blob/main/Assignment5.ipynb\" target=\"_parent\"><img src=\"https://colab.research.google.com/assets/colab-badge.svg\" alt=\"Open In Colab\"/></a>"
      ]
    },
    {
      "cell_type": "code",
      "execution_count": 65,
      "metadata": {
        "colab": {
          "base_uri": "https://localhost:8080/"
        },
        "id": "dx8gv8Baw5LS",
        "outputId": "414d1621-1d74-4721-87b5-55bf0b077e6e"
      },
      "outputs": [
        {
          "output_type": "stream",
          "name": "stdout",
          "text": [
            "I like pepperoni pizza.\n",
            "I like buffalo chicken pizza.\n",
            "I like cheese pizza.\n",
            "\n",
            "I really love pizza!\n"
          ]
        }
      ],
      "source": [
        "# Already have experiences with these examples\n",
        "# Try it yourself\n",
        "\n",
        "# 4-1\n",
        "pizzas = [\"pepperoni\", \"buffalo chicken\", \"cheese\"]\n",
        "for pizza in pizzas:\n",
        "  # print(pizza)\n",
        "  message = f\"I like {pizza} pizza.\"\n",
        "  print(message)\n",
        "print(\"\\nI really love pizza!\")"
      ]
    },
    {
      "cell_type": "code",
      "source": [
        "animals = [\"dog\", \"cat\", \"rat\"] # They all have 4 legs lol\n",
        "for animal in animals:\n",
        "  # print(animal)\n",
        "  message = f\"A {animal} would make a great pet\"\n",
        "  print(message)\n",
        "\n",
        "print(f\"\\nAll these animals have a tail\")"
      ],
      "metadata": {
        "colab": {
          "base_uri": "https://localhost:8080/"
        },
        "id": "-4O9iOkhygVQ",
        "outputId": "da556d99-d97f-4ee7-8a94-7ef8d7b316f7"
      },
      "execution_count": 7,
      "outputs": [
        {
          "output_type": "stream",
          "name": "stdout",
          "text": [
            "A dog would make a great pet\n",
            "A cat would make a great pet\n",
            "A rat would make a great pet\n",
            "\n",
            "All these animals have a tail\n"
          ]
        }
      ]
    },
    {
      "cell_type": "code",
      "source": [
        "numbers = list(range(1, 6))\n",
        "print(numbers)"
      ],
      "metadata": {
        "colab": {
          "base_uri": "https://localhost:8080/"
        },
        "id": "Cy8oJ3Sr7hkk",
        "outputId": "7a1d892a-1492-47e2-eb94-674d19f806b1"
      },
      "execution_count": 9,
      "outputs": [
        {
          "output_type": "stream",
          "name": "stdout",
          "text": [
            "[1, 2, 3, 4, 5]\n"
          ]
        }
      ]
    },
    {
      "cell_type": "code",
      "source": [
        "squares = []\n",
        "for number in range(1, 11):\n",
        "  square = number ** 2\n",
        "  squares.append(square)\n",
        "\n",
        "print(squares)"
      ],
      "metadata": {
        "colab": {
          "base_uri": "https://localhost:8080/"
        },
        "id": "OVRoMRmvBbyV",
        "outputId": "0062170d-07d5-4cb2-a528-d07087edf7c8"
      },
      "execution_count": 10,
      "outputs": [
        {
          "output_type": "stream",
          "name": "stdout",
          "text": [
            "[1, 4, 9, 16, 25, 36, 49, 64, 81, 100]\n"
          ]
        }
      ]
    },
    {
      "cell_type": "code",
      "source": [
        "digits = [1, 2, 3, 4, 5, 6, 7, 8, 9, 0]\n",
        "min(digits) # 0\n",
        "max(digits) # 9\n",
        "sum(digits) # 45\n"
      ],
      "metadata": {
        "colab": {
          "base_uri": "https://localhost:8080/"
        },
        "id": "XRSZpSu2CEX8",
        "outputId": "84e4988d-501b-4ff4-eb2f-d54d6099efb1"
      },
      "execution_count": 13,
      "outputs": [
        {
          "output_type": "execute_result",
          "data": {
            "text/plain": [
              "45"
            ]
          },
          "metadata": {},
          "execution_count": 13
        }
      ]
    },
    {
      "cell_type": "code",
      "source": [
        "squares = [value**2 for value in range(1, 11)]\n",
        "print(squares)"
      ],
      "metadata": {
        "colab": {
          "base_uri": "https://localhost:8080/"
        },
        "id": "8b4mpBO9DKfr",
        "outputId": "0b5fd12a-a67a-4569-fe4a-2f5d6b84858f"
      },
      "execution_count": 17,
      "outputs": [
        {
          "output_type": "stream",
          "name": "stdout",
          "text": [
            "[1, 4, 9, 16, 25, 36, 49, 64, 81, 100]\n"
          ]
        }
      ]
    },
    {
      "cell_type": "code",
      "source": [
        "# Try it yourself\n",
        "# 4-3\n",
        "\n",
        "for number in range(1, 21):\n",
        "  print(number)"
      ],
      "metadata": {
        "colab": {
          "base_uri": "https://localhost:8080/"
        },
        "id": "uIVMlhI8DqdK",
        "outputId": "9b30a2b2-a498-4c65-b464-99603aedc16a"
      },
      "execution_count": 18,
      "outputs": [
        {
          "output_type": "stream",
          "name": "stdout",
          "text": [
            "1\n",
            "2\n",
            "3\n",
            "4\n",
            "5\n",
            "6\n",
            "7\n",
            "8\n",
            "9\n",
            "10\n",
            "11\n",
            "12\n",
            "13\n",
            "14\n",
            "15\n",
            "16\n",
            "17\n",
            "18\n",
            "19\n",
            "20\n"
          ]
        }
      ]
    },
    {
      "cell_type": "code",
      "source": [
        "# 4-4\n",
        "million = [number for number in range(1, 1000001)]\n",
        "# print(million)\n",
        "\n",
        "# 4-5\n",
        "min(million) # output: 1\n",
        "max(million) # output: 1000000\n",
        "sum(million) # 0 seconds\n",
        "\n",
        "# 4-6\n",
        "odd_numbers = [number for number in range(1, 20, 3)] # It includes even numbers\n",
        "for number in odd_numbers:\n",
        "  print(number)\n",
        "\n",
        "# 4-7\n",
        "print(\"\\n\")\n",
        "multiples_of_three = [multiple for multiple in range(3, 31, 3)]\n",
        "for n in multiples_of_three:\n",
        "  print(n)\n",
        "\n",
        "# 4-8\n",
        "print(\"\\n\")\n",
        "cubes_list = [cubes**3 for cubes in range(1, 11)]\n",
        "for cube in cubes_list:\n",
        "  print(cube)\n",
        "\n",
        "# 4-9: already did that in 4-8 (I think)"
      ],
      "metadata": {
        "colab": {
          "base_uri": "https://localhost:8080/"
        },
        "id": "fImdGNYOD6vi",
        "outputId": "a54dbde6-2ead-450d-b2cb-dab95e715bdc"
      },
      "execution_count": 48,
      "outputs": [
        {
          "output_type": "stream",
          "name": "stdout",
          "text": [
            "1\n",
            "4\n",
            "7\n",
            "10\n",
            "13\n",
            "16\n",
            "19\n",
            "\n",
            "\n",
            "3\n",
            "6\n",
            "9\n",
            "12\n",
            "15\n",
            "18\n",
            "21\n",
            "24\n",
            "27\n",
            "30\n",
            "\n",
            "\n",
            "1\n",
            "8\n",
            "27\n",
            "64\n",
            "125\n",
            "216\n",
            "343\n",
            "512\n",
            "729\n",
            "1000\n"
          ]
        }
      ]
    },
    {
      "cell_type": "code",
      "source": [
        "# 4-10\n",
        "\n",
        "print(f\"The first three items in the list are: {million[:3]}\")\n",
        "middle_index = len(million) // 2\n",
        "for n in range(middle_index, middle_index + 3):\n",
        "  print(million[n])\n",
        "print(f\"The first three items in the list are: {million[-3:]}\")\n",
        "\n",
        "# 4-11\n",
        "friend_pizzas = pizzas[:]\n",
        "pizzas.append(\"hawaiian\")\n",
        "friend_pizzas.append(\"veggie\")\n",
        "\n",
        "print(\"\\nMy favorite pizzas are:\")\n",
        "for pizza in pizzas:\n",
        "  print(pizza)\n",
        "\n",
        "print(\"My friends favorite pizzas are:\")\n",
        "for pizza in friend_pizzas:\n",
        "  print(pizza)\n",
        "\n",
        "# 4-12: redundant\n",
        "# 4-13: I already know how to do that.\n",
        "# 4-14: done\n",
        "# 4-15: I already went through my code and I did my best."
      ],
      "metadata": {
        "colab": {
          "base_uri": "https://localhost:8080/"
        },
        "id": "PX2Xo13uMHsu",
        "outputId": "2f356f86-ab2e-47a5-f903-40f4752a86c6"
      },
      "execution_count": 66,
      "outputs": [
        {
          "output_type": "stream",
          "name": "stdout",
          "text": [
            "The first three items in the list are: [1, 2, 3]\n",
            "500001\n",
            "500002\n",
            "500003\n",
            "The first three items in the list are: [999998, 999999, 1000000]\n",
            "\n",
            "My favorite pizzas are:\n",
            "pepperoni\n",
            "buffalo chicken\n",
            "cheese\n",
            "hawaiian\n",
            "My friends favorite pizzas are:\n",
            "pepperoni\n",
            "buffalo chicken\n",
            "cheese\n",
            "veggie\n"
          ]
        }
      ]
    },
    {
      "cell_type": "code",
      "source": [
        "# Factorials\n",
        "def factorial(n):\n",
        "  factorials_of_n = [i for i in range(1, n + 1)]\n",
        "  product = 1\n",
        "\n",
        "  for x in factorials_of_n:\n",
        "    product *= x\n",
        "  return product\n",
        "\n",
        "# Special factorials\n",
        "def special_factorial(n):\n",
        "  factorials_of_n = [i for i in range(1, n + 1)]\n",
        "  product = 1\n",
        "\n",
        "  if 4 in factorials_of_n:\n",
        "      factorials_of_n.remove(4)\n",
        "  if 13 in factorials_of_n:\n",
        "      factorials_of_n.remove(13)\n",
        "  if 22 in factorials_of_n:\n",
        "      factorials_of_n.remove(22)\n",
        "\n",
        "  for x in factorials_of_n:\n",
        "    product *= x\n",
        "\n",
        "  return product\n",
        "\n",
        "print(factorial(5))\n",
        "print(factorial(10))\n",
        "print(factorial(20))\n",
        "print(factorial(50))\n",
        "\n",
        "print(\"\\n\")\n",
        "\n",
        "print(special_factorial(5))\n",
        "\n",
        "\n"
      ],
      "metadata": {
        "colab": {
          "base_uri": "https://localhost:8080/"
        },
        "id": "StMc83nlTUF-",
        "outputId": "e5f30c3f-66ce-4809-c8bf-43206ac5db8d"
      },
      "execution_count": 79,
      "outputs": [
        {
          "output_type": "stream",
          "name": "stdout",
          "text": [
            "120\n",
            "3628800\n",
            "2432902008176640000\n",
            "30414093201713378043612608166064768844377641568960512000000000000\n",
            "\n",
            "\n",
            "30\n"
          ]
        }
      ]
    }
  ]
}