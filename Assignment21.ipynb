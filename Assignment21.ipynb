{
  "nbformat": 4,
  "nbformat_minor": 0,
  "metadata": {
    "colab": {
      "provenance": [],
      "include_colab_link": true
    },
    "kernelspec": {
      "name": "python3",
      "display_name": "Python 3"
    },
    "language_info": {
      "name": "python"
    }
  },
  "cells": [
    {
      "cell_type": "markdown",
      "metadata": {
        "id": "view-in-github",
        "colab_type": "text"
      },
      "source": [
        "<a href=\"https://colab.research.google.com/github/ricnrdo/CSC221_rpuma001/blob/main/Assignment21.ipynb\" target=\"_parent\"><img src=\"https://colab.research.google.com/assets/colab-badge.svg\" alt=\"Open In Colab\"/></a>"
      ]
    },
    {
      "cell_type": "markdown",
      "source": [
        "# Assignment 21\n",
        "## CSC 221\n",
        "- Ricardo Puma\n",
        "\n",
        "### Instructions:\n",
        "Fill in each code cell below the question. We are following along in Chapter 4 of Python Distilled."
      ],
      "metadata": {
        "id": "IAOUzGWE1eDx"
      }
    },
    {
      "cell_type": "code",
      "execution_count": 34,
      "metadata": {
        "id": "Gnj3su7i5-lx",
        "colab": {
          "base_uri": "https://localhost:8080/"
        },
        "outputId": "8aee9ba6-17eb-441e-ded5-11e7fb3a402b"
      },
      "outputs": [
        {
          "output_type": "stream",
          "name": "stdout",
          "text": [
            "8\n",
            "Hello, World!\n",
            "True\n",
            "False\n",
            "442\n",
            "Hello, 123\n",
            "Hello, 123\n",
            "1 is a number\n"
          ]
        }
      ],
      "source": [
        "# 4.2 Object Identity and Type\n",
        "\n",
        "# Make a function that performs differently depending on the types of its inputs\n",
        "# cat(a, b) below will work if you pass in two numbers or two strings\n",
        "# Use isinstance to detect when you are getting a string and an int and\n",
        "# automatically convert the int to a string and return the string!\n",
        "\n",
        "def cat(a, b):\n",
        "    return a + b\n",
        "\n",
        "print(cat(3, 5))\n",
        "print(cat(\"Hello, \", \"World!\"))\n",
        "print(isinstance(\"Hello\", str))\n",
        "# print(cat(\"Hello, \", 123))  # FAILS: Should return 'Hello, 123'\n",
        "print(isinstance(123, str))\n",
        "# INSERT YOUR CODE HERE\n",
        "def concat(a, b):\n",
        "  if isinstance(a, str) and isinstance(b, str):\n",
        "    return a + b\n",
        "  else:\n",
        "    return str(a) + str(b)\n",
        "\n",
        "print(concat(44, 2))\n",
        "print(concat(\"Hello\", \", 123\"))\n",
        "print(concat(\"Hello, \", 123))\n",
        "print(concat(1, \" is a number\"))"
      ]
    },
    {
      "cell_type": "code",
      "source": [
        "# Explain the output of the following code\n",
        "import sys\n",
        "\n",
        "class EmptyClass:\n",
        "    def __init__(self):\n",
        "        print('init')\n",
        "    def __del__(self):\n",
        "        print('del')\n",
        "\n",
        "def print_refcount(x):\n",
        "    print(sys.getrefcount(x))\n",
        "\n",
        "f1 = EmptyClass()\n",
        "print_refcount(f1)\n",
        "f2 = f1\n",
        "print_refcount(f1)\n",
        "f3 = f1\n",
        "print_refcount(f1)\n",
        "\n",
        "del f1\n",
        "print_refcount(f3)\n",
        "del f2\n",
        "print_refcount(f3)\n",
        "del f3\n",
        "\n",
        "# INSERT YOUR EXPLANATION HERE\n",
        "'''\n",
        "It first imports sys\n",
        "Then create an empty class which defines the initializer method and the destruction method.\n",
        "Then create a function outside the class which will print the count of reference made to x (whatever is passed to the function)\n",
        "Then we initialize the class.\n",
        "Print the amount of references made to f1.\n",
        "Assign f1 to f2, which increases the reference count +1.\n",
        "The next 2 lines do the same.\n",
        "Then we delete f1, which decreases the reference count by 1.\n",
        "And so on, until there's no more references to the EmptyClass.\n",
        "'''"
      ],
      "metadata": {
        "colab": {
          "base_uri": "https://localhost:8080/"
        },
        "id": "DKFgqiK-jlZg",
        "outputId": "69d220a1-235e-41ac-e007-10231d9ca65c"
      },
      "execution_count": 41,
      "outputs": [
        {
          "output_type": "stream",
          "name": "stdout",
          "text": [
            "init\n",
            "4\n",
            "5\n",
            "6\n",
            "5\n",
            "4\n",
            "del\n"
          ]
        }
      ]
    },
    {
      "cell_type": "code",
      "source": [
        "# Section 4.4, Part 1\n",
        "# Explain this output. Why does it seem odd?\n",
        "a = [1, 2, 3]\n",
        "b = a\n",
        "b[1] = 99\n",
        "print(a)\n",
        "print(b)\n",
        "\n",
        "# INSERT YOUR EXPLANATION HERE\n",
        "'''\n",
        "We assign a list to a, then we assign a to b (same object)\n",
        "Then we change the value of index 1 to b, which also changes a because a and b point to the same object.\n",
        "'''"
      ],
      "metadata": {
        "colab": {
          "base_uri": "https://localhost:8080/"
        },
        "id": "-pBk9F45ke-W",
        "outputId": "f4bad81e-6c8a-4039-b904-703eef679d7a"
      },
      "execution_count": null,
      "outputs": [
        {
          "output_type": "stream",
          "name": "stdout",
          "text": [
            "[1, 99, 3]\n",
            "[1, 99, 3]\n"
          ]
        }
      ]
    },
    {
      "cell_type": "code",
      "source": [
        "# Section 4.4, Part 2\n",
        "# Explain this output. Why is it from Part 1?\n",
        "a = [1, 2, 3]\n",
        "b = a[:]\n",
        "b[1] = 99\n",
        "print(a)\n",
        "print(b)\n",
        "\n",
        "# INSERT YOUR EXPLANATION HERE\n",
        "'''\n",
        "This is different as a[:] makes a copy of a and stores it in b. Meaning the point to different objects.\n",
        "When we change index 1 of the object stores in b, it only changes the list in b not a.\n",
        "Reason why the list a and b have different values.\n",
        "'''"
      ],
      "metadata": {
        "colab": {
          "base_uri": "https://localhost:8080/"
        },
        "id": "PFG-FWuUnmM6",
        "outputId": "f4ccf08c-e2ba-4bac-d5e4-e91c1d431899"
      },
      "execution_count": null,
      "outputs": [
        {
          "output_type": "stream",
          "name": "stdout",
          "text": [
            "[1, 2, 3]\n",
            "[1, 99, 3]\n"
          ]
        }
      ]
    },
    {
      "cell_type": "code",
      "source": [
        "# Section 4.4, Part 3\n",
        "# Explain this output. Why is it from Part 1?\n",
        "a = [1, 2, 3]\n",
        "b = list(a)\n",
        "b[1] = 99\n",
        "print(a)\n",
        "print(b)\n",
        "\n",
        "# INSERT YOUR EXPLANATION HERE\n",
        "'''\n",
        "This is the same as part 2 but instead of using slices to make a copy with use list()\n",
        "'''"
      ],
      "metadata": {
        "colab": {
          "base_uri": "https://localhost:8080/"
        },
        "id": "gYLWsIv0n1uR",
        "outputId": "d5c53778-404e-486d-e19f-76896eb639ce"
      },
      "execution_count": null,
      "outputs": [
        {
          "output_type": "stream",
          "name": "stdout",
          "text": [
            "[1, 2, 3]\n",
            "[1, 99, 3]\n"
          ]
        }
      ]
    },
    {
      "cell_type": "code",
      "source": [
        "# Section 4.4, Part 4\n",
        "# Now we understand copy vs. reference. What about shallow vs. deep copy?\n",
        "# Here's a shoolow copy. Why are a and b the same?\n",
        "a = [1, [100, 101], 3]\n",
        "b = list(a)\n",
        "b[1][1] = 900\n",
        "print(a)\n",
        "print(b)\n",
        "\n",
        "# INSERT YOUR EXPLANATION HERE\n",
        "'''\n",
        "A and b are the same because a shoolow copy copies the outer structures but not the inner, meaning a and b inner elements are the same object.\n",
        "'''"
      ],
      "metadata": {
        "colab": {
          "base_uri": "https://localhost:8080/"
        },
        "id": "8qAscig2oA7D",
        "outputId": "2ebecc92-348f-400a-d4a1-f8d172b631f3"
      },
      "execution_count": 43,
      "outputs": [
        {
          "output_type": "stream",
          "name": "stdout",
          "text": [
            "[1, [100, 900], 3]\n",
            "[1, [100, 900], 3]\n"
          ]
        }
      ]
    },
    {
      "cell_type": "code",
      "source": [
        "# Section 4.4, Part 5\n",
        "# Modify the code from the cell above (repeated here) to perform a deepcopy of a\n",
        "# Explain how that is different.\n",
        "a = [1, [100, 101], 3]\n",
        "b = a # Must be modified to do a deepcopy of a! (See text).\n",
        "b[1][1] = 900\n",
        "print(a)\n",
        "print(b)\n",
        "\n",
        "print()\n",
        "# INSERT YOUR EXPLANATION HERE\n",
        "import copy\n",
        "\n",
        "a = [1, [100, 101], 3]\n",
        "b = copy.deepcopy(a)\n",
        "b[1][1] = 900\n",
        "print(a)\n",
        "print(b)"
      ],
      "metadata": {
        "colab": {
          "base_uri": "https://localhost:8080/"
        },
        "id": "Mc2xAGC-oU3C",
        "outputId": "cb83d915-2fca-422b-f9ae-fad4047e5f4e"
      },
      "execution_count": 51,
      "outputs": [
        {
          "output_type": "stream",
          "name": "stdout",
          "text": [
            "[1, [100, 900], 3]\n",
            "[1, [100, 900], 3]\n",
            "\n",
            "[1, [100, 101], 3]\n",
            "[1, [100, 900], 3]\n"
          ]
        }
      ]
    }
  ]
}