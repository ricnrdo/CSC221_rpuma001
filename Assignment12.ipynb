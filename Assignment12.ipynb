{
  "nbformat": 4,
  "nbformat_minor": 0,
  "metadata": {
    "colab": {
      "provenance": [],
      "authorship_tag": "ABX9TyONikcxjATUYTMfUC7+dnu8",
      "include_colab_link": true
    },
    "kernelspec": {
      "name": "python3",
      "display_name": "Python 3"
    },
    "language_info": {
      "name": "python"
    }
  },
  "cells": [
    {
      "cell_type": "markdown",
      "metadata": {
        "id": "view-in-github",
        "colab_type": "text"
      },
      "source": [
        "<a href=\"https://colab.research.google.com/github/ricnrdo/CSC221_rpuma001/blob/main/Assignment12.ipynb\" target=\"_parent\"><img src=\"https://colab.research.google.com/assets/colab-badge.svg\" alt=\"Open In Colab\"/></a>"
      ]
    },
    {
      "cell_type": "code",
      "execution_count": 56,
      "metadata": {
        "colab": {
          "base_uri": "https://localhost:8080/"
        },
        "id": "iF12V3kDr14E",
        "outputId": "53318682-36af-416f-f365-2529f6d81e12"
      },
      "outputs": [
        {
          "output_type": "stream",
          "name": "stdout",
          "text": [
            "Total Money: 143.10\n"
          ]
        }
      ],
      "source": [
        "class Money:\n",
        "    def __init__(self, value):\n",
        "        self.value = value\n",
        "\n",
        "class Bills(Money):\n",
        "    def __init__(self, value, quantity):\n",
        "        super().__init__(value)\n",
        "        self.quantity = quantity\n",
        "\n",
        "\n",
        "class One(Bills):\n",
        "    def __init__(self, quantity):\n",
        "        super().__init__(1, quantity)\n",
        "\n",
        "\n",
        "class Five(Bills):\n",
        "    def __init__(self, quantity):\n",
        "        super().__init__(5, quantity)\n",
        "\n",
        "\n",
        "class Ten(Bills):\n",
        "    def __init__(self, quantity):\n",
        "        super().__init__(10, quantity)\n",
        "\n",
        "\n",
        "class Twenty(Bills):\n",
        "    def __init__(self, quantity):\n",
        "        super().__init__(20, quantity)\n",
        "\n",
        "\n",
        "class Coins(Money):\n",
        "    def __init__(self, value, quantity):\n",
        "        super().__init__(value)\n",
        "        self.quantity = quantity\n",
        "\n",
        "\n",
        "class Penny(Coins):\n",
        "    def __init__(self, quantity):\n",
        "        super().__init__(0.01, quantity)\n",
        "\n",
        "\n",
        "class Nickel(Coins):\n",
        "    def __init__(self, quantity):\n",
        "        super().__init__(0.05, quantity)\n",
        "\n",
        "\n",
        "class Dime(Coins):\n",
        "    def __init__(self, quantity):\n",
        "        super().__init__(0.10, quantity)\n",
        "\n",
        "\n",
        "class Quarter(Coins):\n",
        "    def __init__(self, quantity):\n",
        "        super().__init__(0.25, quantity)\n",
        "\n",
        "# Example usage\n",
        "wallet = [\n",
        "    One(0),\n",
        "    Five(2),\n",
        "    Penny(100),\n",
        "    Dime(0)\n",
        "]\n",
        "\n",
        "wallet2 = [\n",
        "    One(10),\n",
        "    Quarter(4),\n",
        "    Nickel(2)\n",
        "]\n",
        "\n",
        "wallet3 = [\n",
        "    Ten(10),\n",
        "    Twenty(1),\n",
        "    Dime(10)\n",
        "]\n",
        "\n",
        "total = 0\n",
        "wallets = [wallet, wallet2, wallet3]\n",
        "\n",
        "for wallet in wallets:\n",
        "  for item in wallet:\n",
        "    for i in range(item.quantity):\n",
        "      total += item.value\n",
        "\n",
        "print(f\"Total Money: {total:0.2f}\")"
      ]
    },
    {
      "cell_type": "code",
      "source": [
        "class Animal:\n",
        "  def __init__(self, name, species):\n",
        "      self.name = name\n",
        "      self.species = species\n",
        "\n",
        "class Cat(Animal):\n",
        "  def make_sound(self):\n",
        "      return \"Meow\"\n",
        "\n",
        "class Chicken(Animal):\n",
        "  def make_sound(self):\n",
        "      return \"Buk Buk\"\n",
        "\n",
        "class Frog(Animal):\n",
        "  def make_sound(self):\n",
        "    return \"Ribbit Ribbit\"\n",
        "\n",
        "# Usage\n",
        "my_cat = Cat(\"Whiskers\", \"Feline\")\n",
        "my_chicken = Chicken(\"Nugget\", \"Gallus domesticus\")\n",
        "my_frog = Frog(\"Jumpy\", \"Cuban Tree Frog\")\n",
        "\n",
        "print(f\"{my_cat.name} the {my_cat.species} says: {my_cat.make_sound()}\")\n",
        "print(f\"{my_chicken.name} the {my_chicken.species} says: {my_chicken.make_sound()}\")\n",
        "print(f\"{my_frog.name} the {my_frog.species} says: {my_frog.make_sound()}\")\n"
      ],
      "metadata": {
        "colab": {
          "base_uri": "https://localhost:8080/"
        },
        "id": "DpzF1x5AQ5OC",
        "outputId": "2cf6123d-06c8-46b9-834a-fae20a224ec2"
      },
      "execution_count": 60,
      "outputs": [
        {
          "output_type": "stream",
          "name": "stdout",
          "text": [
            "Whiskers the Feline says: Meow\n",
            "Nugget the Gallus domesticus says: Buk Buk\n",
            "Jumpy the Cuban Tree Frog says: Ribbit Ribbit\n"
          ]
        }
      ]
    }
  ]
}