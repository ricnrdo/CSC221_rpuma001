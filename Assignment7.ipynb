{
  "nbformat": 4,
  "nbformat_minor": 0,
  "metadata": {
    "colab": {
      "provenance": [],
      "authorship_tag": "ABX9TyMTlaGk85PXI6qcgpCgteIG",
      "include_colab_link": true
    },
    "kernelspec": {
      "name": "python3",
      "display_name": "Python 3"
    },
    "language_info": {
      "name": "python"
    }
  },
  "cells": [
    {
      "cell_type": "markdown",
      "metadata": {
        "id": "view-in-github",
        "colab_type": "text"
      },
      "source": [
        "<a href=\"https://colab.research.google.com/github/ricnrdo/CSC221_rpuma001/blob/main/Assignment7.ipynb\" target=\"_parent\"><img src=\"https://colab.research.google.com/assets/colab-badge.svg\" alt=\"Open In Colab\"/></a>"
      ]
    },
    {
      "cell_type": "code",
      "execution_count": null,
      "metadata": {
        "id": "ToPJYtb4zECw"
      },
      "outputs": [],
      "source": [
        "# Ricardo Puma\n",
        "# Assignment 7"
      ]
    },
    {
      "cell_type": "code",
      "source": [
        "alien_0 = {\n",
        "    'color': 'green',\n",
        "    'points': 5\n",
        "    }\n",
        "\n",
        "print(alien_0['color'])\n",
        "print(alien_0['points'])"
      ],
      "metadata": {
        "colab": {
          "base_uri": "https://localhost:8080/"
        },
        "id": "oZrpmWk70M3T",
        "outputId": "314b5bf2-d25f-44e3-d2ae-1de7257b7f29"
      },
      "execution_count": 1,
      "outputs": [
        {
          "output_type": "stream",
          "name": "stdout",
          "text": [
            "green\n",
            "5\n"
          ]
        }
      ]
    },
    {
      "cell_type": "code",
      "source": [
        "alien_0 = {\n",
        "    'color': 'green',\n",
        "    'points': 5\n",
        "    }\n",
        "\n",
        "new_points = alien_0['points']\n",
        "print(f\"You just earned {new_points} points!\")"
      ],
      "metadata": {
        "colab": {
          "base_uri": "https://localhost:8080/"
        },
        "id": "-dbw7c0w8oTv",
        "outputId": "3941be1d-b1fb-485d-8e6e-4bf1455ab5c4"
      },
      "execution_count": 17,
      "outputs": [
        {
          "output_type": "stream",
          "name": "stdout",
          "text": [
            "You just earned 5 points!\n"
          ]
        }
      ]
    },
    {
      "cell_type": "code",
      "source": [
        "print(alien_0)\n",
        "\n",
        "alien_0['x_position'] = 0\n",
        "alien_0['y_position'] = 25\n",
        "print(alien_0)"
      ],
      "metadata": {
        "colab": {
          "base_uri": "https://localhost:8080/"
        },
        "id": "O-LzNA419YrQ",
        "outputId": "6c1da563-dbb6-4353-f475-fe3580937145"
      },
      "execution_count": 15,
      "outputs": [
        {
          "output_type": "stream",
          "name": "stdout",
          "text": [
            "{'color': 'green'}\n",
            "{'color': 'green', 'x_position': 0, 'y_position': 25}\n"
          ]
        }
      ]
    },
    {
      "cell_type": "code",
      "source": [
        "# Modidying values in a Dictionary\n",
        "alien_0 = {'color': 'green'}\n",
        "print(f\"The alien is {alien_0['color']}.\")\n",
        "\n",
        "alien_0['color'] = 'yellow'\n",
        "print(f\"The alien is now {alien_0['color']}.\")"
      ],
      "metadata": {
        "colab": {
          "base_uri": "https://localhost:8080/"
        },
        "id": "t_RZ-AzXB9lg",
        "outputId": "39b02517-1bc4-4377-965a-6c93ae6c7d43"
      },
      "execution_count": 3,
      "outputs": [
        {
          "output_type": "stream",
          "name": "stdout",
          "text": [
            "The alien is green.\n",
            "The alien is now yellow.\n"
          ]
        }
      ]
    },
    {
      "cell_type": "code",
      "source": [
        "# Track position of an alien\n",
        "alien_0 = {'x_position': 0, 'y_position': 25, 'speed': 'medium'}\n",
        "print(f\"original position: {alien_0['x_position']}\")\n",
        "\n",
        "if alien_0['speed'] == 'slow':\n",
        "  x_increment = 1\n",
        "elif alien_0['speed'] == 'medium':\n",
        "  x_increment = 2\n",
        "else:\n",
        "  x_increment = 3\n",
        "\n",
        "alien_0['x_position'] += x_increment\n",
        "\n",
        "print(f\"New position: {alien_0['x_position']}\")"
      ],
      "metadata": {
        "colab": {
          "base_uri": "https://localhost:8080/"
        },
        "id": "_y0udoFLCecP",
        "outputId": "3008c73a-decb-489c-8f84-71e02404d359"
      },
      "execution_count": 10,
      "outputs": [
        {
          "output_type": "stream",
          "name": "stdout",
          "text": [
            "original position: 0\n",
            "New position: 2\n"
          ]
        }
      ]
    },
    {
      "cell_type": "code",
      "source": [
        "del alien_0['points']\n",
        "print(alien_0)\n",
        "\n",
        "# get()\n",
        "\n",
        "point_value = alien_0.get('points', 'No points value assigned')\n",
        "print(point_value)"
      ],
      "metadata": {
        "colab": {
          "base_uri": "https://localhost:8080/"
        },
        "id": "UHTM_mGlF3qI",
        "outputId": "d5c052e4-6a87-4b49-8c34-92968b31efcb"
      },
      "execution_count": 18,
      "outputs": [
        {
          "output_type": "stream",
          "name": "stdout",
          "text": [
            "{'color': 'green'}\n",
            "No points value assigned\n"
          ]
        }
      ]
    },
    {
      "cell_type": "code",
      "source": [
        "# 6-1\n",
        "known_person = {\n",
        "    'first_name': 'Arelis',\n",
        "    'last_name': 'Puma',\n",
        "    'age': '21',\n",
        "    'city': 'Guayaquil'\n",
        "}\n",
        "\n",
        "print(f\"The person I know is {known_person['first_name']} {known_person['last_name']}.\")\n",
        "print(f\"She is {known_person['age']} years old.\")\n",
        "print(f\"She is from {known_person['city']}.\")"
      ],
      "metadata": {
        "colab": {
          "base_uri": "https://localhost:8080/"
        },
        "id": "-KbKNX_vRx79",
        "outputId": "80e8c72c-a6d1-4bd5-c67b-58c42e6c67b3"
      },
      "execution_count": 38,
      "outputs": [
        {
          "output_type": "stream",
          "name": "stdout",
          "text": [
            "The person I know is Arelis Puma.\n",
            "She is 21 years old.\n",
            "She is from Guayaquil.\n"
          ]
        }
      ]
    },
    {
      "cell_type": "code",
      "source": [
        "# 6-2\n",
        "favorite_numbers = {\n",
        "    'sean': 5,\n",
        "    'shane': 23,\n",
        "    'maya': 88,\n",
        "    'chloe': 12,\n",
        "    'alexa': 7\n",
        "}\n",
        "\n",
        "for name in favorite_numbers:\n",
        "  print(f\"{name.title()}'s favorite number is {favorite_numbers[name]}\")"
      ],
      "metadata": {
        "colab": {
          "base_uri": "https://localhost:8080/"
        },
        "id": "z6SQDSKiTBFA",
        "outputId": "97ec5290-c59c-4065-a51c-24f3cb3246a0"
      },
      "execution_count": 5,
      "outputs": [
        {
          "output_type": "stream",
          "name": "stdout",
          "text": [
            "Sean's favorite number is 5\n",
            "Shane's favorite number is 23\n",
            "Maya's favorite number is 88\n",
            "Chloe's favorite number is 12\n",
            "Alexa's favorite number is 7\n"
          ]
        }
      ]
    },
    {
      "cell_type": "code",
      "source": [
        "# 6-3\n",
        "\n",
        "new_programming_words = {\n",
        "    'key': 'Keys are analogous to indexes of a list. When using lists you access the elements via the index. With dictionaries you access values via the keys.',\n",
        "    'dictionary': 'The dictionary is an unordered collection that contains key:value pairs separated by commas inside curly brackets.',\n",
        "    'boolean': 'A result that can only have one of two possible values: true or false.',\n",
        "    'prompt': 'A specific request the software makes in order to obtain information from the end user.',\n",
        "    'loop': 'An instruction that repeats multiple times as long as some condition is met.'\n",
        "}\n",
        "\n",
        "print(\"New words + definitions\\n\")\n",
        "for key in new_programming_words:\n",
        "  print(f\"{key.title()}: {new_programming_words[key]}\\n\")\n",
        "\n",
        "# I just learned from the next page that I could put a comma and name to create a variable for the values.\n",
        "# Meaning for key, value...\n",
        "\n",
        "# for key, value in new_programming_words.items()\n",
        "\n",
        "# 6-4.\n",
        "# If understood correctly... I think i already did what 6-4 asks, in 6-3.\n",
        "\n",
        "new_programming_words['set'] = 'Used to store multiple items in a single variable (no key)'\n",
        "new_programming_words['collection'] = 'Used for storing data'\n",
        "new_programming_words['method'] = 'A function that “belongs to” an object.'\n",
        "new_programming_words['statements'] = 'An instruction that the Python interpreter can execute.'\n",
        "new_programming_words['output'] = 'Use the print() function to output data to the screen.'\n",
        "\n",
        "print(\"\\n6-4:\\n\\n\")\n",
        "for word, definition in new_programming_words.items():\n",
        "  print(f\"{word.title()}: {definition}\\n\")\n"
      ],
      "metadata": {
        "colab": {
          "base_uri": "https://localhost:8080/"
        },
        "id": "_XV9OG42VVYU",
        "outputId": "c26e4718-1d94-4e51-a61e-03864d4ecf1d"
      },
      "execution_count": 14,
      "outputs": [
        {
          "output_type": "stream",
          "name": "stdout",
          "text": [
            "New words + definitions\n",
            "\n",
            "Key: Keys are analogous to indexes of a list. When using lists you access the elements via the index. With dictionaries you access values via the keys.\n",
            "\n",
            "Dictionary: The dictionary is an unordered collection that contains key:value pairs separated by commas inside curly brackets.\n",
            "\n",
            "Boolean: A result that can only have one of two possible values: true or false.\n",
            "\n",
            "Prompt: A specific request the software makes in order to obtain information from the end user.\n",
            "\n",
            "Loop: An instruction that repeats multiple times as long as some condition is met.\n",
            "\n",
            "\n",
            "6-4:\n",
            "\n",
            "\n",
            "Key: Keys are analogous to indexes of a list. When using lists you access the elements via the index. With dictionaries you access values via the keys.\n",
            "\n",
            "Dictionary: The dictionary is an unordered collection that contains key:value pairs separated by commas inside curly brackets.\n",
            "\n",
            "Boolean: A result that can only have one of two possible values: true or false.\n",
            "\n",
            "Prompt: A specific request the software makes in order to obtain information from the end user.\n",
            "\n",
            "Loop: An instruction that repeats multiple times as long as some condition is met.\n",
            "\n",
            "Set: Used to store multiple items in a single variable (no key)\n",
            "\n",
            "Collection: Used for storing data\n",
            "\n",
            "Method: A function that “belongs to” an object.\n",
            "\n",
            "Statements: An instruction that the Python interpreter can execute.\n",
            "\n",
            "Output: Use the print() function to output data to the screen.\n",
            "\n"
          ]
        }
      ]
    },
    {
      "cell_type": "code",
      "source": [
        "friends = ['sean', 'maya']\n",
        "\n",
        "for name in favorite_numbers.keys():\n",
        "  print(f\"Hi {name.title()}.\")\n",
        "\n",
        "  if name in friends:\n",
        "    number = favorite_numbers[name]\n",
        "    print(f\"\\t{name.title()}, I see you your favorite number is {number}!\")"
      ],
      "metadata": {
        "colab": {
          "base_uri": "https://localhost:8080/"
        },
        "id": "LirgQftWaCJv",
        "outputId": "2b3de869-41df-40c2-e071-11a7040a446e"
      },
      "execution_count": 7,
      "outputs": [
        {
          "output_type": "stream",
          "name": "stdout",
          "text": [
            "Hi Sean.\n",
            "\tSean, I see you your favorite number is 5!\n",
            "Hi Shane.\n",
            "Hi Maya.\n",
            "\tMaya, I see you your favorite number is 88!\n",
            "Hi Chloe.\n",
            "Hi Alexa.\n"
          ]
        }
      ]
    },
    {
      "cell_type": "code",
      "source": [
        "# 6-11\n",
        "cities = {\n",
        "    \"Paris\": {\n",
        "        \"country\": \"France\",\n",
        "        \"population\": \"2.161\", # millions\n",
        "        \"fact\": \"The Eiffel Tower was supposed to be a temporary installation, intended to stand for 20 years after being built for the 1889 World Fair.\"\n",
        "    },\n",
        "    \"Berlin\": {\n",
        "        \"country\": \"Germany\",\n",
        "        \"population\": \"3.645\",\n",
        "        \"fact\": \"Berlin has more museums than rainy days.\"\n",
        "    },\n",
        "    \"Tokyo\": {\n",
        "        \"country\": \"Japan\",\n",
        "        \"population\": \"37.194\",\n",
        "        \"fact\": \"There are anti-suicide lights in Tokyo's metro stations.\"\n",
        "    },\n",
        "    \"Guayaquil\": {\n",
        "        \"country\": \"Ecuador\",\n",
        "        \"population\": \"3.142\",\n",
        "        \"fact\": \"Guayaquil is a gateway to the Galapagos Islands.\"\n",
        "    }\n",
        "}\n",
        "\n",
        "for city, data in cities.items():\n",
        "  country = data['country']\n",
        "  population = data['population']\n",
        "  fact = data['fact']\n",
        "\n",
        "  print(f\"{city} is in {country}. {city} has a population of {population} million people.\\nOne interesting fact about {city} is: {fact}\\n\")"
      ],
      "metadata": {
        "colab": {
          "base_uri": "https://localhost:8080/"
        },
        "id": "TTzIdweOgQyP",
        "outputId": "87ed49ed-b9e7-438d-9981-9d005b77115e"
      },
      "execution_count": 26,
      "outputs": [
        {
          "output_type": "stream",
          "name": "stdout",
          "text": [
            "Paris is in France. Paris has a population of 2.161 million people.\n",
            "One interesting fact about Paris is: The Eiffel Tower was supposed to be a temporary installation, intended to stand for 20 years after being built for the 1889 World Fair.\n",
            "\n",
            "Berlin is in Germany. Berlin has a population of 3.645 million people.\n",
            "One interesting fact about Berlin is: Berlin has more museums than rainy days.\n",
            "\n",
            "Tokyo is in Japan. Tokyo has a population of 37.194 million people.\n",
            "One interesting fact about Tokyo is: There are anti-suicide lights in Tokyo's metro stations.\n",
            "\n",
            "Guayaquil is in Ecuador. Guayaquil has a population of 3.142 million people.\n",
            "One interesting fact about Guayaquil is: Guayaquil is a gateway to the Galapagos Islands.\n",
            "\n"
          ]
        }
      ]
    }
  ]
}