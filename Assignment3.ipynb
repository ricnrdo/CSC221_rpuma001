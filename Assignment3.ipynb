{
  "nbformat": 4,
  "nbformat_minor": 0,
  "metadata": {
    "colab": {
      "provenance": [],
      "authorship_tag": "ABX9TyP8k21DnfffKgrJC6xf5wXB",
      "include_colab_link": true
    },
    "kernelspec": {
      "name": "python3",
      "display_name": "Python 3"
    },
    "language_info": {
      "name": "python"
    }
  },
  "cells": [
    {
      "cell_type": "markdown",
      "metadata": {
        "id": "view-in-github",
        "colab_type": "text"
      },
      "source": [
        "<a href=\"https://colab.research.google.com/github/ricnrdo/CSC221_rpuma001/blob/main/Assignment3.ipynb\" target=\"_parent\"><img src=\"https://colab.research.google.com/assets/colab-badge.svg\" alt=\"Open In Colab\"/></a>"
      ]
    },
    {
      "cell_type": "code",
      "execution_count": null,
      "metadata": {
        "colab": {
          "base_uri": "https://localhost:8080/"
        },
        "id": "KhL0D1RwY9H3",
        "outputId": "1261794d-5adf-4c47-aaa0-6c86f12873bc"
      },
      "outputs": [
        {
          "output_type": "stream",
          "name": "stdout",
          "text": [
            "Hello! How are you?\n"
          ]
        }
      ],
      "source": [
        "message = \"Hello! How are you?\"\n",
        "print(message)"
      ]
    },
    {
      "cell_type": "code",
      "source": [
        "message = \"Hello! It's been great\"\n",
        "print(message)\n",
        "\n",
        "message = \"Glad to hear!\"\n",
        "print(message)"
      ],
      "metadata": {
        "colab": {
          "base_uri": "https://localhost:8080/"
        },
        "id": "dKaRnfL1iV4f",
        "outputId": "b57d3582-04f0-42bf-bb22-36d6c0b792a2"
      },
      "execution_count": null,
      "outputs": [
        {
          "output_type": "stream",
          "name": "stdout",
          "text": [
            "Hello! It's been great\n",
            "Glad to hear!\n"
          ]
        }
      ]
    },
    {
      "cell_type": "code",
      "source": [
        "# Changing Case in a String with Methods\n",
        "# name.py\n",
        "name = \"ricardo puma\"\n",
        "print(name.title())"
      ],
      "metadata": {
        "colab": {
          "base_uri": "https://localhost:8080/"
        },
        "id": "5CYNS-bqrHEB",
        "outputId": "acdb9857-5217-4f5f-fd67-82418394ba67"
      },
      "execution_count": null,
      "outputs": [
        {
          "output_type": "stream",
          "name": "stdout",
          "text": [
            "Ricardo Puma\n"
          ]
        }
      ]
    },
    {
      "cell_type": "code",
      "source": [
        "print(name.upper())\n",
        "print(name.lower())"
      ],
      "metadata": {
        "colab": {
          "base_uri": "https://localhost:8080/"
        },
        "id": "6auacDfMvgzO",
        "outputId": "49ab3d5e-7654-4a82-973f-72e1ee4b53dd"
      },
      "execution_count": null,
      "outputs": [
        {
          "output_type": "stream",
          "name": "stdout",
          "text": [
            "RICARDO PUMA\n",
            "ricardo puma\n"
          ]
        }
      ]
    },
    {
      "cell_type": "code",
      "source": [
        "#full_name.py\n",
        "first_name = \"ada\"\n",
        "last_name = \"lovelace\"\n",
        "full_name = f\"{first_name} {last_name}\"\n",
        "print(full_name)"
      ],
      "metadata": {
        "colab": {
          "base_uri": "https://localhost:8080/"
        },
        "id": "3MbgkHsdwRum",
        "outputId": "c9b80543-71e1-4ee0-ca8b-ec780f39fe3c"
      },
      "execution_count": null,
      "outputs": [
        {
          "output_type": "stream",
          "name": "stdout",
          "text": [
            "ada lovelace\n"
          ]
        }
      ]
    },
    {
      "cell_type": "code",
      "source": [
        "print(f\"Hello, {full_name.title()}!\")"
      ],
      "metadata": {
        "colab": {
          "base_uri": "https://localhost:8080/"
        },
        "id": "ptHV8CCu0dlS",
        "outputId": "421f4175-5d80-47c1-e298-ddc3e35db96a"
      },
      "execution_count": null,
      "outputs": [
        {
          "output_type": "stream",
          "name": "stdout",
          "text": [
            "Hello, Ada Lovelace!\n"
          ]
        }
      ]
    },
    {
      "cell_type": "code",
      "source": [
        "#Eliminate whitespace\n",
        "favorite_language = 'python '\n",
        "favorite_lang = f\"{favorite_language=}\"\n",
        "print(favorite_lang)\n",
        "\n",
        "# Remove right whitespace\n",
        "favorite_lang = f\"{favorite_language.rstrip()=}\"\n",
        "print(favorite_lang)\n",
        "\n",
        "# Only remove right whitespace\n",
        "favorite_language = ' python '\n",
        "favorite_lang = f\"{favorite_language.rstrip()=}\"\n",
        "print(favorite_lang)\n",
        "\n",
        "# Only remove left whitespace\n",
        "favorite_lang = f\"{favorite_language.lstrip()=}\"\n",
        "print(favorite_lang)\n",
        "\n",
        "# Remove whitespace in both sides\n",
        "favorite_lang = f\"{favorite_language.strip()=}\"\n",
        "print(favorite_lang)"
      ],
      "metadata": {
        "colab": {
          "base_uri": "https://localhost:8080/"
        },
        "id": "T1jnSbCh-euN",
        "outputId": "4e54af4f-4f21-4418-9a23-380c594a880b"
      },
      "execution_count": null,
      "outputs": [
        {
          "output_type": "stream",
          "name": "stdout",
          "text": [
            "favorite_language='python '\n",
            "favorite_language.rstrip()='python'\n",
            "favorite_language.rstrip()=' python'\n",
            "favorite_language.lstrip()='python '\n",
            "favorite_language.strip()='python'\n"
          ]
        }
      ]
    },
    {
      "cell_type": "code",
      "source": [
        "# apostrophe.py\n",
        "message = \"One of Python's strengths is its diverse community.\"\n",
        "print(message)\n",
        "\n",
        "# What not to do\n",
        "message = 'One of Python's strengths is its diverse community.'\n",
        "print(message)"
      ],
      "metadata": {
        "colab": {
          "base_uri": "https://localhost:8080/",
          "height": 140
        },
        "id": "XAZKvb8jGR_m",
        "outputId": "726088cd-9a8a-4b05-b5ea-00175aef2d7a"
      },
      "execution_count": null,
      "outputs": [
        {
          "output_type": "error",
          "ename": "SyntaxError",
          "evalue": "ignored",
          "traceback": [
            "\u001b[0;36m  File \u001b[0;32m\"<ipython-input-24-79f29c3b7e99>\"\u001b[0;36m, line \u001b[0;32m6\u001b[0m\n\u001b[0;31m    message = 'One of Python's strengths is its diverse community.'\u001b[0m\n\u001b[0m                                                                  ^\u001b[0m\n\u001b[0;31mSyntaxError\u001b[0m\u001b[0;31m:\u001b[0m unterminated string literal (detected at line 6)\n"
          ]
        }
      ]
    },
    {
      "cell_type": "code",
      "source": [
        "# Try it yourself\n",
        "# 2-3\n",
        "\n",
        "name = \"John\"\n",
        "message = \"do you want to hang out?\"\n",
        "\n",
        "print(f\"Hello {name}, {message}\")\n",
        "\n",
        "# 2-4\n",
        "name = \"dakota\"\n",
        "\n",
        "name_upper = name.upper() # make all uppercase\n",
        "name_lower = name.lower() # make all lowercase\n",
        "name_title = name.title() # capitalize first letter\n",
        "\n",
        "print(name_upper, name_lower, name_title)\n",
        "\n",
        "# 2-5\n",
        "\n",
        "print('Charles-Guillaume Étienne once said, \"If you want something done right, do it yourself.\"')\n",
        "# 2-6\n",
        "\n",
        "author = \"Charles-Guillaume Étienne\"\n",
        "quote = \"If you want something done right, do it yourself.\"\n",
        "\n",
        "print(f'{author} once said, \"{quote}\"')\n",
        "\n",
        "# 2-7\n",
        "name = \"\\tPeter\\n\"\n",
        "\n",
        "print(name)\n",
        "print(name.lstrip())\n",
        "print(name.rstrip())\n",
        "print(name.strip())\n",
        "\n",
        "# 2-8\n",
        "\n",
        "filename = \"python_notes.txt\"\n",
        "\n",
        "print(filename.removesuffix(\".txt\")) # First got an error but had just forgotten to include the argument (\".txt\")\n",
        "\n",
        "\n"
      ],
      "metadata": {
        "colab": {
          "base_uri": "https://localhost:8080/"
        },
        "id": "feVwVKYOHB9s",
        "outputId": "7637e018-62a6-4815-bfa2-2627c6bbba15"
      },
      "execution_count": null,
      "outputs": [
        {
          "output_type": "stream",
          "name": "stdout",
          "text": [
            "Hello John, do you want to hang out?\n",
            "DAKOTA dakota Dakota\n",
            "Charles-Guillaume Étienne once said, \"If you want something done right, do it yourself.\"\n",
            "Charles-Guillaume Étienne once said, \"If you want something done right, do it yourself.\"\n",
            "\tPeter\n",
            "\n",
            "Peter\n",
            "\n",
            "\tPeter\n",
            "Peter\n",
            "python_notes\n"
          ]
        }
      ]
    },
    {
      "cell_type": "code",
      "source": [
        "# Try it yourself\n",
        "# 2-9\n",
        "\n",
        "print(2 + 6)\n",
        "print(2 * 4)\n",
        "print(10 - 2)\n",
        "print(16 / 2)\n",
        "\n",
        "# 2-10\n",
        "favorite_number = 7\n",
        "message = \"My favorite number is\"\n",
        "\n",
        "print(message, favorite_number)\n",
        "\n",
        "# 2-11\n",
        "# I have already written comments so, yeah.\n",
        "\n"
      ],
      "metadata": {
        "id": "FoSGM0ePlbAv",
        "colab": {
          "base_uri": "https://localhost:8080/"
        },
        "outputId": "87dc67e2-b393-4039-d095-907b162dbbf1"
      },
      "execution_count": 20,
      "outputs": [
        {
          "output_type": "stream",
          "name": "stdout",
          "text": [
            "8\n",
            "8\n",
            "8\n",
            "8.0\n",
            "My favorite number is 7\n"
          ]
        }
      ]
    },
    {
      "cell_type": "code",
      "source": [
        "import this"
      ],
      "metadata": {
        "colab": {
          "base_uri": "https://localhost:8080/"
        },
        "id": "6qbtsZ7Wud4M",
        "outputId": "18162f3d-f79f-4f11-e539-e2f62b519140"
      },
      "execution_count": 21,
      "outputs": [
        {
          "output_type": "stream",
          "name": "stdout",
          "text": [
            "The Zen of Python, by Tim Peters\n",
            "\n",
            "Beautiful is better than ugly.\n",
            "Explicit is better than implicit.\n",
            "Simple is better than complex.\n",
            "Complex is better than complicated.\n",
            "Flat is better than nested.\n",
            "Sparse is better than dense.\n",
            "Readability counts.\n",
            "Special cases aren't special enough to break the rules.\n",
            "Although practicality beats purity.\n",
            "Errors should never pass silently.\n",
            "Unless explicitly silenced.\n",
            "In the face of ambiguity, refuse the temptation to guess.\n",
            "There should be one-- and preferably only one --obvious way to do it.\n",
            "Although that way may not be obvious at first unless you're Dutch.\n",
            "Now is better than never.\n",
            "Although never is often better than *right* now.\n",
            "If the implementation is hard to explain, it's a bad idea.\n",
            "If the implementation is easy to explain, it may be a good idea.\n",
            "Namespaces are one honking great idea -- let's do more of those!\n"
          ]
        }
      ]
    }
  ]
}