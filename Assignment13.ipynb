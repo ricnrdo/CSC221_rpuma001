{
  "nbformat": 4,
  "nbformat_minor": 0,
  "metadata": {
    "colab": {
      "provenance": [],
      "authorship_tag": "ABX9TyMWlz8OkBQWUySycxZbNHvc",
      "include_colab_link": true
    },
    "kernelspec": {
      "name": "python3",
      "display_name": "Python 3"
    },
    "language_info": {
      "name": "python"
    }
  },
  "cells": [
    {
      "cell_type": "markdown",
      "metadata": {
        "id": "view-in-github",
        "colab_type": "text"
      },
      "source": [
        "<a href=\"https://colab.research.google.com/github/ricnrdo/CSC221_rpuma001/blob/main/Assignment13.ipynb\" target=\"_parent\"><img src=\"https://colab.research.google.com/assets/colab-badge.svg\" alt=\"Open In Colab\"/></a>"
      ]
    },
    {
      "cell_type": "code",
      "execution_count": 1,
      "metadata": {
        "colab": {
          "base_uri": "https://localhost:8080/"
        },
        "id": "Z143mTpiQ4s6",
        "outputId": "6a39e417-b262-4db6-e835-33ee4259571a"
      },
      "outputs": [
        {
          "output_type": "stream",
          "name": "stdout",
          "text": [
            "Enter your birthday, in the form mmddyy: 110705\n",
            "Your birthday appears in the first million digits of pi!\n"
          ]
        }
      ],
      "source": [
        "from pathlib import Path\n",
        "\n",
        "# path = Path('pi_digits.txt')\n",
        "path = Path('pi_million_digits.txt')\n",
        "contents = path.read_text().rstrip()\n",
        "\n",
        "lines = contents.splitlines()\n",
        "\n",
        "# for line in lines:\n",
        "#     print(line)\n",
        "\n",
        "# print(contents)\n",
        "\n",
        "pi_string = ''\n",
        "for line in lines:\n",
        "    pi_string += line.lstrip()\n",
        "\n",
        "# print(pi_string)\n",
        "# print(f\"{pi_string[:52]}...\")\n",
        "# print(len(pi_string))\n",
        "\n",
        "# Check if birthday appears in first million digits of pi\n",
        "\n",
        "birthday = input(\"Enter your birthday, in the form mmddyy: \")\n",
        "if birthday in pi_string:\n",
        "    print(\"Your birthday appears in the first million digits of pi!\")\n",
        "else:\n",
        "    print(\"Your birthday does not appear in the first million digits of pi.\")"
      ]
    },
    {
      "cell_type": "code",
      "source": [
        "# 10-1\n",
        "\n",
        "from pathlib import Path\n",
        "\n",
        "path = Path('learning_python.txt')\n",
        "contents = path.read_text()\n",
        "\n",
        "print(contents)\n",
        "\n",
        "print(\"\\nUsing for loop:\")\n",
        "lines = contents.splitlines()\n",
        "\n",
        "for line in lines:\n",
        "    print(line)"
      ],
      "metadata": {
        "colab": {
          "base_uri": "https://localhost:8080/"
        },
        "id": "iUmOwCWeRNf1",
        "outputId": "c6c99583-113f-4392-a633-70f9c46f9f25"
      },
      "execution_count": 3,
      "outputs": [
        {
          "output_type": "stream",
          "name": "stdout",
          "text": [
            "In Python you can have dictionaries\n",
            "In Python you can do math\n",
            "In Python you can create plots\n",
            "In Python you can...\n",
            "\n",
            "Using for loop:\n",
            "In Python you can have dictionaries\n",
            "In Python you can do math\n",
            "In Python you can create plots\n",
            "In Python you can...\n"
          ]
        }
      ]
    },
    {
      "cell_type": "code",
      "source": [
        "# 10-4\n",
        "\n",
        "from pathlib import Path\n",
        "\n",
        "path = Path(\"guest.txt\")\n",
        "\n",
        "ask_for_name = input(\"What is your name? \")\n",
        "path.write_text(ask_for_name)"
      ],
      "metadata": {
        "colab": {
          "base_uri": "https://localhost:8080/"
        },
        "id": "t35MDb1RUJw6",
        "outputId": "a0c31973-6790-4ff7-81bc-4a029d90f7b4"
      },
      "execution_count": 6,
      "outputs": [
        {
          "name": "stdout",
          "output_type": "stream",
          "text": [
            "What is your name? Ricardo\n"
          ]
        },
        {
          "output_type": "execute_result",
          "data": {
            "text/plain": [
              "7"
            ]
          },
          "metadata": {},
          "execution_count": 6
        }
      ]
    }
  ]
}