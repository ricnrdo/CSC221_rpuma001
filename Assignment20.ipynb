{
  "nbformat": 4,
  "nbformat_minor": 0,
  "metadata": {
    "colab": {
      "provenance": [],
      "include_colab_link": true
    },
    "kernelspec": {
      "name": "python3",
      "display_name": "Python 3"
    },
    "language_info": {
      "name": "python"
    }
  },
  "cells": [
    {
      "cell_type": "markdown",
      "metadata": {
        "id": "view-in-github",
        "colab_type": "text"
      },
      "source": [
        "<a href=\"https://colab.research.google.com/github/ricnrdo/CSC221_rpuma001/blob/main/Assignment20.ipynb\" target=\"_parent\"><img src=\"https://colab.research.google.com/assets/colab-badge.svg\" alt=\"Open In Colab\"/></a>"
      ]
    },
    {
      "cell_type": "markdown",
      "source": [
        "# Assignment 20\n",
        "## CSC 221\n",
        "- Ricardo Puma\n",
        "\n",
        "### Instructions:\n",
        "Fill in each code cell below the question. We are following along in Chapter 4 of Python Distilled."
      ],
      "metadata": {
        "id": "IAOUzGWE1eDx"
      }
    },
    {
      "cell_type": "code",
      "execution_count": 1,
      "metadata": {
        "id": "Gnj3su7i5-lx",
        "colab": {
          "base_uri": "https://localhost:8080/"
        },
        "outputId": "55596203-f548-4825-d35a-518d40782a26"
      },
      "outputs": [
        {
          "output_type": "stream",
          "name": "stdout",
          "text": [
            "19\n",
            "44.5\n",
            "asdfg13\n"
          ]
        }
      ],
      "source": [
        "# 4.1 Essential Concepts\n",
        "\n",
        "# When we write \"a + b\" in Python, the interpreter tries to execute a.__add__(b)\n",
        "\n",
        "# Show that this is true by trying the following:\n",
        "a = 6\n",
        "b = 31.5\n",
        "c = 'asdfg'\n",
        "a1 = a.__add__(13)\n",
        "b1 = b.__add__(13)\n",
        "c1 = c.__add__('13')\n",
        "print(a1)\n",
        "print(b1)\n",
        "print(c1)\n",
        "\n",
        "# What are the types of a, b, and c?\n",
        "'''\n",
        "a is an integer\n",
        "b is a float\n",
        "c is a string\n",
        "\n",
        "a1 stores the result of the sum of a and 13\n",
        "b1 stores the result of the sum of b and 13\n",
        "b1 stores the concatenation of a and 13\n",
        "'''\n",
        "\n",
        "# Explain the results\n"
      ]
    },
    {
      "cell_type": "code",
      "source": [
        "# 4.2 through 4.4 will be covered in the next assignment\n"
      ],
      "metadata": {
        "id": "w2uYd3DO2do6"
      },
      "execution_count": null,
      "outputs": []
    },
    {
      "cell_type": "code",
      "source": [
        "# 4.5 str and repr\n",
        "# How many categpries of printing are shown below for a datetime object?\n",
        "# What in the Pythion code makes each one get callled?\n",
        "\n",
        "from datetime import date\n",
        "d = date(2023, 11, 7)\n",
        "\n",
        "#1 print(d)\n",
        "#2 print(f'{d}')\n",
        "#3 print(f'{d!s}')\n",
        "#4 print(f'{d!r}')\n",
        "#5 print(str(d))\n",
        "#6 print(repr(d))\n",
        "#7 print(d.__str__())\n",
        "#8 print(d.__repr__())\n",
        "\n",
        "'''\n",
        "There are 2 categories\n",
        "__str__() and __repr__()\n",
        "\n",
        "1 and 2 uses the __str__() method\n",
        "3, 5, and 7 explicity or directly calls the __str__() method\n",
        "4, 6, and 8 explicity or directly calls the __repr__() method\n",
        "3/4 uses !s/!r to force to print it as a string/repr.\n",
        "\n",
        "'''\n"
      ],
      "metadata": {
        "id": "Aa3ylzmV2wNF"
      },
      "execution_count": null,
      "outputs": []
    },
    {
      "cell_type": "code",
      "source": [
        "# 4.6 First-Class Objects\n",
        "# What is the significance of all objects being \"first-class\" in Python?\n",
        "\n",
        "# Explain by typing in the code to create and use the 'items' dictionary shown in section 4.6.\n",
        "# Explain each of the lines starting with '>>>' in the section.\n",
        "items = {\n",
        "    'number': 47,\n",
        "    'text': 'Hello World'\n",
        "}\n",
        "\n",
        "items['func'] = abs\n",
        "import math\n",
        "items['mod'] = math\n",
        "items['error'] = ValueError\n",
        "nums = [1, 2, 3, 4]\n",
        "items['append'] = nums.append\n",
        "\n",
        "# >>> items['func'](-45)\n",
        "# >>> items['mod].sqrt(4)\n",
        "# >>> ... except items['error'] ...\n",
        "\n",
        "'''\n",
        "In items we stored methods like math, abs, even a exception handler.\n",
        "What items['...']... does is get the method and give it an attribute.\n",
        "For example, items['mod'].sqrt(4) in reality is math.sqrt(4)\n",
        "because we stored the method math with a key named mod in items.\n",
        "'''"
      ],
      "metadata": {
        "id": "9LRpP06Vsw6n"
      },
      "execution_count": 12,
      "outputs": []
    },
    {
      "cell_type": "code",
      "source": [
        "# 4.7 Using None\n",
        "# Write a function that takes two parameters and returns their sum if they are\n",
        "#  integers or returns None if either one is not.\n",
        "\n",
        "# Put in some test code to show that your function works\n",
        "\n",
        "def sum(a, b):\n",
        "  if isinstance(a, int) and isinstance(b, int):\n",
        "    return a + b\n",
        "  else:\n",
        "    return None\n",
        "\n",
        "result = sum(1, 2)\n",
        "result1 = sum(1.0, 24)\n",
        "result2 = sum(4, 2.5)\n",
        "result3 = sum(4.24, 2.5)\n",
        "\n",
        "print(result)\n",
        "print(result1)\n",
        "print(result2)\n",
        "print(result3)"
      ],
      "metadata": {
        "id": "dUhRWGnCtewU",
        "colab": {
          "base_uri": "https://localhost:8080/"
        },
        "outputId": "959ed172-6173-421a-fe54-d6cab33bce85"
      },
      "execution_count": 24,
      "outputs": [
        {
          "output_type": "stream",
          "name": "stdout",
          "text": [
            "3\n",
            "None\n",
            "None\n",
            "None\n"
          ]
        }
      ]
    },
    {
      "cell_type": "code",
      "source": [
        "# 4.9 Object Protocol\n",
        "# Create a simple object that has methods for:\n",
        "#  __new__\n",
        "#  __init__\n",
        "#  __del__\n",
        "#  __repr__\n",
        "#  __str__\n",
        "\n",
        "# Put in some test code to show how and when each of these 'magic' functions gets called.\n",
        "\n",
        "class newObject:\n",
        "    def __new__(cls, *args):\n",
        "        instance = super().__new__(cls)\n",
        "        print(\"__new__ method is called\")\n",
        "        return instance\n",
        "\n",
        "    def __init__(self, name):\n",
        "        self.name = name\n",
        "        print(\"__init__ method is called\")\n",
        "\n",
        "\n",
        "    def __repr__(self):\n",
        "        return f\"newObject(name={self.name})\"\n",
        "\n",
        "    def __str__(self):\n",
        "        return f\"This is a newObject named {self.name}\"\n",
        "\n",
        "    def __del__(self):\n",
        "        print(\"__del__ method is called\")\n",
        "\n",
        "obj = newObject(\"Test\")\n",
        "print(repr(obj))\n",
        "print(str(obj))\n",
        "del obj"
      ],
      "metadata": {
        "id": "4M-CQevEt2xQ",
        "colab": {
          "base_uri": "https://localhost:8080/"
        },
        "outputId": "a460b327-57bf-4969-e09c-cdf2b42f068f"
      },
      "execution_count": 31,
      "outputs": [
        {
          "output_type": "stream",
          "name": "stdout",
          "text": [
            "__new__ method is called\n",
            "__init__ method is called\n",
            "newObject(name=Test)\n",
            "This is a newObject named Test\n",
            "__del__ method is called\n"
          ]
        }
      ]
    }
  ]
}