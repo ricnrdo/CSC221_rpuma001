{
  "nbformat": 4,
  "nbformat_minor": 0,
  "metadata": {
    "colab": {
      "provenance": [],
      "authorship_tag": "ABX9TyMJUtLBmL7ZJa73AOkukh6r",
      "include_colab_link": true
    },
    "kernelspec": {
      "name": "python3",
      "display_name": "Python 3"
    },
    "language_info": {
      "name": "python"
    }
  },
  "cells": [
    {
      "cell_type": "markdown",
      "metadata": {
        "id": "view-in-github",
        "colab_type": "text"
      },
      "source": [
        "<a href=\"https://colab.research.google.com/github/ricnrdo/CSC221_rpuma001/blob/main/Assignment9.ipynb\" target=\"_parent\"><img src=\"https://colab.research.google.com/assets/colab-badge.svg\" alt=\"Open In Colab\"/></a>"
      ]
    },
    {
      "cell_type": "code",
      "execution_count": 1,
      "metadata": {
        "colab": {
          "base_uri": "https://localhost:8080/"
        },
        "id": "297RGwZwdeE4",
        "outputId": "9f3e6c6d-f76c-44c2-b9ea-fd0d5a504dd6"
      },
      "outputs": [
        {
          "output_type": "stream",
          "name": "stdout",
          "text": [
            "Hello!\n"
          ]
        }
      ],
      "source": [
        "# Ricardo\n",
        "# Assignment 9\n",
        "\n",
        "def greet_user():\n",
        "  print(\"Hello!\")\n",
        "\n",
        "greet_user()"
      ]
    },
    {
      "cell_type": "code",
      "source": [
        "# TIY\n",
        "# 8-1\n",
        "\n",
        "def display_message():\n",
        "  print(\"In this chapter I am learning about functions.\")\n",
        "\n",
        "display_message()"
      ],
      "metadata": {
        "colab": {
          "base_uri": "https://localhost:8080/"
        },
        "id": "BeJKA0ryfK_y",
        "outputId": "7381eb8d-416e-41c6-f2fe-35590506808f"
      },
      "execution_count": 2,
      "outputs": [
        {
          "output_type": "stream",
          "name": "stdout",
          "text": [
            "In this chapter I am learning about functions.\n"
          ]
        }
      ]
    },
    {
      "cell_type": "code",
      "source": [
        "# 8-2\n",
        "def favorite_book(title):\n",
        "  print(f\"One of my favorite books is {title}\")\n",
        "\n",
        "favorite_book(\"Fahrenheit 451\")"
      ],
      "metadata": {
        "colab": {
          "base_uri": "https://localhost:8080/"
        },
        "id": "y9fcdd4dfZcq",
        "outputId": "24ed92ad-90bd-4f29-c453-806b8c439948"
      },
      "execution_count": 7,
      "outputs": [
        {
          "output_type": "stream",
          "name": "stdout",
          "text": [
            "One of my favorite books is Fahrenheit 451\n"
          ]
        }
      ]
    },
    {
      "cell_type": "code",
      "source": [
        "# 8-3\n",
        "def make_shirt(text, size=\"L\"):\n",
        "  print(f\"The shirt is a size {size}\")\n",
        "  print(f\"We will print this text on the shirt: {text}\")\n",
        "\n",
        "make_shirt(\"Live, Laugh, Love\", \"L\")\n",
        "make_shirt(size=\"L\", text=\"No Snacks? IM OUT\")\n",
        "\n",
        "print(\"\\n# 8-4\")\n",
        "# 8-4\n",
        "make_shirt(\"I love Python\")\n",
        "make_shirt(\"I love Python\", \"M\")\n",
        "make_shirt(\"In my defense I was left unsupervised\", \"XL\")"
      ],
      "metadata": {
        "colab": {
          "base_uri": "https://localhost:8080/"
        },
        "id": "OHg3JVZNgf9S",
        "outputId": "4edcecc3-be97-4c9a-f8ba-bb3c4700c1a4"
      },
      "execution_count": 19,
      "outputs": [
        {
          "output_type": "stream",
          "name": "stdout",
          "text": [
            "The shirt is a size L\n",
            "We will print this text on the shirt: Live, Laugh, Love\n",
            "The shirt is a size L\n",
            "We will print this text on the shirt: No Snacks? IM OUT\n",
            "\n",
            "# 8-4\n",
            "The shirt is a size L\n",
            "We will print this text on the shirt: I love Python\n",
            "The shirt is a size M\n",
            "We will print this text on the shirt: I love Python\n",
            "The shirt is a size XL\n",
            "We will print this text on the shirt: In my defense I was left unsupervised\n"
          ]
        }
      ]
    },
    {
      "cell_type": "code",
      "source": [
        "# 8-14\n",
        "def cars(manufacturer, model, **car_info):\n",
        "  car_info['manufacturer'] = manufacturer\n",
        "  car_info['model'] = model\n",
        "  return car_info\n",
        "\n",
        "car = cars('subaru', 'outback', color='blue', tow_package=True)\n",
        "\n",
        "print(car)"
      ],
      "metadata": {
        "colab": {
          "base_uri": "https://localhost:8080/"
        },
        "id": "HYwtTmQ0okZ7",
        "outputId": "b6ca0d54-3335-4824-91ef-86beb8d52675"
      },
      "execution_count": 20,
      "outputs": [
        {
          "output_type": "stream",
          "name": "stdout",
          "text": [
            "{'color': 'blue', 'tow_package': True, 'manufacturer': 'subaru', 'model': 'outback'}\n"
          ]
        }
      ]
    },
    {
      "cell_type": "code",
      "source": [
        "# Function that takes two numbers and returns their sum and a list containing both numbers in sorted order.\n",
        "\n",
        "def sum_and_sorted(num1, num2=3.141592653589793, verbose=False):\n",
        "  total = num1 + num2\n",
        "  sort_num = sorted([num1, num2])\n",
        "\n",
        "  print(f\"The sum of {num1} and {num2} was: {total}\")\n",
        "\n",
        "  if verbose:\n",
        "    print(f\"\\nVerbose=True\\n{num1=}\\n{num2=}\\n{total}\\n{sort_num}\")\n",
        "\n",
        "sum_and_sorted(4, 3, True)\n"
      ],
      "metadata": {
        "colab": {
          "base_uri": "https://localhost:8080/"
        },
        "id": "yxeih0HkqMSK",
        "outputId": "3ff2c096-aecb-4744-a504-6e71670e65ba"
      },
      "execution_count": 34,
      "outputs": [
        {
          "output_type": "stream",
          "name": "stdout",
          "text": [
            "The sum of 4 and 3 was: 7\n",
            "\n",
            "Verbose=True\n",
            "num1=4\n",
            "num2=3\n",
            "7\n",
            "[3, 4]\n"
          ]
        }
      ]
    }
  ]
}