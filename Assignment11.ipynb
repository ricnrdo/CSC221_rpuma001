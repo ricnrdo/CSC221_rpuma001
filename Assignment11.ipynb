{
  "nbformat": 4,
  "nbformat_minor": 0,
  "metadata": {
    "colab": {
      "provenance": [],
      "authorship_tag": "ABX9TyNYEKOIcUnGEQoA7+d7huRU",
      "include_colab_link": true
    },
    "kernelspec": {
      "name": "python3",
      "display_name": "Python 3"
    },
    "language_info": {
      "name": "python"
    }
  },
  "cells": [
    {
      "cell_type": "markdown",
      "metadata": {
        "id": "view-in-github",
        "colab_type": "text"
      },
      "source": [
        "<a href=\"https://colab.research.google.com/github/ricnrdo/CSC221_rpuma001/blob/main/Assignment11.ipynb\" target=\"_parent\"><img src=\"https://colab.research.google.com/assets/colab-badge.svg\" alt=\"Open In Colab\"/></a>"
      ]
    },
    {
      "cell_type": "code",
      "source": [
        "# Ricardo Puma\n",
        "# Assignment 11"
      ],
      "metadata": {
        "id": "UZuCHcqkIpcS"
      },
      "execution_count": null,
      "outputs": []
    },
    {
      "cell_type": "code",
      "execution_count": 1,
      "metadata": {
        "id": "mRLmOsnI5IEy"
      },
      "outputs": [],
      "source": [
        "class Dog:\n",
        "  \"\"\"A simple attempt to model a dog.\"\"\"\n",
        "\n",
        "  def __init__(self, name, age):\n",
        "    \"\"\"Inititalize name and age attributes.\"\"\"\n",
        "    self.name = name\n",
        "    self.age = age\n",
        "\n",
        "  def sit(self):\n",
        "    \"\"\"Simulate a dog sitting in response to a command.\"\"\"\n",
        "    print(f\"{self.name} is now sitting.\")\n",
        "\n",
        "  def roll_over(self):\n",
        "    \"\"\"Simulate rolling over in response to a command.\"\"\"\n",
        "    print(f\"{self.name} rolled over!\")"
      ]
    },
    {
      "cell_type": "code",
      "source": [
        "my_dog = Dog(\"Willie\", 6)\n",
        "\n",
        "print(f\"My dog's name is {my_dog.name}.\")\n",
        "print(f\"My dog is {my_dog.age} years old.\")"
      ],
      "metadata": {
        "colab": {
          "base_uri": "https://localhost:8080/"
        },
        "id": "UHATGJm6-bPC",
        "outputId": "4f661e5f-719f-4c61-aafe-bf72b2f8ba83"
      },
      "execution_count": 2,
      "outputs": [
        {
          "output_type": "stream",
          "name": "stdout",
          "text": [
            "My dog's name is Willie.\n",
            "My dog is 6 years old.\n"
          ]
        }
      ]
    },
    {
      "cell_type": "code",
      "source": [
        "my_dog = Dog(\"Willie\", 6)\n",
        "my_dog.sit()\n",
        "my_dog.roll_over()"
      ],
      "metadata": {
        "colab": {
          "base_uri": "https://localhost:8080/"
        },
        "id": "0FuGtKnPCoem",
        "outputId": "3c0831d1-a8ca-4cc2-e2bf-80d340ac8ffa"
      },
      "execution_count": 3,
      "outputs": [
        {
          "output_type": "stream",
          "name": "stdout",
          "text": [
            "Willie is now sitting.\n",
            "Willie rolled over!\n"
          ]
        }
      ]
    },
    {
      "cell_type": "code",
      "source": [
        "my_dog = Dog(\"willie\", 6)\n",
        "your_dog = Dog(\"Lucy\", 3)\n",
        "\n",
        "print(f\"My dog's name is {my_dog.name}.\")\n",
        "print(f\"My dog is {my_dog.age} years old.\")\n",
        "my_dog.sit()\n",
        "\n",
        "print(f\"\\nYour dog's name is {your_dog.name}.\")\n",
        "print(f\"Your dog is {your_dog.age} years old.\")\n",
        "your_dog.sit()"
      ],
      "metadata": {
        "colab": {
          "base_uri": "https://localhost:8080/"
        },
        "id": "BVmX3bMsCzvs",
        "outputId": "15816f88-a8c3-489a-91d6-d3315af96f93"
      },
      "execution_count": 4,
      "outputs": [
        {
          "output_type": "stream",
          "name": "stdout",
          "text": [
            "My dog's name is willie.\n",
            "My dog is 6 years old.\n",
            "willie is now sitting.\n",
            "\n",
            "Your dog's name is Lucy.\n",
            "Your dog is 3 years old.\n",
            "Lucy is now sitting.\n"
          ]
        }
      ]
    },
    {
      "cell_type": "code",
      "source": [
        "# 9-1\n",
        "class Restaurant:\n",
        "  def __init__(self, restaurant_name, cuisine_type):\n",
        "    self.restaurant_name = restaurant_name\n",
        "    self.cuisine_type = cuisine_type\n",
        "\n",
        "  def describe_restaurant(self):\n",
        "    print(f\"Our restaurant's name is {self.restaurant_name}\")\n",
        "    print(f\"{self.restaurant_name} is {self.cuisine_type}\")\n",
        "\n",
        "  def open_restaurant(self):\n",
        "    print(f\"The restaurant is open!\")"
      ],
      "metadata": {
        "id": "bYaWEmEZDX04"
      },
      "execution_count": 3,
      "outputs": []
    },
    {
      "cell_type": "code",
      "source": [
        "my_restaurant = Restaurant(\"Pizzeria\", \"Italian food\")\n",
        "my_restaurant.describe_restaurant()\n",
        "my_restaurant.open_restaurant()"
      ],
      "metadata": {
        "colab": {
          "base_uri": "https://localhost:8080/"
        },
        "id": "Gu7MdxvXFKk6",
        "outputId": "01d1393a-0d69-4c58-b19a-7eea99dbfc81"
      },
      "execution_count": 10,
      "outputs": [
        {
          "output_type": "stream",
          "name": "stdout",
          "text": [
            "Our restaurant's name is Pizzeria\n",
            "\n",
            "Pizzeria is Italian food\n",
            "The restaurant is open!\n"
          ]
        }
      ]
    },
    {
      "cell_type": "code",
      "source": [
        "# 9-2\n",
        "first_restaurant = Restaurant(\"Bella Italia Trattoria\", \"Italian\")\n",
        "first_restaurant.describe_restaurant()\n",
        "\n",
        "print()\n",
        "\n",
        "second_restaurant = Restaurant(\"Sakura Sushi Bar\", \"Japanese Sushi\")\n",
        "second_restaurant.describe_restaurant()\n",
        "print()\n",
        "\n",
        "third_restaurant = Restaurant(\"The Oakwood Grill\", \"American Steakhouse\")\n",
        "third_restaurant.describe_restaurant()"
      ],
      "metadata": {
        "colab": {
          "base_uri": "https://localhost:8080/"
        },
        "id": "P05Au91lGfEH",
        "outputId": "75bf7697-8668-4037-f30c-2521637f6d3f"
      },
      "execution_count": 15,
      "outputs": [
        {
          "output_type": "stream",
          "name": "stdout",
          "text": [
            "Our restaurant's name is Bella Italia Trattoria\n",
            "Bella Italia Trattoria is Italian\n",
            "\n",
            "Our restaurant's name is Sakura Sushi Bar\n",
            "Sakura Sushi Bar is Japanese Sushi\n",
            "\n",
            "Our restaurant's name is The Oakwood Grill\n",
            "The Oakwood Grill is American Steakhouse\n"
          ]
        }
      ]
    },
    {
      "cell_type": "code",
      "source": [
        "# 9-3\n",
        "class User:\n",
        "  def __init__(self, first_name, last_name, *args):\n",
        "    self.first_name = first_name\n",
        "    self.last_name = last_name\n",
        "    self.age = args[0]\n",
        "    self.nationality = args[1]\n",
        "\n",
        "  def describe_user(self):\n",
        "    print(f\"User's name is {self.first_name} {self.last_name}\")\n",
        "    print(f\"{self.first_name} {self.last_name} is {self.age} years old\")\n",
        "    print(f\"{self.first_name} {self.last_name} is {self.nationality}\")\n",
        "\n",
        "  def greet_user(self):\n",
        "    print(f\"Good morning, {self.first_name}!\")"
      ],
      "metadata": {
        "id": "mkdzmY7zIExF"
      },
      "execution_count": 17,
      "outputs": []
    },
    {
      "cell_type": "code",
      "source": [
        "first_user = User(\"Ricardo\", \"Puma\", 17, \"Ecuadorian\")\n",
        "first_user.describe_user()\n",
        "first_user.greet_user()\n",
        "\n",
        "print()\n",
        "\n",
        "second_user = User(\"Olivia\", \"Anderson\", 19, \"American\")\n",
        "second_user.describe_user()\n",
        "second_user.greet_user()\n",
        "\n",
        "print()\n",
        "\n",
        "third_user = User(\"Louis\", \"Martin\", 21, \"French\")\n",
        "third_user.describe_user()\n",
        "third_user.greet_user()"
      ],
      "metadata": {
        "colab": {
          "base_uri": "https://localhost:8080/"
        },
        "id": "oUZRqN9XMjEz",
        "outputId": "ab949de4-036c-4cc7-b7db-b2be494a521d"
      },
      "execution_count": 6,
      "outputs": [
        {
          "output_type": "stream",
          "name": "stdout",
          "text": [
            "User's name is Ricardo Puma\n",
            "Ricardo Puma is 17 years old\n",
            "Ricardo Puma is Ecuadorian\n",
            "Good morning, Ricardo!\n",
            "\n",
            "User's name is Olivia Anderson\n",
            "Olivia Anderson is 19 years old\n",
            "Olivia Anderson is American\n",
            "Good morning, Olivia!\n",
            "\n",
            "User's name is Louis Martin\n",
            "Louis Martin is 21 years old\n",
            "Louis Martin is French\n",
            "Good morning, Louis!\n"
          ]
        }
      ]
    },
    {
      "cell_type": "code",
      "source": [
        "class Car:\n",
        "  \"\"\"A simple attempt to represent a car.\"\"\"\n",
        "  def __init__(self, make, model, year):\n",
        "    \"\"\"Initialize attributes to describe a car.\"\"\"\n",
        "    self.make = make\n",
        "    self.model = model\n",
        "    self.year = year\n",
        "    self.odometer_reading = 0\n",
        "\n",
        "  def get_descriptive_name(self):\n",
        "    \"\"\"Return a neatly formatted descriptive name.\"\"\"\n",
        "    long_name = f\"{self.year} {self.make} {self.model}\"\n",
        "    return long_name.title()\n",
        "\n",
        "  def read_odometer(self):\n",
        "    \"\"\"Print a statement showing the car's mileage.\"\"\"\n",
        "    print(f\"This car has {self.odometer_reading} miles on it.\")\n",
        "\n",
        "  def update_odometer(self, mileage):\n",
        "    \"\"\"Set the odometer reading to the given value.\n",
        "       Reject the change if it attempt to roll the odometer back.\n",
        "    \"\"\"\n",
        "\n",
        "    if mileage >= self.odometer_reading:\n",
        "      self.odometer_reading = mileage\n",
        "    else:\n",
        "      print(\"You can't roll back an odometer!\")\n",
        "\n",
        "  def increment_odometer(self, miles):\n",
        "    \"\"\"Add the given amount to the odometer reading.\"\"\"\n",
        "    self.odometer_reading += miles\n",
        "\n",
        "my_used_car = Car('Subaru', 'outback', 2019)\n",
        "print(my_used_car.get_descriptive_name())\n",
        "\n",
        "my_used_car.update_odometer(23_500)\n",
        "my_used_car.read_odometer()\n",
        "\n",
        "my_used_car.increment_odometer(100)\n",
        "my_used_car.read_odometer()"
      ],
      "metadata": {
        "colab": {
          "base_uri": "https://localhost:8080/"
        },
        "id": "FtNA6cgCurbW",
        "outputId": "c96d0d84-7917-4562-a7e8-06ad0ffbf8a6"
      },
      "execution_count": 15,
      "outputs": [
        {
          "output_type": "stream",
          "name": "stdout",
          "text": [
            "2019 Subaru Outback\n",
            "This car has 23500 miles on it.\n",
            "This car has 23600 miles on it.\n"
          ]
        }
      ]
    },
    {
      "cell_type": "code",
      "source": [
        "class ElectricCar(Car):\n",
        "  \"\"\"Represent aspects of a car, specific to electric vehicles.\"\"\"\n",
        "\n",
        "  def __init__(self, make, model, year):\n",
        "    \"\"\"Initialize attributes of the parent class.\"\"\"\n",
        "    super().__init__(make, model, year)\n",
        "    self.battery_size = 40\n",
        "\n",
        "  def describe_battery(self):\n",
        "    \"\"\"Print a statement describing the battery size.\"\"\"\n",
        "    print(f\"This car has a {self.battery_size}~kWh battery\")\n",
        "\n",
        "my_leaf = ElectricCar('nissan', 'leaf', 2024)\n",
        "print(my_leaf.get_descriptive_name())\n",
        "my_leaf.describe_battery()"
      ],
      "metadata": {
        "colab": {
          "base_uri": "https://localhost:8080/"
        },
        "id": "kwEruDzByqc-",
        "outputId": "28b07d19-e9da-47cc-ff80-6b6e44851853"
      },
      "execution_count": 19,
      "outputs": [
        {
          "output_type": "stream",
          "name": "stdout",
          "text": [
            "2024 Nissan Leaf\n",
            "This car has a 40~kWh battery\n"
          ]
        }
      ]
    },
    {
      "cell_type": "code",
      "source": [
        "# 9-6\n",
        "class IceCreamStand(Restaurant):\n",
        "  def __init__(self, restaurant_name, cuisine_type, avaliable_flavors):\n",
        "    self.ice_cream_flavors = avaliable_flavors\n",
        "    super().__init__(restaurant_name, cuisine_type)\n",
        "\n",
        "  def flavors(self):\n",
        "    for flavor in self.ice_cream_flavors:\n",
        "      print(f\"We got {flavor} gelatto\")\n",
        "\n",
        "ice_creams_avaliable = ['chocolate', 'vanilla', 'chocolate mint', 'coconut']\n",
        "my_ice_cream_stand = IceCreamStand(\"Guillermo's Gelatto\", 'Ice Cream', ice_creams_avaliable)\n",
        "my_ice_cream_stand.describe_restaurant()\n",
        "my_ice_cream_stand.flavors()\n",
        "\n"
      ],
      "metadata": {
        "colab": {
          "base_uri": "https://localhost:8080/"
        },
        "id": "LfGG-do53beu",
        "outputId": "a4ef7271-c2b3-425d-bfa5-b1d019692531"
      },
      "execution_count": 16,
      "outputs": [
        {
          "output_type": "stream",
          "name": "stdout",
          "text": [
            "Our restaurant's name is Guillermo's Gelatto\n",
            "Guillermo's Gelatto is Ice Cream\n",
            "We got chocolate gelatto\n",
            "We got vanilla gelatto\n",
            "We got chocolate mint gelatto\n",
            "We got coconut gelatto\n"
          ]
        }
      ]
    },
    {
      "cell_type": "code",
      "source": [
        "# 9-7\n",
        "class Admin(User):\n",
        "  def __init__(self, first_name, last_name, *args):\n",
        "    super().__init__(first_name, last_name, *args)\n",
        "    self.privileges = [\"can add post\", \"can delete post\", \"can ban user\", \"can like posts\", \"can call other users\"]\n",
        "\n",
        "  def show_privileges(self):\n",
        "    for privilege in self.privileges:\n",
        "      print(f\"{self.first_name} {self.last_name} {privilege}\")\n",
        "\n",
        "my_admin = Admin(\"Ricardo\", \"Puma\", \"17\", \"Ecuadorian\")\n",
        "my_admin.describe_user()\n",
        "my_admin.show_privileges()"
      ],
      "metadata": {
        "colab": {
          "base_uri": "https://localhost:8080/"
        },
        "id": "uxDUnu1Kbjbu",
        "outputId": "fddfedf5-761a-4611-9681-1d4586c905a2"
      },
      "execution_count": 20,
      "outputs": [
        {
          "output_type": "stream",
          "name": "stdout",
          "text": [
            "User's name is Ricardo Puma\n",
            "Ricardo Puma is 17 years old\n",
            "Ricardo Puma is Ecuadorian\n",
            "Ricardo Puma can add post\n",
            "Ricardo Puma can delete post\n",
            "Ricardo Puma can ban user\n",
            "Ricardo Puma can like posts\n",
            "Ricardo Puma can call user\n"
          ]
        }
      ]
    }
  ]
}