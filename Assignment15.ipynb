{
  "nbformat": 4,
  "nbformat_minor": 0,
  "metadata": {
    "colab": {
      "provenance": [],
      "authorship_tag": "ABX9TyNlG+UAZd7iiLqFLLzaER4R",
      "include_colab_link": true
    },
    "kernelspec": {
      "name": "python3",
      "display_name": "Python 3"
    },
    "language_info": {
      "name": "python"
    }
  },
  "cells": [
    {
      "cell_type": "markdown",
      "metadata": {
        "id": "view-in-github",
        "colab_type": "text"
      },
      "source": [
        "<a href=\"https://colab.research.google.com/github/ricnrdo/CSC221_rpuma001/blob/main/Assignment15.ipynb\" target=\"_parent\"><img src=\"https://colab.research.google.com/assets/colab-badge.svg\" alt=\"Open In Colab\"/></a>"
      ]
    },
    {
      "cell_type": "code",
      "source": [
        "%%file city_functions.py\n",
        "\n",
        "# def city_country(city, country):\n",
        "#     place = f\"{city.title()}, {country.title()}\"\n",
        "#     return place\n",
        "\n",
        "# def city_country(city, country, population):\n",
        "#     place = f\"{city.title()}, {country.title()} - population {population}\"\n",
        "#     return place\n",
        "\n",
        "def city_country(city, country, population=\"\"):\n",
        "    if population:\n",
        "        place = f\"{city.title()}, {country.title()} - population {population}\"\n",
        "        return place\n",
        "    else:\n",
        "        place = f\"{city.title()}, {country.title()}\"\n",
        "        return place"
      ],
      "metadata": {
        "colab": {
          "base_uri": "https://localhost:8080/"
        },
        "id": "bo3GIbdiS6vq",
        "outputId": "671b842d-37a3-4c8e-dadc-8c9302c02fda"
      },
      "execution_count": 6,
      "outputs": [
        {
          "output_type": "stream",
          "name": "stdout",
          "text": [
            "Overwriting city_functions.py\n"
          ]
        }
      ]
    },
    {
      "cell_type": "code",
      "source": [
        "%%file test_cities.py\n",
        "\n",
        "from city_functions import city_country\n",
        "\n",
        "def test_city_country():\n",
        "    formatted_place = city_country(\"santiago\", \"chile\")\n",
        "    assert formatted_place == \"Santiago, Chile\"\n",
        "\n",
        "def test_city_country_population():\n",
        "    formatted_place = city_country(\"santiago\", \"chile\", \"500000\")\n",
        "    assert formatted_place == \"Santiago, Chile - population 500000\""
      ],
      "metadata": {
        "colab": {
          "base_uri": "https://localhost:8080/"
        },
        "id": "LDe7q_qNTWKi",
        "outputId": "87939ff8-2130-439b-b8ef-6a86f0aa25b3"
      },
      "execution_count": 7,
      "outputs": [
        {
          "output_type": "stream",
          "name": "stdout",
          "text": [
            "Writing test_cities.py\n"
          ]
        }
      ]
    },
    {
      "cell_type": "code",
      "source": [
        "%%file name_function.py\n",
        "\n",
        "# Example one\n",
        "# def get_formatted_name(first, last):\n",
        "#     \"\"\"Generate a neatly formatted full name.\"\"\"\n",
        "#     full_name = f\"{first} {last}\"\n",
        "#     return full_name.title()\n",
        "\n",
        "# Example two\n",
        "# def get_formatted_name(first, middle, last):\n",
        "#     \"\"\"Generate a neatly formatted full name.\"\"\"\n",
        "#     full_name = f\"{first} {middle} {last}\"\n",
        "#     return full_name.title()\n",
        "\n",
        "# Example three\n",
        "def get_formatted_name(first, last, middle=''):\n",
        "    \"\"\"Generate a neatly formatted full name.\"\"\"\n",
        "    if middle:\n",
        "        full_name = f\"{first} {middle} {last}\"\n",
        "    else:\n",
        "        full_name = f\"{first} {last}\"\n",
        "    return full_name.title()"
      ],
      "metadata": {
        "colab": {
          "base_uri": "https://localhost:8080/"
        },
        "id": "io6rzXcWTlsO",
        "outputId": "8afbc047-25b7-4e93-fa20-9f0721306617"
      },
      "execution_count": 8,
      "outputs": [
        {
          "output_type": "stream",
          "name": "stdout",
          "text": [
            "Writing name_function.py\n"
          ]
        }
      ]
    },
    {
      "cell_type": "code",
      "source": [
        "%%file names.py\n",
        "\n",
        "from name_function import get_formatted_name\n",
        "\n",
        "print(\"Enter 'q' at any time to quit.\")\n",
        "while True:\n",
        "    first = input(\"\\nPlease give me a first name: \")\n",
        "    if first == 'q':\n",
        "        break\n",
        "    last = input(\"Please give me a last name: \")\n",
        "    if last == 'q':\n",
        "        break\n",
        "\n",
        "    formatted_name = get_formatted_name(first, last)\n",
        "    print(f\"\\tNeatly formatted name: {formatted_name}.\")"
      ],
      "metadata": {
        "colab": {
          "base_uri": "https://localhost:8080/"
        },
        "id": "42skm4exTu-c",
        "outputId": "3c9424cf-8b32-49d1-b774-437faafba652"
      },
      "execution_count": 9,
      "outputs": [
        {
          "output_type": "stream",
          "name": "stdout",
          "text": [
            "Writing names.py\n"
          ]
        }
      ]
    },
    {
      "cell_type": "code",
      "source": [
        "%%file test_name_function.py\n",
        "\n",
        "from name_function import get_formatted_name\n",
        "\n",
        "def test_first_last_name():\n",
        "    \"\"\"Do names like 'Janis Joplin' work?\"\"\"\n",
        "    formatted_name = get_formatted_name('janis', 'joplin')\n",
        "    assert formatted_name == 'Janis Joplin'\n",
        "\n",
        "def test_first_last_middle_name():\n",
        "    \"\"\"Do names like 'Wolfgang Amadeus Mozart' works?\"\"\"\n",
        "    formatted_name = get_formatted_name('wolfgang', 'mozart', 'amadeus')\n",
        "    assert formatted_name == 'Wolfgang Amadeus Mozart'"
      ],
      "metadata": {
        "colab": {
          "base_uri": "https://localhost:8080/"
        },
        "id": "gB3Y6SfUT336",
        "outputId": "c66a8a07-4a58-4970-ee39-178688e3096b"
      },
      "execution_count": 10,
      "outputs": [
        {
          "output_type": "stream",
          "name": "stdout",
          "text": [
            "Writing test_name_function.py\n"
          ]
        }
      ]
    },
    {
      "cell_type": "code",
      "execution_count": 11,
      "metadata": {
        "colab": {
          "base_uri": "https://localhost:8080/"
        },
        "id": "_a26b2eGjThp",
        "outputId": "63f25b67-146b-4f67-ae6f-59d01c2ea34c"
      },
      "outputs": [
        {
          "output_type": "stream",
          "name": "stdout",
          "text": [
            "\u001b[1m======================================= test session starts ========================================\u001b[0m\n",
            "platform linux -- Python 3.10.12, pytest-7.4.3, pluggy-1.3.0\n",
            "rootdir: /content\n",
            "plugins: anyio-3.7.1\n",
            "\u001b[1mcollecting ... \u001b[0m\u001b[1m\rcollected 2 items                                                                                  \u001b[0m\n",
            "\n",
            "test_name_function.py \u001b[32m.\u001b[0m\u001b[32m.\u001b[0m\u001b[32m                                                                     [100%]\u001b[0m\n",
            "\n",
            "\u001b[32m======================================== \u001b[32m\u001b[1m2 passed\u001b[0m\u001b[32m in 0.01s\u001b[0m\u001b[32m =========================================\u001b[0m\n"
          ]
        }
      ],
      "source": [
        "!python -m pytest test_name_function.py"
      ]
    },
    {
      "cell_type": "code",
      "source": [
        "!python -m pytest test_cities.py"
      ],
      "metadata": {
        "colab": {
          "base_uri": "https://localhost:8080/"
        },
        "id": "1X-tcdS0lZuA",
        "outputId": "5474167d-84ef-4f10-a8e3-0ff43c3e5215"
      },
      "execution_count": 12,
      "outputs": [
        {
          "output_type": "stream",
          "name": "stdout",
          "text": [
            "\u001b[1m======================================= test session starts ========================================\u001b[0m\n",
            "platform linux -- Python 3.10.12, pytest-7.4.3, pluggy-1.3.0\n",
            "rootdir: /content\n",
            "plugins: anyio-3.7.1\n",
            "\u001b[1mcollecting ... \u001b[0m\u001b[1m\rcollected 2 items                                                                                  \u001b[0m\n",
            "\n",
            "test_cities.py \u001b[32m.\u001b[0m\u001b[32m.\u001b[0m\u001b[32m                                                                            [100%]\u001b[0m\n",
            "\n",
            "\u001b[32m======================================== \u001b[32m\u001b[1m2 passed\u001b[0m\u001b[32m in 0.01s\u001b[0m\u001b[32m =========================================\u001b[0m\n"
          ]
        }
      ]
    }
  ]
}