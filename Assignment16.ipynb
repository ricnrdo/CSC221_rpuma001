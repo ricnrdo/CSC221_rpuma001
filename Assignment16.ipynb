{
  "nbformat": 4,
  "nbformat_minor": 0,
  "metadata": {
    "colab": {
      "provenance": [],
      "authorship_tag": "ABX9TyNGpiKVqwQot3Y6dXLo5vQc",
      "include_colab_link": true
    },
    "kernelspec": {
      "name": "python3",
      "display_name": "Python 3"
    },
    "language_info": {
      "name": "python"
    }
  },
  "cells": [
    {
      "cell_type": "markdown",
      "metadata": {
        "id": "view-in-github",
        "colab_type": "text"
      },
      "source": [
        "<a href=\"https://colab.research.google.com/github/ricnrdo/CSC221_rpuma001/blob/main/Assignment16.ipynb\" target=\"_parent\"><img src=\"https://colab.research.google.com/assets/colab-badge.svg\" alt=\"Open In Colab\"/></a>"
      ]
    },
    {
      "cell_type": "code",
      "source": [
        "# Ricardo Puma\n",
        "# Assignment 16-17"
      ],
      "metadata": {
        "id": "H24WRtziWwgK"
      },
      "execution_count": null,
      "outputs": []
    },
    {
      "cell_type": "code",
      "execution_count": null,
      "metadata": {
        "colab": {
          "base_uri": "https://localhost:8080/"
        },
        "id": "AZtYU0TryQ7f",
        "outputId": "19ccdb14-796e-48c7-c3fd-58bd2815c011"
      },
      "outputs": [
        {
          "output_type": "stream",
          "name": "stdout",
          "text": [
            "Hello World\n"
          ]
        },
        {
          "output_type": "execute_result",
          "data": {
            "text/plain": [
              "18850.5"
            ]
          },
          "metadata": {},
          "execution_count": 26
        }
      ],
      "source": [
        "#1.1\n",
        "print(\"Hello World\")\n",
        "\n",
        "6000 + 4523.50 + 134.25\n",
        "\n",
        "# '_' will add the result of the previous calculation to 8192.75\n",
        "_ + 8192.75"
      ]
    },
    {
      "cell_type": "code",
      "source": [
        "#1.3\n",
        "print(type(42))\n",
        "print(type(4.2))\n",
        "print(type('forty-two'))\n",
        "print(type(True))\n",
        "\n",
        "# You can define variable types but python won't actually enforce it. Meaning You can put string in an int var.\n",
        "x: int = 42\n",
        "print(x)\n",
        "\n",
        "# interest.py\n",
        "principal = 1000\n",
        "rate = 0.05\n",
        "numyears = 5\n",
        "year = 1\n",
        "\n",
        "while year <= numyears:\n",
        "  principal = principal * (1 + rate)\n",
        "\n",
        "  # Formated string. 0.2f means to decimal points. No idea what >3d does.\n",
        "  print(f'{year:>3d} {principal:0.2f}')\n",
        "  year += 1"
      ],
      "metadata": {
        "colab": {
          "base_uri": "https://localhost:8080/"
        },
        "id": "3kr0vW7LMpwY",
        "outputId": "dc0d7db0-8e6b-44a5-d677-e8a4b306281f"
      },
      "execution_count": null,
      "outputs": [
        {
          "output_type": "stream",
          "name": "stdout",
          "text": [
            "<class 'int'>\n",
            "<class 'float'>\n",
            "<class 'str'>\n",
            "<class 'bool'>\n",
            "42\n",
            "  1 1050.00\n",
            "  2 1102.50\n",
            "  3 1157.62\n",
            "  4 1215.51\n",
            "  5 1276.28\n"
          ]
        }
      ]
    },
    {
      "cell_type": "code",
      "source": [
        "# 1.4\n",
        "\n",
        "# Binary code\n",
        "a = 0b11001001\n",
        "mask = 0b11110000\n",
        "\n",
        "# Gets result where both a & mask have 1s; 0b11000000. Then it shifts the result 4 positions to the left\n",
        "x = (a & mask) >> 4\n",
        "print(x)\n",
        "\n",
        "x = 1\n",
        "y = 2\n",
        "n = 3\n",
        "\n",
        "x = x + 1\n",
        "y = y * n\n",
        "\n",
        "print(f'{x=}')\n",
        "print(f'{y=}')\n",
        "\n",
        "# add 1 to itself\n",
        "x += 1\n",
        "\n",
        "# multiply n to itself\n",
        "y *= n\n",
        "\n",
        "print(f'{x=}')\n",
        "print(f'{y=}')"
      ],
      "metadata": {
        "colab": {
          "base_uri": "https://localhost:8080/"
        },
        "id": "SCAJfo5ZTQSd",
        "outputId": "8f4739d3-4475-44a3-bcf2-dd2f8f39e331"
      },
      "execution_count": null,
      "outputs": [
        {
          "output_type": "stream",
          "name": "stdout",
          "text": [
            "12\n",
            "x=2\n",
            "y=6\n",
            "x=3\n",
            "y=18\n"
          ]
        }
      ]
    },
    {
      "cell_type": "code",
      "source": [
        "# 1.5\n",
        "a = 3\n",
        "b = 2\n",
        "\n",
        "if a < b:\n",
        "  # print('Computer says Yes')\n",
        "  pass\n",
        "else:\n",
        "  print('Computer says No')\n",
        "\n",
        "# compares if suffix equals to x string. If its true then it sets a value to content var, if false it raises an exception.\n",
        "suffix = '.htm'\n",
        "if suffix == '.htm':\n",
        "  content = 'text/html'\n",
        "elif suffix == '.jpg':\n",
        "  content = 'image/jpeg'\n",
        "elif suffix == '.png':\n",
        "  content = 'image/png'\n",
        "else:\n",
        "  # !r lo pone en comillas\n",
        "  raise RuntimeError(f\"Unknown content type {suffix!r}\")\n",
        "\n",
        "print(content)\n",
        "\n",
        "# it sets maxval to a if a is greater than be if not then it sets maxval equal to b\n",
        "maxval = a if a > b else b\n",
        "\n",
        "# Does the same thing as the line above\n",
        "if a > b:\n",
        "  maxval = a\n",
        "else:\n",
        "  maxval = b\n",
        "\n",
        "print(maxval, \"\\n\")\n",
        "\n",
        "x = 0\n",
        "# Sets/Changes the value of x while looping\n",
        "while (x := x + 1) < 10:\n",
        "  print(x)\n",
        "\n",
        "print()\n",
        "x = 0\n",
        "while x < 10:\n",
        "  x += 1\n",
        "  if x == 5:\n",
        "    # break\n",
        "    continue\n",
        "  # print(x)\n",
        "  # x += 1\n",
        "\n",
        "print(\"Done\")"
      ],
      "metadata": {
        "colab": {
          "base_uri": "https://localhost:8080/"
        },
        "id": "CJzezjwfWusV",
        "outputId": "4d9c4fa9-a708-4d2b-9249-3587fd5f8ca6"
      },
      "execution_count": null,
      "outputs": [
        {
          "output_type": "stream",
          "name": "stdout",
          "text": [
            "Computer says No\n",
            "text/html\n",
            "3 \n",
            "\n",
            "1\n",
            "2\n",
            "3\n",
            "4\n",
            "5\n",
            "6\n",
            "7\n",
            "8\n",
            "9\n",
            "\n",
            "Done\n"
          ]
        }
      ]
    },
    {
      "cell_type": "code",
      "source": [
        "# 1.6\n",
        "# All the above are acceptable strings\n",
        "a = 'Hello World'\n",
        "b = \"Python is groovy\"\n",
        "c = '''Computer says no.'''\n",
        "d = \"\"\"Computer still says no.\"\"\"\n",
        "\n",
        "print(a)\n",
        "print(b)\n",
        "print(c)\n",
        "print(d)\n",
        "\n",
        "# Using triple quotes you can print multi line strings without throwing an error\n",
        "print('''\n",
        "Using triple quotes for this print\n",
        "''')\n",
        "\n",
        "# Another way of concatenating strings\n",
        "print(\n",
        "    'Adjacent strings\\n'\n",
        "    'concatenated\\n'\n",
        "    'into a single string'\n",
        ")\n",
        "\n",
        "year = 2005\n",
        "principal = 10.20343556\n",
        "\n",
        "base_year = 2020\n",
        "# print(f'\\n{year:>3d} {principal:0.2f}')\n",
        "print(f'\\n{base_year + year:>3d} {principal:0.2f}')\n",
        "\n",
        "# Different ways of formating strings. Does the same as the one above ^\n",
        "print('{0:>3d} {1:0.2f}'.format(year, principal))\n",
        "print('%3d %0.2f' % (year, principal))\n",
        "\n",
        "print()\n",
        "\n",
        "# Get the length of a\n",
        "print(len(a))\n",
        "\n",
        "# Store the 5th value of variable a in b\n",
        "b = a[4]\n",
        "\n",
        "# Store the last value of var a in b\n",
        "c = a[-1]\n",
        "\n",
        "print(f\"{b=} {c=}\")\n",
        "\n",
        "# Store the first val/char until the 4th val/char in c\n",
        "c = a[:5]\n",
        "\n",
        "# Store the 6th val/char until the end in d\n",
        "d = a[6:]\n",
        "\n",
        "# Store the 3rd val/char until the 7th val/char in e\n",
        "e = a[3:8]\n",
        "\n",
        "# Store the val/char in the fifth position (from right to left) until the end\n",
        "f = a[-5:]\n",
        "\n",
        "print(f\"{c=} {d=} {e=} {f=}\")\n",
        "\n",
        "# Finds the word 'Hello' in a and replaces it with 'Hello Cruel'\n",
        "g = a.replace('Hello', 'Hello Cruel')\n",
        "\n",
        "print(f'{g}\\n')\n",
        "\n",
        "# adds 'ly' to a (as long as a is also a string)\n",
        "g = a + 'ly'\n",
        "x = '37'\n",
        "y = '42'\n",
        "z = x + y # Does not calculate but rather x and y join/concatenate\n",
        "\n",
        "# To calculate we have to convert x and y to ints\n",
        "z = int(x) + int(y)\n",
        "print(z)\n",
        "\n",
        "x = 35\n",
        "s = 'The value of x is ' + str(x)\n",
        "print(s)\n",
        "s = 'The value of x is ' + repr(x)\n",
        "print(s)\n",
        "# formats x\n",
        "s = 'The value of x is ' + format(x, '4d')\n",
        "print(s)"
      ],
      "metadata": {
        "colab": {
          "base_uri": "https://localhost:8080/"
        },
        "id": "hrmiRCR_c1Lh",
        "outputId": "0ccdb945-9431-4973-b2ef-1c6d47b9d7ac"
      },
      "execution_count": null,
      "outputs": [
        {
          "output_type": "stream",
          "name": "stdout",
          "text": [
            "Hello World\n",
            "Python is groovy\n",
            "Computer says no.\n",
            "Computer still says no.\n",
            "\n",
            "Using triple quotes for this print\n",
            "\n",
            "Adjacent strings\n",
            "concatenated\n",
            "into a single string\n",
            "\n",
            "4025 10.20\n",
            "2005 10.20\n",
            "2005 10.20\n",
            "\n",
            "11\n",
            "b='o' c='d'\n",
            "c='Hello' d='World' e='lo Wo' f='World'\n",
            "Hello Cruel World\n",
            "\n",
            "79\n",
            "The value of x is 35\n",
            "The value of x is 35\n",
            "The value of x is   35\n"
          ]
        }
      ]
    },
    {
      "cell_type": "code",
      "source": [
        "%%file data.txt\n",
        "\n",
        "This is a file\n",
        "that contains\n",
        "some random\n",
        "text"
      ],
      "metadata": {
        "colab": {
          "base_uri": "https://localhost:8080/"
        },
        "id": "IgzSIEklh4TO",
        "outputId": "80abb2b1-152a-47ff-94d2-737ca0963249"
      },
      "execution_count": null,
      "outputs": [
        {
          "output_type": "stream",
          "name": "stdout",
          "text": [
            "Writing data.txt\n"
          ]
        }
      ]
    },
    {
      "cell_type": "code",
      "source": [
        "# 1.7\n",
        "# opens a text file and closes it automatically\n",
        "with open('data.txt') as file:\n",
        "  for line in file:\n",
        "    print(line, end='')\n",
        "\n",
        "\n",
        "# Same as the one above but this is \"bad\" because if you forget to close the file the program\n",
        "# will have issues/bugs at any point\n",
        "file = open('data.txt')\n",
        "for line in file:\n",
        "  print(line, end='')\n",
        "file.close()\n",
        "\n",
        "print(\"\\nRead it all at once:\")\n",
        "with open('data.txt') as file:\n",
        "  data = file.read()\n",
        "  print(data)\n",
        "\n",
        "\n",
        "print(\"\\nRead one chunk at a time instead of all of it at once:\")\n",
        "with open('data.txt') as file:\n",
        "  while (chunk := file.read(10)):\n",
        "    print(chunk, end='')\n",
        "\n",
        "\n",
        "# Read the file in different parts at a time. Instead of all at once\n",
        "with open('data.txt') as file:\n",
        "  while True:\n",
        "    chunk = file.read(100)\n",
        "    if not chunk:\n",
        "      break\n",
        "    print(chunk, end='')\n",
        "\n",
        "\n",
        "year = 20\n",
        "numyear = 50\n",
        "rate = 0.2\n",
        "with open('out.txt', 'wt') as out:\n",
        "  while year <= numyear:\n",
        "    principal = principal * (1 + rate)\n",
        "    # print(f'{year:>3d} {principal:0.2f}', file=out)\n",
        "    out.write(f\"{year:3d} {principal:0.2f}\\n\")\n",
        "    year += 1\n",
        "\n",
        "with open('data.txt', encoding='latin-1') as file:\n",
        "  data = file.read()"
      ],
      "metadata": {
        "colab": {
          "base_uri": "https://localhost:8080/"
        },
        "id": "MT4maMi4iONp",
        "outputId": "2633dce4-2680-4be1-ecd1-3f7fba0b5b6b"
      },
      "execution_count": null,
      "outputs": [
        {
          "output_type": "stream",
          "name": "stdout",
          "text": [
            "\n",
            "This is a file \n",
            "that contains \n",
            "some random \n",
            "text.\n",
            "\n",
            "This is a file \n",
            "that contains \n",
            "some random \n",
            "text.\n",
            "\n",
            "Read it all at once:\n",
            "\n",
            "This is a file \n",
            "that contains \n",
            "some random \n",
            "text.\n",
            "\n",
            "\n",
            "Read one chunk at a time instead of all of it at once:\n",
            "\n",
            "This is a file \n",
            "that contains \n",
            "some random \n",
            "text.\n",
            "\n",
            "This is a file \n",
            "that contains \n",
            "some random \n",
            "text.\n"
          ]
        }
      ]
    },
    {
      "cell_type": "code",
      "source": [
        "# 1.8\n",
        "\n",
        "names = ['Dave', 'Paula', 'Thomas', 'Lewis']\n",
        "\n",
        "print(names)\n",
        "a = names[2]\n",
        "names[2] = 'Tom'\n",
        "print(names)\n",
        "print(names[-1])\n",
        "\n",
        "# Add a value to a list at the end\n",
        "names.append('Alex')\n",
        "\n",
        "# Add a value to a list in a specific index\n",
        "names.insert(2, 'Aya')\n",
        "print(f\"{names}\\n\")\n",
        "\n",
        "# Go through every name in names list and print it\n",
        "for name in names:\n",
        "  print(name)\n",
        "\n",
        "b = names[0:2]\n",
        "c = names[2:]\n",
        "names[1] = 'Becky'\n",
        "names[0:2] = ['Dave', 'Mark', 'Jeff']\n",
        "print(f\"\\n{b = }\")\n",
        "print(f\"{c = }\")\n",
        "print(f\"{names = }\")\n",
        "\n",
        "a = ['x', 'y'] + ['z', 'z', 'y']\n",
        "print(f\"\\n{a}\")\n",
        "\n",
        "# Create a list of Dave. It will make a list like: 'D', 'a', 'v', 'e'\n",
        "letter = list('Dave')\n",
        "print(letter)\n",
        "\n",
        "# A list that contains lists and lists in the list.\n",
        "a = [1, 'Dave', 3.14, ['Mark', 7, 9, [100, 101]], 10]\n",
        "one_dimension = a[1]\n",
        "two_dimensions = a[3][2]\n",
        "three_dimensions = a[3][3][1]\n",
        "\n",
        "print(f\"{one_dimension = }\")\n",
        "print(f\"{two_dimensions = }\")\n",
        "print(f\"{three_dimensions = }\")\n",
        "\n",
        "# Trows an exception\n",
        "# import sys\n",
        "\n",
        "# if len(sys.argv) != 2:\n",
        "#   raise SystemExit(f\"Usage: {sys.argv[0]} filename\")\n",
        "\n",
        "# rows = []\n",
        "# with open(sys.argv[1], 'rt') as file:\n",
        "#   for line in file:\n",
        "#     rows.append(line.split(','))"
      ],
      "metadata": {
        "colab": {
          "base_uri": "https://localhost:8080/",
          "height": 505
        },
        "id": "LaE6zfrln_Sf",
        "outputId": "0e8f4ec6-13f0-4ba9-b14b-37b973fc1df7"
      },
      "execution_count": null,
      "outputs": [
        {
          "output_type": "stream",
          "name": "stdout",
          "text": [
            "['Dave', 'Paula', 'Thomas', 'Lewis']\n",
            "['Dave', 'Paula', 'Tom', 'Lewis']\n",
            "Lewis\n",
            "['Dave', 'Paula', 'Aya', 'Tom', 'Lewis', 'Alex']\n",
            "\n",
            "Dave\n",
            "Paula\n",
            "Aya\n",
            "Tom\n",
            "Lewis\n",
            "Alex\n",
            "\n",
            "b = ['Dave', 'Paula']\n",
            "c = ['Aya', 'Tom', 'Lewis', 'Alex']\n",
            "names = ['Dave', 'Mark', 'Jeff', 'Aya', 'Tom', 'Lewis', 'Alex']\n",
            "\n",
            "['x', 'y', 'z', 'z', 'y']\n",
            "['D', 'a', 'v', 'e']\n",
            "one_dimension = 'Dave'\n",
            "two_dimensions = 9\n",
            "three_dimensions = 101\n"
          ]
        },
        {
          "output_type": "error",
          "ename": "SystemExit",
          "evalue": "ignored",
          "traceback": [
            "An exception has occurred, use %tb to see the full traceback.\n",
            "\u001b[0;31mSystemExit\u001b[0m\u001b[0;31m:\u001b[0m Usage: /usr/local/lib/python3.10/dist-packages/colab_kernel_launcher.py filename\n"
          ]
        }
      ]
    },
    {
      "cell_type": "code",
      "source": [
        "# 1.9\n",
        "\n",
        "# Tuples\n",
        "holding = ('GOOG', 100, 490.10)\n",
        "address = ('www.python.org', 80)\n",
        "\n",
        "item = 'a'\n",
        "a = ()\n",
        "b = (item,)\n",
        "print(a, b)\n",
        "\n",
        "# Break the tuple and store each value in the following variables\n",
        "name, shares, price = holding\n",
        "host, port = address\n",
        "\n",
        "print(f\"{name=} {shares=} {price=}\")\n",
        "print(f\"{host=} {port=}\")"
      ],
      "metadata": {
        "colab": {
          "base_uri": "https://localhost:8080/"
        },
        "id": "f86CIDAYr3x0",
        "outputId": "ebc2396c-e452-409f-e7a5-f8e19490fcf1"
      },
      "execution_count": null,
      "outputs": [
        {
          "output_type": "stream",
          "name": "stdout",
          "text": [
            "() ('a',)\n",
            "name='GOOG' shares=100 price=490.1\n",
            "host='www.python.org' port=80\n"
          ]
        }
      ]
    },
    {
      "cell_type": "code",
      "source": [
        "%%file portfolio.csv\n",
        "name,shares,price\n",
        "AMC,29,294\n",
        "TSLA,383,219.86\n",
        "AAPL,10,176.65\n",
        "SQ,2,48.68"
      ],
      "metadata": {
        "colab": {
          "base_uri": "https://localhost:8080/"
        },
        "id": "hekwK79psryJ",
        "outputId": "900b4b5f-04aa-4950-8c40-782544f6c88e"
      },
      "execution_count": 2,
      "outputs": [
        {
          "output_type": "stream",
          "name": "stdout",
          "text": [
            "Writing portfolio.csv\n"
          ]
        }
      ]
    },
    {
      "cell_type": "code",
      "source": [
        "# 1.9\n",
        "filename = 'portfolio.csv'\n",
        "\n",
        "portfolio = []\n",
        "with open(filename) as file:\n",
        "  next(file)\n",
        "  for line in file:\n",
        "    row = line.split(',')\n",
        "    name = row[0]\n",
        "    shares = int(row[1])\n",
        "    price = float(row[2])\n",
        "    holding = (name, shares, price)\n",
        "    portfolio.append(holding)\n",
        "\n",
        "print(portfolio)\n",
        "print(portfolio[0])\n",
        "print(portfolio[0][1])\n",
        "\n",
        "total = 0.0\n",
        "\n",
        "for name, shares, price in portfolio:\n",
        "  total += shares * price\n",
        "\n",
        "# That ^ or this:\n",
        "total = sum([shares * price for _, shares, price in portfolio])"
      ],
      "metadata": {
        "colab": {
          "base_uri": "https://localhost:8080/"
        },
        "id": "700U1QzytPDv",
        "outputId": "ebab54dc-5384-4c46-ca8a-7539c65b89a6"
      },
      "execution_count": null,
      "outputs": [
        {
          "output_type": "stream",
          "name": "stdout",
          "text": [
            "[('AMC', 29, 294.0), ('TSLA', 383, 219.86), ('AAPL', 10, 176.65), ('SQ', 2, 48.68)]\n",
            "('AMC', 29, 294.0)\n",
            "29\n",
            "94596.24\n"
          ]
        }
      ]
    },
    {
      "cell_type": "code",
      "source": [
        "# 1.10\n",
        "\n",
        "names1 = { 'IBM', 'MSFT', 'AA' }\n",
        "names2 = set(['IBM', 'MSFT', 'HPE', 'IBM', 'CAT'])\n",
        "\n",
        "print(names1)\n",
        "print(names2)\n",
        "\n",
        "r = set()\n",
        "\n",
        "t = {\"394\", \"Marie\", \"Table\", \"France\", \"IBM\"}\n",
        "s = {\"France\", \"394\", \"Water\", \"Keyboard\", }\n",
        "\n",
        "a = t | s\n",
        "b = t & s\n",
        "c = t - s\n",
        "d = s - t\n",
        "e = t ^ s\n",
        "\n",
        "print(f\"{a=}\\n{b=}\\n{c=}\\n{d=}\\n{e=}\")\n",
        "\n",
        "t.add('DIS')\n",
        "s.update({'JJ', 'GE', 'ACME'})\n",
        "\n",
        "print(t)\n",
        "print(s)\n",
        "\n",
        "t.remove('IBM')\n",
        "s.discard('SCOX')\n",
        "\n",
        "print(t)\n",
        "print(s)"
      ],
      "metadata": {
        "colab": {
          "base_uri": "https://localhost:8080/"
        },
        "id": "g7w2gAaIvhlV",
        "outputId": "c6e2dd78-3d6e-4ecc-e3ec-04e05e966537"
      },
      "execution_count": null,
      "outputs": [
        {
          "output_type": "stream",
          "name": "stdout",
          "text": [
            "{'IBM', 'AA', 'MSFT'}\n",
            "{'IBM', 'HPE', 'CAT', 'MSFT'}\n",
            "a={'IBM', '394', 'Table', 'France', 'Keyboard', 'Marie', 'Water'}\n",
            "b={'France', '394'}\n",
            "c={'IBM', 'Table', 'Marie'}\n",
            "d={'Keyboard', 'Water'}\n",
            "e={'IBM', 'Table', 'Keyboard', 'Marie', 'Water'}\n",
            "{'IBM', '394', 'Marie', 'DIS', 'Table', 'France'}\n",
            "{'Keyboard', '394', 'ACME', 'JJ', 'France', 'Water', 'GE'}\n",
            "{'394', 'Marie', 'DIS', 'Table', 'France'}\n",
            "{'Keyboard', '394', 'ACME', 'JJ', 'France', 'Water', 'GE'}\n"
          ]
        }
      ]
    },
    {
      "cell_type": "code",
      "source": [
        "# 1.11\n",
        "s = {\n",
        "    'name' : 'GOOG',\n",
        "    'shares' : 100,\n",
        "    'price' : 490.10\n",
        "}\n",
        "\n",
        "print(s)\n",
        "\n",
        "name = s['name']\n",
        "cost = s['shares'] * s['price']\n",
        "print(name, cost)\n",
        "print()\n",
        "\n",
        "s['shares'] = 75\n",
        "s['date'] = '2007-06-07'\n",
        "\n",
        "print(s)\n",
        "\n",
        "prices = {\n",
        "    'GOOG' : 490.1,\n",
        "    'AAPL' : 123.5,\n",
        "    'IBM' : 91.5,\n",
        "    'MSFT' : 52.13\n",
        "}\n",
        "\n",
        "print(prices)\n",
        "\n",
        "p = prices['IBM']\n",
        "\n",
        "if 'IBM' in prices:\n",
        "    p = prices['IBM']\n",
        "else:\n",
        "    p = 0.0\n",
        "\n",
        "p = prices.get('IBM', 0.0)\n",
        "\n",
        "del prices['GOOG']\n",
        "\n",
        "print(prices)\n",
        "\n",
        "# prices = {}\n",
        "# prices = dict()\n",
        "\n",
        "portfolio = [\n",
        "    ('ACME', 50, 92.34),\n",
        "    ('IBM', 75, 102.25),\n",
        "    ('PHP', 40, 74.50),\n",
        "    ('IBM', 50, 124.75)\n",
        "]\n",
        "\n",
        "total_shares = { s[0]: 0 for s in portfolio }\n",
        "\n",
        "for name, shares, _ in portfolio:\n",
        "  total_shares[name] += shares\n",
        "\n",
        "print(\"\\nTotal shares:\")\n",
        "print(total_shares)\n",
        "\n",
        "pairs = [('IBM', 125), ('ACME', 50), ('PHP', 40)]\n",
        "d = dict(pairs)\n",
        "\n",
        "print()\n",
        "print(pairs)\n",
        "print(d)\n",
        "\n",
        "syms = list(prices)\n",
        "\n",
        "print()\n",
        "print(syms)\n",
        "\n",
        "syms = prices.keys()\n",
        "\n",
        "for sym, price in prices.items():\n",
        "    print(f'{sym} = {price}')"
      ],
      "metadata": {
        "colab": {
          "base_uri": "https://localhost:8080/"
        },
        "id": "Xp2mgir_075x",
        "outputId": "8dc6c085-e8e8-4cd5-df9c-716f146bf573"
      },
      "execution_count": null,
      "outputs": [
        {
          "output_type": "stream",
          "name": "stdout",
          "text": [
            "{'name': 'GOOG', 'shares': 100, 'price': 490.1}\n",
            "GOOG 49010.0\n",
            "\n",
            "{'name': 'GOOG', 'shares': 75, 'price': 490.1, 'date': '2007-06-07'}\n",
            "{'GOOG': 490.1, 'AAPL': 123.5, 'IBM': 91.5, 'MSFT': 52.13}\n",
            "{'AAPL': 123.5, 'IBM': 91.5, 'MSFT': 52.13}\n",
            "\n",
            "Total shares:\n",
            "{'ACME': 50, 'IBM': 125, 'PHP': 40}\n",
            "\n",
            "[('IBM', 125), ('ACME', 50), ('PHP', 40)]\n",
            "{'IBM': 125, 'ACME': 50, 'PHP': 40}\n",
            "\n",
            "['AAPL', 'IBM', 'MSFT']\n",
            "AAPL = 123.5\n",
            "IBM = 91.5\n",
            "MSFT = 52.13\n"
          ]
        }
      ]
    },
    {
      "cell_type": "code",
      "source": [
        "# 1.12\n",
        "\n",
        "for n in [1, 2, 3, 4, 5, 6, 7, 8, 9]:\n",
        "  print(f\"2 to the {n} power is {2**n}\")\n",
        "\n",
        "print()\n",
        "\n",
        "for n in range(1, 10):\n",
        "  print(f\"2 to the {n} powe is {2**n}\")\n",
        "\n",
        "print()\n",
        "\n",
        "one_val_range = [x for x in range(5)]\n",
        "two_val_range = [x for x in range(1, 8)]\n",
        "three_val_range = [x for x in range(0, 14, 3)]\n",
        "negative_val_range = [x for x in range(8, 1, -1)]\n",
        "\n",
        "print(one_val_range)\n",
        "print(two_val_range)\n",
        "print(three_val_range)\n",
        "print(negative_val_range)\n",
        "\n",
        "print()\n",
        "\n",
        "message = 'Hello World'\n",
        "for c in message:\n",
        "  print(c)\n",
        "\n",
        "print()\n",
        "\n",
        "names = ['Dave', 'Mark', 'Ann', 'Phil']\n",
        "for name in names:\n",
        "  print(name)\n",
        "\n",
        "print()\n",
        "\n",
        "prices = {'GOOG': 490.10, 'IBM': 91.50, 'AAPL': 123.15}\n",
        "\n",
        "for key in prices:\n",
        "  print(key, '=', prices[key])"
      ],
      "metadata": {
        "colab": {
          "base_uri": "https://localhost:8080/"
        },
        "id": "QY9TmM3TCTuF",
        "outputId": "f0b63f38-e09f-42d0-9782-614828a1547c"
      },
      "execution_count": null,
      "outputs": [
        {
          "output_type": "stream",
          "name": "stdout",
          "text": [
            "2 to the 1 power is 2\n",
            "2 to the 2 power is 4\n",
            "2 to the 3 power is 8\n",
            "2 to the 4 power is 16\n",
            "2 to the 5 power is 32\n",
            "2 to the 6 power is 64\n",
            "2 to the 7 power is 128\n",
            "2 to the 8 power is 256\n",
            "2 to the 9 power is 512\n",
            "\n",
            "2 to the 1 powe is 2\n",
            "2 to the 2 powe is 4\n",
            "2 to the 3 powe is 8\n",
            "2 to the 4 powe is 16\n",
            "2 to the 5 powe is 32\n",
            "2 to the 6 powe is 64\n",
            "2 to the 7 powe is 128\n",
            "2 to the 8 powe is 256\n",
            "2 to the 9 powe is 512\n",
            "\n",
            "[0, 1, 2, 3, 4]\n",
            "[1, 2, 3, 4, 5, 6, 7]\n",
            "[0, 3, 6, 9, 12]\n",
            "[8, 7, 6, 5, 4, 3, 2]\n",
            "\n",
            "H\n",
            "e\n",
            "l\n",
            "l\n",
            "o\n",
            " \n",
            "W\n",
            "o\n",
            "r\n",
            "l\n",
            "d\n",
            "\n",
            "Dave\n",
            "Mark\n",
            "Ann\n",
            "Phil\n",
            "\n",
            "GOOG = 490.1\n",
            "IBM = 91.5\n",
            "AAPL = 123.15\n"
          ]
        }
      ]
    },
    {
      "cell_type": "code",
      "source": [
        "%%file foo.txt\n",
        "This is a\n",
        "file named\n",
        "foo.txt"
      ],
      "metadata": {
        "colab": {
          "base_uri": "https://localhost:8080/"
        },
        "id": "x_Kjz3m0EL6V",
        "outputId": "b7f890ef-fb30-46a1-b4f1-5cd0be9ed964"
      },
      "execution_count": null,
      "outputs": [
        {
          "output_type": "stream",
          "name": "stdout",
          "text": [
            "Writing foo.txt\n"
          ]
        }
      ]
    },
    {
      "cell_type": "code",
      "source": [
        "# 1.12\n",
        "with open('foo.txt') as file:\n",
        "  for line in file:\n",
        "    print(line, end='')"
      ],
      "metadata": {
        "colab": {
          "base_uri": "https://localhost:8080/"
        },
        "id": "WAxRmEnHEWYi",
        "outputId": "396a64cd-ad7c-4d16-9d71-50d259b69771"
      },
      "execution_count": null,
      "outputs": [
        {
          "output_type": "stream",
          "name": "stdout",
          "text": [
            "This is a \n",
            "file named \n",
            "foo.txt\n"
          ]
        }
      ]
    },
    {
      "cell_type": "code",
      "source": [
        "# 1.13\n",
        "\n",
        "# def remainder(a, b):\n",
        "def remainder(a: int, b:int) -> int:\n",
        "  q = a // b\n",
        "  r = a - q * b\n",
        "  return r\n",
        "\n",
        "result = remainder(40, 15)\n",
        "print(result)\n",
        "\n",
        "def divide(a, b):\n",
        "  q = a // b\n",
        "  r = a - q * b\n",
        "  return (q, r)\n",
        "\n",
        "quotient, remainder = divide(1456, 33)\n",
        "\n",
        "print(quotient, remainder)\n",
        "\n",
        "def connect(hostname, port, timeout=300):\n",
        "  print(f\"Your hostname is {hostname}\")\n",
        "  print(f\"Your port is {port}\")\n",
        "  print(f\"Timeout: {timeout}\")\n",
        "\n",
        "connect('www.python.org', 80)"
      ],
      "metadata": {
        "colab": {
          "base_uri": "https://localhost:8080/"
        },
        "id": "R_lWnQQmEf_G",
        "outputId": "9baa916b-b1b8-4894-9154-707f70a20e23"
      },
      "execution_count": 1,
      "outputs": [
        {
          "output_type": "stream",
          "name": "stdout",
          "text": [
            "10\n",
            "44 4\n",
            "Your hostname is www.python.org\n",
            "Your port is 80\n",
            "Timeout: 300\n"
          ]
        }
      ]
    },
    {
      "cell_type": "code",
      "source": [
        "# 1.14\n",
        "\n",
        "portfolio = []\n",
        "with open('portfolio.csv') as file:\n",
        "  next(file)\n",
        "  for line in file:\n",
        "    row = line.split(',')\n",
        "    try:\n",
        "      name = row[0]\n",
        "      shares = int(row[1])\n",
        "      price = float(row[2])\n",
        "      holding = (name, shares, price)\n",
        "      portfolio.append(holding)\n",
        "    except ValueError as err:\n",
        "      print('Bad row:', row)\n",
        "      print('Reason:', err)\n",
        "\n",
        "print(portfolio)"
      ],
      "metadata": {
        "colab": {
          "base_uri": "https://localhost:8080/"
        },
        "id": "JsYRV6GsO7FI",
        "outputId": "36fe178d-57b1-4816-ee95-753156711249"
      },
      "execution_count": 7,
      "outputs": [
        {
          "output_type": "stream",
          "name": "stdout",
          "text": [
            "[('AMC', 29, 294.0), ('TSLA', 383, 219.86), ('AAPL', 10, 176.65), ('SQ', 2, 48.68)]\n"
          ]
        }
      ]
    },
    {
      "cell_type": "code",
      "source": [
        "# 1.15\n",
        "\n",
        "# raise SystemExit()\n",
        "raise SystemExit(\"Something is wrong\")"
      ],
      "metadata": {
        "colab": {
          "base_uri": "https://localhost:8080/",
          "height": 158
        },
        "id": "tyUw-dAESEkp",
        "outputId": "256fdfca-6470-4232-b89e-adbb0a5134c5"
      },
      "execution_count": 9,
      "outputs": [
        {
          "output_type": "error",
          "ename": "SystemExit",
          "evalue": "ignored",
          "traceback": [
            "An exception has occurred, use %tb to see the full traceback.\n",
            "\u001b[0;31mSystemExit\u001b[0m\u001b[0;31m:\u001b[0m Something is wrong\n"
          ]
        },
        {
          "output_type": "stream",
          "name": "stderr",
          "text": [
            "/usr/local/lib/python3.10/dist-packages/IPython/core/interactiveshell.py:3561: UserWarning: To exit: use 'exit', 'quit', or Ctrl-D.\n",
            "  warn(\"To exit: use 'exit', 'quit', or Ctrl-D.\", stacklevel=1)\n"
          ]
        }
      ]
    },
    {
      "cell_type": "code",
      "source": [
        "# 1.16\n",
        "items = [37, 42]\n",
        "# items.append(73)\n",
        "\n",
        "dir(items)\n",
        "\n",
        "items.__add__([73, 101])\n",
        "\n",
        "class Stack:\n",
        "  def __init__(self):\n",
        "    self._items = [ ]\n",
        "\n",
        "  def push(self, item):\n",
        "    self._items.append(item)\n",
        "\n",
        "  def pop(self):\n",
        "    return self._items.pop()\n",
        "\n",
        "  def __repr__(self):\n",
        "    return f'<{type(self).__name__} at 0x{id(self):x}, size={len(self)}>'\n",
        "\n",
        "  def __len__(self):\n",
        "    return len(self._items)\n",
        "\n",
        "# stacks = Stack()\n",
        "# result = stacks.push(4)\n",
        "# length_stacks = stacks.__len__()\n",
        "# print(stacks._items)\n",
        "# print(stacks.__repr__)\n",
        "# print(length_stacks)\n",
        "\n",
        "s = Stack()\n",
        "s.push('Dave')\n",
        "s.push([3, 4, 5])\n",
        "len(s)"
      ],
      "metadata": {
        "colab": {
          "base_uri": "https://localhost:8080/"
        },
        "id": "cy1vgA9iSclr",
        "outputId": "4f42305c-c867-44d6-cb28-6a2610af17c1"
      },
      "execution_count": 28,
      "outputs": [
        {
          "output_type": "execute_result",
          "data": {
            "text/plain": [
              "42"
            ]
          },
          "metadata": {},
          "execution_count": 28
        }
      ]
    },
    {
      "cell_type": "code",
      "source": [
        "# 1.16\n",
        "class MyStack(Stack):\n",
        "  def swap(self):\n",
        "    a = self.pop()\n",
        "    b = self.pop()\n",
        "    self.push(a)\n",
        "    self.push(b)\n",
        "\n",
        "s = MyStack()\n",
        "s.push('Dave')\n",
        "s.push(42)\n",
        "s.swap()\n",
        "s.pop()\n",
        "s.pop()"
      ],
      "metadata": {
        "colab": {
          "base_uri": "https://localhost:8080/"
        },
        "id": "BKQfgDduYMEg",
        "outputId": "d9ebe04b-e834-41db-dbd8-d4d35969a321"
      },
      "execution_count": 29,
      "outputs": [
        {
          "output_type": "execute_result",
          "data": {
            "text/plain": [
              "42"
            ]
          },
          "metadata": {},
          "execution_count": 29
        }
      ]
    },
    {
      "cell_type": "code",
      "source": [
        "# 1.16\n",
        "class NumericStack(Stack):\n",
        "  def push(self, item):\n",
        "    if not isinstance(item, (int, float)):\n",
        "      raise TypeError('Expected an int or float')\n",
        "    super().push(item)\n",
        "\n",
        "s = NumericStack()\n",
        "s.push(42)\n",
        "s.push('Dave')"
      ],
      "metadata": {
        "colab": {
          "base_uri": "https://localhost:8080/",
          "height": 331
        },
        "id": "9Wda3IjyYP1g",
        "outputId": "cf29a6c1-74aa-40e1-97ab-a91f06937581"
      },
      "execution_count": 30,
      "outputs": [
        {
          "output_type": "error",
          "ename": "TypeError",
          "evalue": "ignored",
          "traceback": [
            "\u001b[0;31m---------------------------------------------------------------------------\u001b[0m",
            "\u001b[0;31mTypeError\u001b[0m                                 Traceback (most recent call last)",
            "\u001b[0;32m<ipython-input-30-0da40b0e9e94>\u001b[0m in \u001b[0;36m<cell line: 10>\u001b[0;34m()\u001b[0m\n\u001b[1;32m      8\u001b[0m \u001b[0ms\u001b[0m \u001b[0;34m=\u001b[0m \u001b[0mNumericStack\u001b[0m\u001b[0;34m(\u001b[0m\u001b[0;34m)\u001b[0m\u001b[0;34m\u001b[0m\u001b[0;34m\u001b[0m\u001b[0m\n\u001b[1;32m      9\u001b[0m \u001b[0ms\u001b[0m\u001b[0;34m.\u001b[0m\u001b[0mpush\u001b[0m\u001b[0;34m(\u001b[0m\u001b[0;36m42\u001b[0m\u001b[0;34m)\u001b[0m\u001b[0;34m\u001b[0m\u001b[0;34m\u001b[0m\u001b[0m\n\u001b[0;32m---> 10\u001b[0;31m \u001b[0ms\u001b[0m\u001b[0;34m.\u001b[0m\u001b[0mpush\u001b[0m\u001b[0;34m(\u001b[0m\u001b[0;34m'Dave'\u001b[0m\u001b[0;34m)\u001b[0m\u001b[0;34m\u001b[0m\u001b[0;34m\u001b[0m\u001b[0m\n\u001b[0m",
            "\u001b[0;32m<ipython-input-30-0da40b0e9e94>\u001b[0m in \u001b[0;36mpush\u001b[0;34m(self, item)\u001b[0m\n\u001b[1;32m      3\u001b[0m   \u001b[0;32mdef\u001b[0m \u001b[0mpush\u001b[0m\u001b[0;34m(\u001b[0m\u001b[0mself\u001b[0m\u001b[0;34m,\u001b[0m \u001b[0mitem\u001b[0m\u001b[0;34m)\u001b[0m\u001b[0;34m:\u001b[0m\u001b[0;34m\u001b[0m\u001b[0;34m\u001b[0m\u001b[0m\n\u001b[1;32m      4\u001b[0m     \u001b[0;32mif\u001b[0m \u001b[0;32mnot\u001b[0m \u001b[0misinstance\u001b[0m\u001b[0;34m(\u001b[0m\u001b[0mitem\u001b[0m\u001b[0;34m,\u001b[0m \u001b[0;34m(\u001b[0m\u001b[0mint\u001b[0m\u001b[0;34m,\u001b[0m \u001b[0mfloat\u001b[0m\u001b[0;34m)\u001b[0m\u001b[0;34m)\u001b[0m\u001b[0;34m:\u001b[0m\u001b[0;34m\u001b[0m\u001b[0;34m\u001b[0m\u001b[0m\n\u001b[0;32m----> 5\u001b[0;31m       \u001b[0;32mraise\u001b[0m \u001b[0mTypeError\u001b[0m\u001b[0;34m(\u001b[0m\u001b[0;34m'Expected an int or float'\u001b[0m\u001b[0;34m)\u001b[0m\u001b[0;34m\u001b[0m\u001b[0;34m\u001b[0m\u001b[0m\n\u001b[0m\u001b[1;32m      6\u001b[0m     \u001b[0msuper\u001b[0m\u001b[0;34m(\u001b[0m\u001b[0;34m)\u001b[0m\u001b[0;34m.\u001b[0m\u001b[0mpush\u001b[0m\u001b[0;34m(\u001b[0m\u001b[0mitem\u001b[0m\u001b[0;34m)\u001b[0m\u001b[0;34m\u001b[0m\u001b[0;34m\u001b[0m\u001b[0m\n\u001b[1;32m      7\u001b[0m \u001b[0;34m\u001b[0m\u001b[0m\n",
            "\u001b[0;31mTypeError\u001b[0m: Expected an int or float"
          ]
        }
      ]
    },
    {
      "cell_type": "code",
      "source": [
        "# 1.16\n",
        "class Calculator:\n",
        "  def __init__(self):\n",
        "    self._stack = Stack()\n",
        "\n",
        "  def push(self, item):\n",
        "    self._stack.push(item)\n",
        "\n",
        "  def pop(self):\n",
        "    return self._stack.pop()\n",
        "\n",
        "  def add(self):\n",
        "    self.push(self.pop() + self.pop())\n",
        "\n",
        "  def mul(self):\n",
        "    self.push(self.pop() * self.pop())\n",
        "\n",
        "  def sub(self):\n",
        "    right = self.pop()\n",
        "    self.push(self.pop() - right)\n",
        "\n",
        "  def div(self):\n",
        "    right = self.pop()\n",
        "    self.push(self.pop() / right)\n",
        "\n",
        "calc = Calculator()\n",
        "calc.push(2)\n",
        "calc.push(3)\n",
        "calc.push(4)\n",
        "calc.mul()\n",
        "calc.add()\n",
        "calc.pop()"
      ],
      "metadata": {
        "colab": {
          "base_uri": "https://localhost:8080/"
        },
        "id": "rqyQDRUYYtuS",
        "outputId": "3bc162b5-aff9-46c0-b970-3f0fff3f6ef7"
      },
      "execution_count": 31,
      "outputs": [
        {
          "output_type": "execute_result",
          "data": {
            "text/plain": [
              "14"
            ]
          },
          "metadata": {},
          "execution_count": 31
        }
      ]
    },
    {
      "cell_type": "code",
      "source": [
        "%%file readport.py\n",
        "def read_portfolio(filename):\n",
        "  portfolio = []\n",
        "  with open(filename) as file:\n",
        "    next(file)\n",
        "    for line in file:\n",
        "      row = line.split(',')\n",
        "      try:\n",
        "        name = row[0]\n",
        "        shares = int(row[1])\n",
        "        price = float(row[2])\n",
        "        holding = (name, shares, price)\n",
        "        portfolio.append(holding)\n",
        "      except ValueError as err:\n",
        "        print('Bad row:', row)\n",
        "        print('Reason:', err)\n",
        "\n",
        "  return portfolio"
      ],
      "metadata": {
        "colab": {
          "base_uri": "https://localhost:8080/"
        },
        "id": "gyNQkYmUbCo-",
        "outputId": "e1dc37b4-fc0f-452b-dda3-1194b4e8070c"
      },
      "execution_count": 33,
      "outputs": [
        {
          "output_type": "stream",
          "name": "stdout",
          "text": [
            "Writing readport.py\n"
          ]
        }
      ]
    },
    {
      "cell_type": "code",
      "source": [
        "# 1.17\n",
        "import readport\n",
        "def portfolio_cost(filename):\n",
        "  port = readport.read_portfolio(filename)\n",
        "  return sum(shares * price for _, shares, price in port)\n",
        "\n",
        "portfolio_cost('portfolio.csv')"
      ],
      "metadata": {
        "colab": {
          "base_uri": "https://localhost:8080/"
        },
        "id": "I7I9UypscJCA",
        "outputId": "14943623-f289-4e66-8a36-3258685dfdd9"
      },
      "execution_count": 34,
      "outputs": [
        {
          "output_type": "execute_result",
          "data": {
            "text/plain": [
              "94596.24"
            ]
          },
          "metadata": {},
          "execution_count": 34
        }
      ]
    },
    {
      "cell_type": "code",
      "source": [
        "# 1.18\n",
        "\n",
        "import csv\n",
        "\n",
        "def read_portfolio(filename):\n",
        "  portfolio = []\n",
        "  with open(filename) as file:\n",
        "    rows = csv.reader(file)\n",
        "    for row in rows:\n",
        "      try:\n",
        "        name = row[0]\n",
        "        shares = int(row[1])\n",
        "        price = float(row[2])\n",
        "        holding = (name, shares, price)\n",
        "        portfolio.append(holding)\n",
        "      except ValueError as err:\n",
        "        print('Bad row:', row)\n",
        "        print('Reason:', err)\n",
        "  return portfolio\n",
        "\n",
        "def main():\n",
        "  portfolio = read_portfolio('portfolio.csv')\n",
        "  for name, shares, price in portfolio:\n",
        "    print(f'{name:>10s} {shares:10d} {price:10.2f}')\n",
        "\n",
        "if __name__ == '__main__':\n",
        "  main()\n",
        "\n",
        "def main(argv):\n",
        "  if len(argv) == 1:\n",
        "    filename = input('Enter filename: ')\n",
        "  elif len(argv) == 2:\n",
        "    filename = argv[1]\n",
        "  else:\n",
        "    raise SystemExit(f'Usage: {argv[0]} [ filename ]')\n",
        "  portfolio = read_portfolio(filename)\n",
        "  for name, shares, price in portfolio:\n",
        "    print(f'{name:>10s} {shares:10d} {price:10.2f}')\n",
        "\n",
        "if __name__ == '__main__':\n",
        "  import sys\n",
        "  main(sys.argv)"
      ],
      "metadata": {
        "colab": {
          "base_uri": "https://localhost:8080/",
          "height": 262
        },
        "id": "OITU4i_Mc-07",
        "outputId": "ea84215c-48df-49d0-d9ee-2634afa452d0"
      },
      "execution_count": 37,
      "outputs": [
        {
          "output_type": "stream",
          "name": "stdout",
          "text": [
            "Bad row: ['name', 'shares', 'price']\n",
            "Reason: invalid literal for int() with base 10: 'shares'\n",
            "       AMC         29     294.00\n",
            "      TSLA        383     219.86\n",
            "      AAPL         10     176.65\n",
            "        SQ          2      48.68\n"
          ]
        },
        {
          "output_type": "error",
          "ename": "SystemExit",
          "evalue": "ignored",
          "traceback": [
            "An exception has occurred, use %tb to see the full traceback.\n",
            "\u001b[0;31mSystemExit\u001b[0m\u001b[0;31m:\u001b[0m Usage: /usr/local/lib/python3.10/dist-packages/colab_kernel_launcher.py [ filename ]\n"
          ]
        },
        {
          "output_type": "stream",
          "name": "stderr",
          "text": [
            "/usr/local/lib/python3.10/dist-packages/IPython/core/interactiveshell.py:3561: UserWarning: To exit: use 'exit', 'quit', or Ctrl-D.\n",
            "  warn(\"To exit: use 'exit', 'quit', or Ctrl-D.\", stacklevel=1)\n"
          ]
        }
      ]
    }
  ]
}