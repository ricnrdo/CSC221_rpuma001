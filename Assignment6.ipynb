{
  "nbformat": 4,
  "nbformat_minor": 0,
  "metadata": {
    "colab": {
      "provenance": [],
      "authorship_tag": "ABX9TyPR1e9pOls0rwh1h560qm9N",
      "include_colab_link": true
    },
    "kernelspec": {
      "name": "python3",
      "display_name": "Python 3"
    },
    "language_info": {
      "name": "python"
    }
  },
  "cells": [
    {
      "cell_type": "markdown",
      "metadata": {
        "id": "view-in-github",
        "colab_type": "text"
      },
      "source": [
        "<a href=\"https://colab.research.google.com/github/ricnrdo/CSC221_rpuma001/blob/main/Assignment6.ipynb\" target=\"_parent\"><img src=\"https://colab.research.google.com/assets/colab-badge.svg\" alt=\"Open In Colab\"/></a>"
      ]
    },
    {
      "cell_type": "code",
      "execution_count": 1,
      "metadata": {
        "colab": {
          "base_uri": "https://localhost:8080/"
        },
        "id": "MjPjb3dP_x1U",
        "outputId": "66fe123a-5671-4dae-b8e6-9c6829d95ff8"
      },
      "outputs": [
        {
          "output_type": "execute_result",
          "data": {
            "text/plain": [
              "False"
            ]
          },
          "metadata": {},
          "execution_count": 1
        }
      ],
      "source": [
        "car = \"bmw\"\n",
        "car == \"bmW\""
      ]
    },
    {
      "cell_type": "code",
      "source": [
        "age_0 = 22\n",
        "age_1 = 18\n",
        "\n",
        "age_0 >= 21 and age_1 >= 21 # False\n",
        "age_0 >= 21 or age_1 >= 21"
      ],
      "metadata": {
        "colab": {
          "base_uri": "https://localhost:8080/"
        },
        "id": "Ryq8s99gAAhJ",
        "outputId": "6c146dbc-ebf4-48f9-e7bf-595da263383e"
      },
      "execution_count": 6,
      "outputs": [
        {
          "output_type": "execute_result",
          "data": {
            "text/plain": [
              "True"
            ]
          },
          "metadata": {},
          "execution_count": 6
        }
      ]
    },
    {
      "cell_type": "code",
      "source": [
        "avaliable_toppings = ['mushrooms', 'onions', 'pineapple']\n",
        "\n",
        "\"mushrooms\" in avaliable_toppings # True\n",
        "\"carrots\" in avaliable_toppings"
      ],
      "metadata": {
        "colab": {
          "base_uri": "https://localhost:8080/"
        },
        "id": "sUoyHw-mAZu9",
        "outputId": "cb8448f2-7a81-4266-a794-3f528c9a3d88"
      },
      "execution_count": 10,
      "outputs": [
        {
          "output_type": "execute_result",
          "data": {
            "text/plain": [
              "False"
            ]
          },
          "metadata": {},
          "execution_count": 10
        }
      ]
    },
    {
      "cell_type": "code",
      "source": [
        "topping = \"pepperoni\"\n",
        "\n",
        "if topping not in avaliable_toppings:\n",
        "  print(f\"Sorry, we don't have {topping.title()} pizzas at this moment, but you can wait 10 minutes.\")"
      ],
      "metadata": {
        "colab": {
          "base_uri": "https://localhost:8080/"
        },
        "id": "deUZVJR4AmG3",
        "outputId": "cfd3416c-bfaf-48a6-e6cf-28199fe1f770"
      },
      "execution_count": 16,
      "outputs": [
        {
          "output_type": "stream",
          "name": "stdout",
          "text": [
            "Sorry, we don't have Pepperoni pizzas at this moment, but you can wait 10 minutes.\n"
          ]
        }
      ]
    },
    {
      "cell_type": "code",
      "source": [
        "# Try it yourself\n",
        "\n",
        "# 5-1 and 5-2\n",
        "genre = \"horror\"\n",
        "\n",
        "print(\"Is genre == 'horror'? I predict True\")\n",
        "print(genre == \"horror\")\n",
        "\n",
        "fruit = \"watermelon\"\n",
        "print(\"Is fruit == 'pineapple'? I predict True\")\n",
        "print(fruit == \"pineapple\")\n",
        "\n",
        "location = \"paris\"\n",
        "print(\"Is location == 'madrid'? I predict False\")\n",
        "print(location == \"madrid\")\n",
        "\n",
        "username = \"DakotaPowers\"\n",
        "print(\"Is username.lower() == 'dakotapowers'? I predict True\")\n",
        "print(username.lower() == \"dakotapowers\")\n",
        "\n",
        "print(\"Is username != 'dakotapowers'? I predict True\")\n",
        "print(username != \"dakotapowers\")\n",
        "\n",
        "age = 25\n",
        "print(\"Is age > 18? I predict True.\")\n",
        "print(age > 18)\n",
        "\n",
        "number = 10\n",
        "print(\"Is number >= 5 and number <= 10? I predict True.\")\n",
        "print(number>=5 and number<=10)\n",
        "\n",
        "x = True\n",
        "y = False\n",
        "\n",
        "print(\"Is x and y both False? I predict False\")\n",
        "print(x and y)\n",
        "\n",
        "y = True\n",
        "print(\"Is either x or y False? I predict True\")\n",
        "print(x == False or y == False)\n",
        "\n",
        "sizes_in_store = ['xs', 's', 'm']\n",
        "print(f\"Does the store have L sizes? I predict True.\")\n",
        "print('l' in sizes_in_store)\n",
        "\n",
        "print(f\"Does the store not have L sizes? I predict True.\")\n",
        "print('l' not in sizes_in_store)"
      ],
      "metadata": {
        "colab": {
          "base_uri": "https://localhost:8080/"
        },
        "id": "d0Bzu_nbC-hc",
        "outputId": "ece9d2f4-a4c4-4402-ae50-bef71a6f8dff"
      },
      "execution_count": 35,
      "outputs": [
        {
          "output_type": "stream",
          "name": "stdout",
          "text": [
            "Is genre == 'horror'? I predict True\n",
            "True\n",
            "Is fruit == 'pineapple'? I predict True\n",
            "False\n",
            "Is location == 'madrid'? I predict False\n",
            "False\n",
            "Is username.lower() == 'dakotapowers'? I predict True\n",
            "True\n",
            "Is username != 'dakotapowers'? I predict True\n",
            "True\n",
            "Is age > 18? I predict True.\n",
            "True\n",
            "Is number >= 5 and number <= 10? I predict True.\n",
            "True\n",
            "Is x and y both False? I predict False\n",
            "False\n",
            "Is either x or y False? I predict True\n",
            "False\n",
            "Does the store have L sizes? I predict True.\n",
            "False\n",
            "Does the store not have L sizes? I predict True.\n",
            "True\n"
          ]
        }
      ]
    },
    {
      "cell_type": "code",
      "source": [
        "# 5-3\n",
        "alien_color = \"green\" # Passes\n",
        "alien_color = \"red\" # Fails\n",
        "\n",
        "if alien_color == \"green\":\n",
        "  print(\"Congratulations! You earned 5 points\")"
      ],
      "metadata": {
        "id": "e1D0bNZSSd5U"
      },
      "execution_count": 38,
      "outputs": []
    },
    {
      "cell_type": "code",
      "source": [
        "# 5-6\n",
        "age = 24\n",
        "\n",
        "if age < 2:\n",
        "  print(\"This person is a baby\")\n",
        "elif age >= 2 and age < 4:\n",
        "  print(\"This person is a toddler\")\n",
        "elif age >= 4 and age < 13:\n",
        "  print(\"This person is a kid\")\n",
        "elif age >= 13 and age < 20:\n",
        "  print(\"This person is a teenager\")\n",
        "elif age >= 20 and age < 65:\n",
        "  print(\"This person is an adult\")\n",
        "elif age >= 65:\n",
        "  print(\"This person is an elder\")\n",
        "\n",
        "# 5-12: done"
      ],
      "metadata": {
        "colab": {
          "base_uri": "https://localhost:8080/"
        },
        "id": "VMIqbkBsTR6D",
        "outputId": "c2d83545-945c-45c3-f3ed-3246c6649c6a"
      },
      "execution_count": 40,
      "outputs": [
        {
          "output_type": "stream",
          "name": "stdout",
          "text": [
            "This person is an adult\n"
          ]
        }
      ]
    },
    {
      "cell_type": "code",
      "source": [
        "# I am taking other programming classes so I might have mixed stuff up, but this is my project for 5-13\n",
        "\n",
        "to_do_list = []\n",
        "\n",
        "stop = False\n",
        "\n",
        "def addTask():\n",
        "  task = input(\"What would you like to add in your to-do list?\\n\")\n",
        "\n",
        "  to_do_list.append(task)\n",
        "\n",
        "  return f\"'{task}' has been added to your list\"\n",
        "\n",
        "def deleteTask():\n",
        "  task = input(\"What task would you like to remove?\\n\")\n",
        "\n",
        "  to_do_list.remove(task)\n",
        "  print(f\"{task} has been removed from your to-do list\")\n",
        "\n",
        "def showList():\n",
        "  print(\"\\nTo-do List:\")\n",
        "  for task in to_do_list:\n",
        "    print(task)\n",
        "\n",
        "print(\"Commands:\\n'add' to create a task\\n'del' to remove a task\\n'show' to show current to-do list\\n'stop' to stop the program\\n\")\n",
        "while stop == False:\n",
        "  action = input(\"What would you like to do?\\n\")\n",
        "\n",
        "  if action == \"add\":\n",
        "    print(addTask(), \"\\n\")\n",
        "  elif action == \"del\":\n",
        "    deleteTask()\n",
        "  elif action == \"show\":\n",
        "    showList()\n",
        "  elif action == \"stop\":\n",
        "    stop = True\n",
        "\n"
      ],
      "metadata": {
        "colab": {
          "base_uri": "https://localhost:8080/",
          "height": 1000
        },
        "id": "zK1gV9KDaUcR",
        "outputId": "bbb1af3a-2439-45ad-e1d1-d801d4a7d87d"
      },
      "execution_count": 57,
      "outputs": [
        {
          "output_type": "stream",
          "name": "stdout",
          "text": [
            "Commands:\n",
            "'add' to create a task\n",
            "'del' to remove a task\n",
            "'show' to show current to-do list\n",
            "'stop' to stop the program\n",
            "\n",
            "What would you like to do?\n",
            "add\n",
            "What would you like to add in your to-do list?\n",
            "Do homework\n",
            "'Do homework' has been added to your list \n",
            "\n",
            "What would you like to do?\n",
            "add\n",
            "What would you like to add in your to-do list?\n",
            "Watch tiktoks\n",
            "'Watch tiktoks' has been added to your list \n",
            "\n",
            "What would you like to do?\n",
            "add\n",
            "What would you like to add in your to-do list?\n",
            "Code\n",
            "'Code' has been added to your list \n",
            "\n",
            "What would you like to do?\n",
            "show\n",
            "\n",
            "To-do List:\n",
            "Do homework\n",
            "Watch tiktoks\n",
            "Code\n",
            "What would you like to do?\n",
            "show\n",
            "\n",
            "To-do List:\n",
            "Do homework\n",
            "Watch tiktoks\n",
            "Code\n",
            "What would you like to do?\n",
            "del\n",
            "What task would you like to remove?\n",
            "Code\n",
            "Code has been removed from your to-do list\n"
          ]
        },
        {
          "output_type": "error",
          "ename": "KeyboardInterrupt",
          "evalue": "ignored",
          "traceback": [
            "\u001b[0;31m---------------------------------------------------------------------------\u001b[0m",
            "\u001b[0;31mKeyboardInterrupt\u001b[0m                         Traceback (most recent call last)",
            "\u001b[0;32m<ipython-input-57-5695db443d20>\u001b[0m in \u001b[0;36m<cell line: 27>\u001b[0;34m()\u001b[0m\n\u001b[1;32m     26\u001b[0m \u001b[0mprint\u001b[0m\u001b[0;34m(\u001b[0m\u001b[0;34m\"Commands:\\n'add' to create a task\\n'del' to remove a task\\n'show' to show current to-do list\\n'stop' to stop the program\\n\"\u001b[0m\u001b[0;34m)\u001b[0m\u001b[0;34m\u001b[0m\u001b[0;34m\u001b[0m\u001b[0m\n\u001b[1;32m     27\u001b[0m \u001b[0;32mwhile\u001b[0m \u001b[0mstop\u001b[0m \u001b[0;34m==\u001b[0m \u001b[0;32mFalse\u001b[0m\u001b[0;34m:\u001b[0m\u001b[0;34m\u001b[0m\u001b[0;34m\u001b[0m\u001b[0m\n\u001b[0;32m---> 28\u001b[0;31m   \u001b[0maction\u001b[0m \u001b[0;34m=\u001b[0m \u001b[0minput\u001b[0m\u001b[0;34m(\u001b[0m\u001b[0;34m\"What would you like to do?\\n\"\u001b[0m\u001b[0;34m)\u001b[0m\u001b[0;34m\u001b[0m\u001b[0;34m\u001b[0m\u001b[0m\n\u001b[0m\u001b[1;32m     29\u001b[0m \u001b[0;34m\u001b[0m\u001b[0m\n\u001b[1;32m     30\u001b[0m   \u001b[0;32mif\u001b[0m \u001b[0maction\u001b[0m \u001b[0;34m==\u001b[0m \u001b[0;34m\"add\"\u001b[0m\u001b[0;34m:\u001b[0m\u001b[0;34m\u001b[0m\u001b[0;34m\u001b[0m\u001b[0m\n",
            "\u001b[0;32m/usr/local/lib/python3.10/dist-packages/ipykernel/kernelbase.py\u001b[0m in \u001b[0;36mraw_input\u001b[0;34m(self, prompt)\u001b[0m\n\u001b[1;32m    849\u001b[0m                 \u001b[0;34m\"raw_input was called, but this frontend does not support input requests.\"\u001b[0m\u001b[0;34m\u001b[0m\u001b[0;34m\u001b[0m\u001b[0m\n\u001b[1;32m    850\u001b[0m             )\n\u001b[0;32m--> 851\u001b[0;31m         return self._input_request(str(prompt),\n\u001b[0m\u001b[1;32m    852\u001b[0m             \u001b[0mself\u001b[0m\u001b[0;34m.\u001b[0m\u001b[0m_parent_ident\u001b[0m\u001b[0;34m,\u001b[0m\u001b[0;34m\u001b[0m\u001b[0;34m\u001b[0m\u001b[0m\n\u001b[1;32m    853\u001b[0m             \u001b[0mself\u001b[0m\u001b[0;34m.\u001b[0m\u001b[0m_parent_header\u001b[0m\u001b[0;34m,\u001b[0m\u001b[0;34m\u001b[0m\u001b[0;34m\u001b[0m\u001b[0m\n",
            "\u001b[0;32m/usr/local/lib/python3.10/dist-packages/ipykernel/kernelbase.py\u001b[0m in \u001b[0;36m_input_request\u001b[0;34m(self, prompt, ident, parent, password)\u001b[0m\n\u001b[1;32m    893\u001b[0m             \u001b[0;32mexcept\u001b[0m \u001b[0mKeyboardInterrupt\u001b[0m\u001b[0;34m:\u001b[0m\u001b[0;34m\u001b[0m\u001b[0;34m\u001b[0m\u001b[0m\n\u001b[1;32m    894\u001b[0m                 \u001b[0;31m# re-raise KeyboardInterrupt, to truncate traceback\u001b[0m\u001b[0;34m\u001b[0m\u001b[0;34m\u001b[0m\u001b[0m\n\u001b[0;32m--> 895\u001b[0;31m                 \u001b[0;32mraise\u001b[0m \u001b[0mKeyboardInterrupt\u001b[0m\u001b[0;34m(\u001b[0m\u001b[0;34m\"Interrupted by user\"\u001b[0m\u001b[0;34m)\u001b[0m \u001b[0;32mfrom\u001b[0m \u001b[0;32mNone\u001b[0m\u001b[0;34m\u001b[0m\u001b[0;34m\u001b[0m\u001b[0m\n\u001b[0m\u001b[1;32m    896\u001b[0m             \u001b[0;32mexcept\u001b[0m \u001b[0mException\u001b[0m \u001b[0;32mas\u001b[0m \u001b[0me\u001b[0m\u001b[0;34m:\u001b[0m\u001b[0;34m\u001b[0m\u001b[0;34m\u001b[0m\u001b[0m\n\u001b[1;32m    897\u001b[0m                 \u001b[0mself\u001b[0m\u001b[0;34m.\u001b[0m\u001b[0mlog\u001b[0m\u001b[0;34m.\u001b[0m\u001b[0mwarning\u001b[0m\u001b[0;34m(\u001b[0m\u001b[0;34m\"Invalid Message:\"\u001b[0m\u001b[0;34m,\u001b[0m \u001b[0mexc_info\u001b[0m\u001b[0;34m=\u001b[0m\u001b[0;32mTrue\u001b[0m\u001b[0;34m)\u001b[0m\u001b[0;34m\u001b[0m\u001b[0;34m\u001b[0m\u001b[0m\n",
            "\u001b[0;31mKeyboardInterrupt\u001b[0m: Interrupted by user"
          ]
        }
      ]
    }
  ]
}