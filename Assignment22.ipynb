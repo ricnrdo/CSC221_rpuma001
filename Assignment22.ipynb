{
  "nbformat": 4,
  "nbformat_minor": 0,
  "metadata": {
    "colab": {
      "provenance": [],
      "authorship_tag": "ABX9TyPJl27L3eXJ9HufCjNRjh5C",
      "include_colab_link": true
    },
    "kernelspec": {
      "name": "python3",
      "display_name": "Python 3"
    },
    "language_info": {
      "name": "python"
    }
  },
  "cells": [
    {
      "cell_type": "markdown",
      "metadata": {
        "id": "view-in-github",
        "colab_type": "text"
      },
      "source": [
        "<a href=\"https://colab.research.google.com/github/ricnrdo/CSC221_rpuma001/blob/main/Assignment22.ipynb\" target=\"_parent\"><img src=\"https://colab.research.google.com/assets/colab-badge.svg\" alt=\"Open In Colab\"/></a>"
      ]
    },
    {
      "cell_type": "code",
      "execution_count": null,
      "metadata": {
        "id": "wytqcjgGuCog"
      },
      "outputs": [],
      "source": [
        "# Assignment 22\n",
        "# Ricardo Puma"
      ]
    },
    {
      "cell_type": "code",
      "source": [
        "# I did not understood what #1 asked for. By length I thought addition but that's #2. I asked ChatGPT\n",
        "# if it could figure out what it meant and it told me to add __len__ but it didn't make sense to me cause there's\n",
        "# always gonna be two arguments so it will always return 2 and there's no way to sort that. But here it is:\n",
        "\n",
        "#1\n",
        "class Vector2D:\n",
        "  def __init__(self, x, y):\n",
        "        self.x = x\n",
        "        self.y = y\n",
        "  def __repr__(self):\n",
        "    return f\"{self.x, self.y}\"\n",
        "\n",
        "  def __len__(self):\n",
        "        return 2\n",
        "\n",
        "l1 = Vector2D(1, 2)\n",
        "l2 = Vector2D(3, 4)\n",
        "l3 = Vector2D(0, 1)\n",
        "vectors = [l1, l2, l3]\n",
        "sorted_vectors = sorted(vectors, key=len)\n",
        "print(sorted_vectors)\n",
        "\n",
        "#2\n",
        "class Vector2D:\n",
        "  def __init__(self, x, y):\n",
        "        self.x = x\n",
        "        self.y = y\n",
        "  def __repr__(self):\n",
        "    return f\"{self.x, self.y}\"\n",
        "\n",
        "  def __lt__(self, other):\n",
        "    return self.x + self.y < other.x + other.y\n",
        "\n",
        "m1 = Vector2D(2, 4)\n",
        "m2 = Vector2D(4, 32)\n",
        "m3 = Vector2D(3, 1)\n",
        "\n",
        "container = [m1, m2, m3]\n",
        "container.sort()\n",
        "print(container)\n",
        "\n",
        "#3\n",
        "class LengthOfKey:\n",
        "  def __getitem__(self, key):\n",
        "    plural = 's' if len(str(key)) > 1 else ''\n",
        "    return f\"'{key}' has {len(str(key))} character{plural}\"\n",
        "\n",
        "n1 = LengthOfKey()\n",
        "print(n1['four'])\n",
        "print(n1['others'])"
      ],
      "metadata": {
        "colab": {
          "base_uri": "https://localhost:8080/"
        },
        "id": "AvFZMNYm18h-",
        "outputId": "cb3dbe75-7fa7-4e78-b2d1-eed337e549ea"
      },
      "execution_count": 43,
      "outputs": [
        {
          "output_type": "stream",
          "name": "stdout",
          "text": [
            "[(1, 2), (3, 4), (0, 1)]\n",
            "[(3, 1), (2, 4), (4, 32)]\n",
            "'four' has 4 characters\n",
            "'others' has 6 characters\n"
          ]
        }
      ]
    }
  ]
}