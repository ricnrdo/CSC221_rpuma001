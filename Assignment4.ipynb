{
  "nbformat": 4,
  "nbformat_minor": 0,
  "metadata": {
    "colab": {
      "provenance": [],
      "authorship_tag": "ABX9TyPyLbEkSZI6/B5gg+86bE9c",
      "include_colab_link": true
    },
    "kernelspec": {
      "name": "python3",
      "display_name": "Python 3"
    },
    "language_info": {
      "name": "python"
    }
  },
  "cells": [
    {
      "cell_type": "markdown",
      "metadata": {
        "id": "view-in-github",
        "colab_type": "text"
      },
      "source": [
        "<a href=\"https://colab.research.google.com/github/ricnrdo/CSC221_rpuma001/blob/main/Assignment4.ipynb\" target=\"_parent\"><img src=\"https://colab.research.google.com/assets/colab-badge.svg\" alt=\"Open In Colab\"/></a>"
      ]
    },
    {
      "cell_type": "code",
      "execution_count": 8,
      "metadata": {
        "colab": {
          "base_uri": "https://localhost:8080/"
        },
        "id": "ZXmGCGH3eJMa",
        "outputId": "efb6bae3-3c71-4544-eca3-5e4340891d20"
      },
      "outputs": [
        {
          "output_type": "stream",
          "name": "stdout",
          "text": [
            "My first bicycle was a Trek.\n"
          ]
        }
      ],
      "source": [
        "bicycles = ['trek','cannondale','redline','specialized']\n",
        "# print(bicycles)\n",
        "# print(bicycles[0])\n",
        "# print(bicycles[0].title())\n",
        "# print(bicycles[1])\n",
        "# print(bicycles[3])\n",
        "# print(bicycles[-1])\n",
        "\n",
        "message = f\"My first bicycle was a {bicycles[0].title()}.\"\n",
        "print(message)"
      ]
    },
    {
      "cell_type": "code",
      "source": [
        "# Try it yourself\n",
        "# 3-1\n",
        "names = [\"alexa\", \"kim\", \"gilmar\", \"sandra\", \"robert\"]\n",
        "print(names[0])\n",
        "print(names[1])\n",
        "print(names[2])\n",
        "print(names[3])\n"
      ],
      "metadata": {
        "colab": {
          "base_uri": "https://localhost:8080/"
        },
        "id": "4m7pWPNmomSZ",
        "outputId": "1afa7efd-7537-4f47-d5ab-e39e080c7df4"
      },
      "execution_count": 14,
      "outputs": [
        {
          "output_type": "stream",
          "name": "stdout",
          "text": [
            "alexa\n",
            "kim\n",
            "gilmar\n",
            "sandra\n"
          ]
        }
      ]
    },
    {
      "cell_type": "code",
      "source": [
        "# 3-2\n",
        "for n in names:\n",
        "  message = f\"Hi, {n.title()}! How was your day?\"\n",
        "  print(message)"
      ],
      "metadata": {
        "colab": {
          "base_uri": "https://localhost:8080/"
        },
        "id": "R5SMFQSIpPRv",
        "outputId": "22909466-0bac-4110-c154-11acca6c827d"
      },
      "execution_count": 18,
      "outputs": [
        {
          "output_type": "stream",
          "name": "stdout",
          "text": [
            "Hi, Alexa! How was your day?\n",
            "Hi, Kim! How was your day?\n",
            "Hi, Gilmar! How was your day?\n",
            "Hi, Sandra! How was your day?\n",
            "Hi, Robert! How was your day?\n"
          ]
        }
      ]
    },
    {
      "cell_type": "code",
      "source": [
        "# 3-3\n",
        "transportation = [\"tesla s\", \"electric scooter\", \"jeep wrangler\"]\n",
        "\n",
        "for t in transportation:\n",
        "  print(f\"I would like to own a {t.title()}\")"
      ],
      "metadata": {
        "colab": {
          "base_uri": "https://localhost:8080/"
        },
        "id": "hEwbuCIRqHbT",
        "outputId": "07fb47dd-843b-4b57-ba59-84404af1810c"
      },
      "execution_count": 20,
      "outputs": [
        {
          "output_type": "stream",
          "name": "stdout",
          "text": [
            "I would like to own a Tesla S\n",
            "I would like to own a Electric Scooter\n",
            "I would like to own a Jeep Wrangler\n"
          ]
        }
      ]
    },
    {
      "cell_type": "code",
      "source": [
        "# motorcycles.py\n",
        "# motorcycles = [\"honda\", \"yamaha\", \"suzuki\"]\n",
        "# print(motorcycles)\n",
        "\n",
        "# motorcycles[0] = 'ducati'\n",
        "# print(motorcycles)\n",
        "\n",
        "# motorcycles.append('ducati')\n",
        "# print(motorcycles)\n",
        "\n",
        "# motorcycles = []\n",
        "\n",
        "# motorcycles.append('honda')\n",
        "# motorcycles.append('yamaha')\n",
        "# motorcycles.append('suzuki')\n",
        "\n",
        "# print(motorcycles)\n",
        "\n",
        "# Inserting Elements into a list\n",
        "motorcycles = ['honda', 'yamaha', 'suzuki']\n",
        "\n",
        "# motorcycles.insert(0, 'ducati')\n",
        "# print(motorcycles)\n",
        "\n",
        "# del motorcycles[0] # or [1]\n",
        "# print(motorcycles)\n",
        "\n",
        "# pop()\n",
        "# popped_motorcycles = motorcycles.pop()\n",
        "# print(motorcycles)\n",
        "# print(popped_motorcycles)\n",
        "\n",
        "# last_owned = motorcycles.pop() # could also put an index like (0)\n",
        "# print(f\"The last motorcycle I owned was a {last_owned.title()}.\")\n",
        "\n",
        "# Removing an item by value\n",
        "\n",
        "# print(motorcycles)\n",
        "# motorcycles.remove('suzuki')\n",
        "# print(motorcycles)\n",
        "\n",
        "too_expensive = 'suzuki'\n",
        "motorcycles.remove(too_expensive)\n",
        "print(motorcycles)\n",
        "print(f\"\\nA {too_expensive.title()} is too expensive for me.\")"
      ],
      "metadata": {
        "colab": {
          "base_uri": "https://localhost:8080/"
        },
        "id": "vtczXQ_QsOoN",
        "outputId": "f4744642-a08b-454d-a7b7-4202606356e5"
      },
      "execution_count": 44,
      "outputs": [
        {
          "output_type": "stream",
          "name": "stdout",
          "text": [
            "['honda', 'yamaha']\n",
            "\n",
            "A Suzuki is too expensive for me.\n"
          ]
        }
      ]
    },
    {
      "cell_type": "code",
      "source": [
        "# Try it yourself\n",
        "\n",
        "# 3-4\n",
        "people_invited_to_dinner = [\"alexa\", \"kim\", \"adeeba\", \"josh\"]\n",
        "print(f\"{people_invited_to_dinner[0].title()}, do you want to go out to dinner?\")\n",
        "print(f\"{people_invited_to_dinner[1].title()}, do you want to go out to dinner?\")\n",
        "print(f\"{people_invited_to_dinner[2].title()}, do you want to go out to dinner?\")\n",
        "\n",
        "\n",
        "\n",
        "# 3-5\n",
        "\n",
        "not_able_to_attend = people_invited_to_dinner.pop(-1)\n",
        "\n",
        "print(f\"\\nSadly {not_able_to_attend.title()} cannot make it to dinner tonight\\n\")\n",
        "\n",
        "people_invited_to_dinner.append(\"shane\")\n",
        "\n",
        "print(f\"{people_invited_to_dinner[0].title()}, do you want to go out to dinner?\")\n",
        "print(f\"{people_invited_to_dinner[1].title()}, do you want to go out to dinner?\")\n",
        "print(f\"{people_invited_to_dinner[2].title()}, do you want to go out to dinner?\")\n",
        "print(f\"{people_invited_to_dinner[3].title()}, do you want to go out to dinner?\\n\\n\")\n",
        "\n",
        "\n",
        "\n",
        "# 3-6\n",
        "\n",
        "people_invited_to_dinner.insert(0, \"jennifer\")\n",
        "people_invited_to_dinner.insert(2, \"dakota\")\n",
        "people_invited_to_dinner.append(\"may\")\n",
        "\n",
        "for person in people_invited_to_dinner:\n",
        "  print(f\"{person.title()}, do you want to go out to dinner?\")\n",
        "\n",
        "print(\"I found a bigger table! We can have more people over!\\n\\n\")\n",
        "\n",
        "\n",
        "\n",
        "# 3-7\n",
        "\n",
        "print(\"The table won't arrive on time. I can only invite two people for dinner\")\n",
        "\n",
        "uninvited = people_invited_to_dinner.pop(6)\n",
        "print(f\"Sorry {uninvited}, I cannot invite you this time to dinner\")\n",
        "\n",
        "uninvited = people_invited_to_dinner.pop(5)\n",
        "print(f\"Sorry {uninvited}, I cannot invite you this time to dinner\")\n",
        "\n",
        "uninvited = people_invited_to_dinner.pop(4)\n",
        "print(f\"Sorry {uninvited}, I cannot invite you this time to dinner\")\n",
        "\n",
        "uninvited = people_invited_to_dinner.pop(3)\n",
        "print(f\"Sorry {uninvited}, I cannot invite you this time to dinner\")\n",
        "\n",
        "uninvited = people_invited_to_dinner.pop(2)\n",
        "print(f\"Sorry {uninvited}, I cannot invite you this time to dinner\\n\\n\")\n",
        "\n",
        "print(f\"{people_invited_to_dinner[0]}, you are still invited to dinner\")\n",
        "print(f\"{people_invited_to_dinner[1]}, you are still invited to dinner\\n\\n\")\n",
        "\n",
        "# del people_invited_to_dinner[0]\n",
        "# del people_invited_to_dinner[0]\n",
        "\n",
        "print(people_invited_to_dinner)"
      ],
      "metadata": {
        "colab": {
          "base_uri": "https://localhost:8080/"
        },
        "id": "QFfQAFncFAaZ",
        "outputId": "589ee7a0-34b2-477c-9949-3d500983d858"
      },
      "execution_count": 4,
      "outputs": [
        {
          "output_type": "stream",
          "name": "stdout",
          "text": [
            "Alexa, do you want to go out to dinner?\n",
            "Kim, do you want to go out to dinner?\n",
            "Adeeba, do you want to go out to dinner?\n",
            "\n",
            "Sadly Josh cannot make it to dinner tonight\n",
            "\n",
            "Alexa, do you want to go out to dinner?\n",
            "Kim, do you want to go out to dinner?\n",
            "Adeeba, do you want to go out to dinner?\n",
            "Shane, do you want to go out to dinner?\n",
            "\n",
            "\n",
            "Jennifer, do you want to go out to dinner?\n",
            "Alexa, do you want to go out to dinner?\n",
            "Dakota, do you want to go out to dinner?\n",
            "Kim, do you want to go out to dinner?\n",
            "Adeeba, do you want to go out to dinner?\n",
            "Shane, do you want to go out to dinner?\n",
            "May, do you want to go out to dinner?\n",
            "I found a bigger table! We can have more people over!\n",
            "\n",
            "\n",
            "The table won't arrive on time. I can only invite two people for dinner\n",
            "Sorry may, I cannot invite you this time to dinner\n",
            "Sorry shane, I cannot invite you this time to dinner\n",
            "Sorry adeeba, I cannot invite you this time to dinner\n",
            "Sorry kim, I cannot invite you this time to dinner\n",
            "Sorry dakota, I cannot invite you this time to dinner\n",
            "\n",
            "\n",
            "jennifer, you are still invited to dinner\n",
            "alexa, you are still invited to dinner\n",
            "\n",
            "\n",
            "['jennifer', 'alexa']\n"
          ]
        }
      ]
    },
    {
      "cell_type": "code",
      "source": [
        "# sort()\n",
        "motorcycles.sort()\n",
        "print(motorcycles)\n",
        "\n",
        "motorcycles.sort(reverse=True)\n",
        "print(motorcycles)\n",
        "\n",
        "# print(sorted(motorcycles)) # not permanent change\n",
        "# print(motorcycles)\n",
        "\n",
        "print(len(motorcycles))"
      ],
      "metadata": {
        "colab": {
          "base_uri": "https://localhost:8080/"
        },
        "id": "jFjspcvomyHA",
        "outputId": "6992a9d7-5fb8-4d80-c922-753f8dc40370"
      },
      "execution_count": 51,
      "outputs": [
        {
          "output_type": "stream",
          "name": "stdout",
          "text": [
            "['honda', 'yamaha']\n",
            "['yamaha', 'honda']\n",
            "2\n"
          ]
        }
      ]
    },
    {
      "cell_type": "code",
      "source": [
        "# 3-8\n",
        "\n",
        "locations_to_visit = [\"Italy\", \"Spain\", \"France\", \"Niagara Falls\", \"Quebec\", \"Berlin\", \"London\"]\n",
        "print(f\"Original order: {locations_to_visit}\\n\")\n",
        "\n",
        "\n",
        "print(sorted(locations_to_visit))\n",
        "print(f\"\\nOriginal order: {locations_to_visit}\\n\")\n",
        "\n",
        "\n",
        "print(sorted(locations_to_visit, reverse=True))\n",
        "print(f\"\\nOriginal order: {locations_to_visit}\\n\")\n",
        "\n",
        "\n",
        "print(\"Used reverse():\")\n",
        "locations_to_visit.reverse()\n",
        "print(f\"\\nOriginal order: {locations_to_visit}\\n\")\n",
        "\n",
        "\n",
        "print(\"Used reverse() (again):\")\n",
        "locations_to_visit.reverse()\n",
        "print(f\"\\nOriginal order: {locations_to_visit}\\n\")\n",
        "\n",
        "locations_to_visit.sort()\n",
        "print(f\"\\nOriginal order: {locations_to_visit}\\n\")\n",
        "\n",
        "locations_to_visit.sort(reverse=True)\n",
        "print(f\"\\nOriginal order: {locations_to_visit}\\n\")\n"
      ],
      "metadata": {
        "colab": {
          "base_uri": "https://localhost:8080/"
        },
        "id": "7QkrvjlIpBU5",
        "outputId": "a7ba4619-94e5-4568-e2ae-07507c3e52a6"
      },
      "execution_count": 73,
      "outputs": [
        {
          "output_type": "stream",
          "name": "stdout",
          "text": [
            "Original order: ['Italy', 'Spain', 'France', 'Niagara Falls', 'Quebec', 'Berlin', 'London']\n",
            "\n",
            "['Berlin', 'France', 'Italy', 'London', 'Niagara Falls', 'Quebec', 'Spain']\n",
            "\n",
            "Original order: ['Italy', 'Spain', 'France', 'Niagara Falls', 'Quebec', 'Berlin', 'London']\n",
            "\n",
            "['Spain', 'Quebec', 'Niagara Falls', 'London', 'Italy', 'France', 'Berlin']\n",
            "\n",
            "Original order: ['Italy', 'Spain', 'France', 'Niagara Falls', 'Quebec', 'Berlin', 'London']\n",
            "\n",
            "Used reverse():\n",
            "\n",
            "Original order: ['London', 'Berlin', 'Quebec', 'Niagara Falls', 'France', 'Spain', 'Italy']\n",
            "\n",
            "Used reverse() (again):\n",
            "\n",
            "Original order: ['Italy', 'Spain', 'France', 'Niagara Falls', 'Quebec', 'Berlin', 'London']\n",
            "\n",
            "\n",
            "Original order: ['Berlin', 'France', 'Italy', 'London', 'Niagara Falls', 'Quebec', 'Spain']\n",
            "\n",
            "\n",
            "Original order: ['Spain', 'Quebec', 'Niagara Falls', 'London', 'Italy', 'France', 'Berlin']\n",
            "\n"
          ]
        }
      ]
    },
    {
      "cell_type": "code",
      "source": [
        "# 3-9\n",
        "\n",
        "print(f\"I am inviting {len(people_invited_to_dinner)} people over to dinner\")"
      ],
      "metadata": {
        "colab": {
          "base_uri": "https://localhost:8080/"
        },
        "id": "-Nb-8yFU4mF6",
        "outputId": "5441b1cc-5ae4-43c8-825f-d6ca834ba6e3"
      },
      "execution_count": 7,
      "outputs": [
        {
          "output_type": "stream",
          "name": "stdout",
          "text": [
            "I am inviting 2 people over to dinner\n"
          ]
        }
      ]
    },
    {
      "cell_type": "code",
      "source": [
        "# 3-10\n",
        "\n",
        "countries = [\"italy\", \"uk\", \"france\", \"qatar\", \"argentina\", \"greece\"]\n",
        "\n",
        "print(countries[0].title())\n",
        "countries.append(\"south korea\")\n",
        "print(countries)\n",
        "countries.insert(3, \"spain\")\n",
        "print(countries)\n",
        "\n",
        "del countries[3]\n",
        "print(countries)\n",
        "\n",
        "countries.pop()\n",
        "print(countries)\n",
        "\n",
        "countries.remove(\"qatar\")\n",
        "print(countries)\n",
        "\n",
        "countries.sort()\n",
        "print(countries)\n",
        "\n",
        "countries.sort(reverse=True)\n",
        "print(countries)\n",
        "\n",
        "print(sorted(countries))\n",
        "\n",
        "countries.reverse()\n",
        "print(countries)\n",
        "\n",
        "len(countries)\n",
        "\n",
        "# 3-11\n",
        "# Already got index error and fixed it in prior code."
      ],
      "metadata": {
        "colab": {
          "base_uri": "https://localhost:8080/"
        },
        "id": "ahGq-Ida5IgO",
        "outputId": "54cbe879-ca35-44a6-aced-1b94f89c1414"
      },
      "execution_count": 17,
      "outputs": [
        {
          "output_type": "stream",
          "name": "stdout",
          "text": [
            "Italy\n",
            "['italy', 'uk', 'france', 'qatar', 'argentina', 'greece', 'south korea']\n",
            "['italy', 'uk', 'france', 'spain', 'qatar', 'argentina', 'greece', 'south korea']\n",
            "['italy', 'uk', 'france', 'qatar', 'argentina', 'greece', 'south korea']\n",
            "['italy', 'uk', 'france', 'qatar', 'argentina', 'greece']\n",
            "['italy', 'uk', 'france', 'argentina', 'greece']\n",
            "['argentina', 'france', 'greece', 'italy', 'uk']\n",
            "['uk', 'italy', 'greece', 'france', 'argentina']\n",
            "['argentina', 'france', 'greece', 'italy', 'uk']\n",
            "['argentina', 'france', 'greece', 'italy', 'uk']\n"
          ]
        },
        {
          "output_type": "execute_result",
          "data": {
            "text/plain": [
              "5"
            ]
          },
          "metadata": {},
          "execution_count": 17
        }
      ]
    },
    {
      "cell_type": "code",
      "source": [
        "for num in range(60, 86):\n",
        "  if num % 7 == 0:\n",
        "    cube = num ** 3\n",
        "    print(cube)\n",
        "  else:\n",
        "    print(num)\n",
        "\n",
        "print(\"\\nSolve Equation:\\ny = 7.4x + 51 \\n\")\n",
        "compute = [40, 50, 120, -8, 6]\n",
        "\n",
        "for x in compute:\n",
        "  y = 7.4*x + 51\n",
        "  print(f\"x = {x}\\nResult: {y}\\n\")"
      ],
      "metadata": {
        "colab": {
          "base_uri": "https://localhost:8080/"
        },
        "id": "cIfsyG2KByE_",
        "outputId": "ddfed3ff-01b6-4708-d3e9-1cd1a601d6c0"
      },
      "execution_count": 27,
      "outputs": [
        {
          "output_type": "stream",
          "name": "stdout",
          "text": [
            "60\n",
            "61\n",
            "62\n",
            "250047\n",
            "64\n",
            "65\n",
            "66\n",
            "67\n",
            "68\n",
            "69\n",
            "343000\n",
            "71\n",
            "72\n",
            "73\n",
            "74\n",
            "75\n",
            "76\n",
            "456533\n",
            "78\n",
            "79\n",
            "80\n",
            "81\n",
            "82\n",
            "83\n",
            "592704\n",
            "85\n",
            "\n",
            "Solve Equation:\n",
            "y = 7.4x + 51 \n",
            "\n",
            "x = 40\n",
            "Result: 347.0\n",
            "\n",
            "x = 50\n",
            "Result: 421.0\n",
            "\n",
            "x = 120\n",
            "Result: 939.0\n",
            "\n",
            "x = -8\n",
            "Result: -8.200000000000003\n",
            "\n",
            "x = 6\n",
            "Result: 95.4\n",
            "\n"
          ]
        }
      ]
    }
  ]
}